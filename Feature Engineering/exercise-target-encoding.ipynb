{
 "cells": [
  {
   "cell_type": "markdown",
   "id": "d0599129",
   "metadata": {
    "papermill": {
     "duration": 0.007571,
     "end_time": "2023-02-13T23:58:01.184052",
     "exception": false,
     "start_time": "2023-02-13T23:58:01.176481",
     "status": "completed"
    },
    "tags": []
   },
   "source": [
    "**This notebook is an exercise in the [Feature Engineering](https://www.kaggle.com/learn/feature-engineering) course.  You can reference the tutorial at [this link](https://www.kaggle.com/ryanholbrook/target-encoding).**\n",
    "\n",
    "---\n"
   ]
  },
  {
   "cell_type": "markdown",
   "id": "d1e0330f",
   "metadata": {
    "papermill": {
     "duration": 0.005901,
     "end_time": "2023-02-13T23:58:01.196547",
     "exception": false,
     "start_time": "2023-02-13T23:58:01.190646",
     "status": "completed"
    },
    "tags": []
   },
   "source": [
    "# Introduction #\n",
    "\n",
    "In this exercise, you'll apply target encoding to features in the [*Ames*](https://www.kaggle.com/c/house-prices-advanced-regression-techniques/data) dataset.\n",
    "\n",
    "Run this cell to set everything up!"
   ]
  },
  {
   "cell_type": "code",
   "execution_count": 1,
   "id": "f1fb76e5",
   "metadata": {
    "execution": {
     "iopub.execute_input": "2023-02-13T23:58:01.211222Z",
     "iopub.status.busy": "2023-02-13T23:58:01.210590Z",
     "iopub.status.idle": "2023-02-13T23:58:02.950457Z",
     "shell.execute_reply": "2023-02-13T23:58:02.949422Z"
    },
    "papermill": {
     "duration": 1.750602,
     "end_time": "2023-02-13T23:58:02.953224",
     "exception": false,
     "start_time": "2023-02-13T23:58:01.202622",
     "status": "completed"
    },
    "tags": []
   },
   "outputs": [],
   "source": [
    "# Setup feedback system\n",
    "from learntools.core import binder\n",
    "binder.bind(globals())\n",
    "from learntools.feature_engineering_new.ex6 import *\n",
    "\n",
    "import matplotlib.pyplot as plt\n",
    "import numpy as np\n",
    "import pandas as pd\n",
    "import seaborn as sns\n",
    "import warnings\n",
    "from category_encoders import MEstimateEncoder\n",
    "from sklearn.model_selection import cross_val_score\n",
    "from xgboost import XGBRegressor\n",
    "\n",
    "# Set Matplotlib defaults\n",
    "plt.style.use(\"seaborn-whitegrid\")\n",
    "plt.rc(\"figure\", autolayout=True)\n",
    "plt.rc(\n",
    "    \"axes\",\n",
    "    labelweight=\"bold\",\n",
    "    labelsize=\"large\",\n",
    "    titleweight=\"bold\",\n",
    "    titlesize=14,\n",
    "    titlepad=10,\n",
    ")\n",
    "warnings.filterwarnings('ignore')\n",
    "\n",
    "\n",
    "def score_dataset(X, y, model=XGBRegressor()):\n",
    "    # Label encoding for categoricals\n",
    "    for colname in X.select_dtypes([\"category\", \"object\"]):\n",
    "        X[colname], _ = X[colname].factorize()\n",
    "    # Metric for Housing competition is RMSLE (Root Mean Squared Log Error)\n",
    "    score = cross_val_score(\n",
    "        model, X, y, cv=5, scoring=\"neg_mean_squared_log_error\",\n",
    "    )\n",
    "    score = -1 * score.mean()\n",
    "    score = np.sqrt(score)\n",
    "    return score\n",
    "\n",
    "\n",
    "df = pd.read_csv(\"../input/fe-course-data/ames.csv\")"
   ]
  },
  {
   "cell_type": "markdown",
   "id": "455225de",
   "metadata": {
    "papermill": {
     "duration": 0.006171,
     "end_time": "2023-02-13T23:58:02.965707",
     "exception": false,
     "start_time": "2023-02-13T23:58:02.959536",
     "status": "completed"
    },
    "tags": []
   },
   "source": [
    "-------------------------------------------------------------------------------\n",
    "\n",
    "First you'll need to choose which features you want to apply a target encoding to. Categorical features with a large number of categories are often good candidates. Run this cell to see how many categories each categorical feature in the *Ames* dataset has."
   ]
  },
  {
   "cell_type": "code",
   "execution_count": 2,
   "id": "b6f59db7",
   "metadata": {
    "execution": {
     "iopub.execute_input": "2023-02-13T23:58:02.980103Z",
     "iopub.status.busy": "2023-02-13T23:58:02.979404Z",
     "iopub.status.idle": "2023-02-13T23:58:03.015454Z",
     "shell.execute_reply": "2023-02-13T23:58:03.014229Z"
    },
    "papermill": {
     "duration": 0.046675,
     "end_time": "2023-02-13T23:58:03.018647",
     "exception": false,
     "start_time": "2023-02-13T23:58:02.971972",
     "status": "completed"
    },
    "tags": []
   },
   "outputs": [
    {
     "data": {
      "text/plain": [
       "MSSubClass       16\n",
       "MSZoning          7\n",
       "Street            2\n",
       "Alley             3\n",
       "LotShape          4\n",
       "LandContour       4\n",
       "Utilities         3\n",
       "LotConfig         5\n",
       "LandSlope         3\n",
       "Neighborhood     28\n",
       "Condition1        9\n",
       "Condition2        8\n",
       "BldgType          5\n",
       "HouseStyle        8\n",
       "OverallQual      10\n",
       "OverallCond       9\n",
       "RoofStyle         6\n",
       "RoofMatl          8\n",
       "Exterior1st      16\n",
       "Exterior2nd      17\n",
       "MasVnrType        5\n",
       "ExterQual         4\n",
       "ExterCond         5\n",
       "Foundation        6\n",
       "BsmtQual          6\n",
       "BsmtCond          6\n",
       "BsmtExposure      5\n",
       "BsmtFinType1      7\n",
       "BsmtFinType2      7\n",
       "Heating           6\n",
       "HeatingQC         5\n",
       "CentralAir        2\n",
       "Electrical        6\n",
       "KitchenQual       5\n",
       "Functional        8\n",
       "FireplaceQu       6\n",
       "GarageType        7\n",
       "GarageFinish      4\n",
       "GarageQual        6\n",
       "GarageCond        6\n",
       "PavedDrive        3\n",
       "PoolQC            5\n",
       "Fence             5\n",
       "MiscFeature       6\n",
       "SaleType         10\n",
       "SaleCondition     6\n",
       "dtype: int64"
      ]
     },
     "execution_count": 2,
     "metadata": {},
     "output_type": "execute_result"
    }
   ],
   "source": [
    "df.select_dtypes([\"object\"]).nunique()"
   ]
  },
  {
   "cell_type": "markdown",
   "id": "be19ed66",
   "metadata": {
    "papermill": {
     "duration": 0.006079,
     "end_time": "2023-02-13T23:58:03.031440",
     "exception": false,
     "start_time": "2023-02-13T23:58:03.025361",
     "status": "completed"
    },
    "tags": []
   },
   "source": [
    "We talked about how the M-estimate encoding uses smoothing to improve estimates for rare categories. To see how many times a category occurs in the dataset, you can use the `value_counts` method. This cell shows the counts for `SaleType`, but you might want to consider others as well."
   ]
  },
  {
   "cell_type": "code",
   "execution_count": 3,
   "id": "18eca292",
   "metadata": {
    "execution": {
     "iopub.execute_input": "2023-02-13T23:58:03.046028Z",
     "iopub.status.busy": "2023-02-13T23:58:03.045595Z",
     "iopub.status.idle": "2023-02-13T23:58:03.057703Z",
     "shell.execute_reply": "2023-02-13T23:58:03.056641Z"
    },
    "papermill": {
     "duration": 0.021921,
     "end_time": "2023-02-13T23:58:03.059729",
     "exception": false,
     "start_time": "2023-02-13T23:58:03.037808",
     "status": "completed"
    },
    "tags": []
   },
   "outputs": [
    {
     "data": {
      "text/plain": [
       "WD       2536\n",
       "New       239\n",
       "COD        87\n",
       "ConLD      26\n",
       "CWD        12\n",
       "ConLI       9\n",
       "ConLw       8\n",
       "Oth         7\n",
       "Con         5\n",
       "VWD         1\n",
       "Name: SaleType, dtype: int64"
      ]
     },
     "execution_count": 3,
     "metadata": {},
     "output_type": "execute_result"
    }
   ],
   "source": [
    "df[\"SaleType\"].value_counts()"
   ]
  },
  {
   "cell_type": "markdown",
   "id": "b6cc472a",
   "metadata": {
    "papermill": {
     "duration": 0.006161,
     "end_time": "2023-02-13T23:58:03.072478",
     "exception": false,
     "start_time": "2023-02-13T23:58:03.066317",
     "status": "completed"
    },
    "tags": []
   },
   "source": [
    "# 1) Choose Features for Encoding\n",
    "\n",
    "Which features did you identify for target encoding? After you've thought about your answer, run the next cell for some discussion."
   ]
  },
  {
   "cell_type": "code",
   "execution_count": 4,
   "id": "0838eaa2",
   "metadata": {
    "execution": {
     "iopub.execute_input": "2023-02-13T23:58:03.087594Z",
     "iopub.status.busy": "2023-02-13T23:58:03.086742Z",
     "iopub.status.idle": "2023-02-13T23:58:03.095732Z",
     "shell.execute_reply": "2023-02-13T23:58:03.094634Z"
    },
    "papermill": {
     "duration": 0.018951,
     "end_time": "2023-02-13T23:58:03.097882",
     "exception": false,
     "start_time": "2023-02-13T23:58:03.078931",
     "status": "completed"
    },
    "tags": []
   },
   "outputs": [
    {
     "data": {
      "application/javascript": [
       "parent.postMessage({\"jupyterEvent\": \"custom.exercise_interaction\", \"data\": {\"outcomeType\": 1, \"valueTowardsCompletion\": 0.3333333333333333, \"interactionType\": 1, \"questionType\": 4, \"questionId\": \"1_Q1\", \"learnToolsVersion\": \"0.3.4\", \"failureMessage\": \"\", \"exceptionClass\": \"\", \"trace\": \"\"}}, \"*\")"
      ],
      "text/plain": [
       "<IPython.core.display.Javascript object>"
      ]
     },
     "metadata": {},
     "output_type": "display_data"
    },
    {
     "data": {
      "text/markdown": [
       "<span style=\"color:#33cc33\">Correct:</span> \n",
       "\n",
       " The `Neighborhood` feature looks promising. It has the most categories of any feature, and several categories are rare. Others that could be worth considering are `SaleType`, `MSSubClass`, `Exterior1st`, `Exterior2nd`. In fact, almost any of the nominal features would be worth trying because of the prevalence of rare categories."
      ],
      "text/plain": [
       "Correct: \n",
       "\n",
       " The `Neighborhood` feature looks promising. It has the most categories of any feature, and several categories are rare. Others that could be worth considering are `SaleType`, `MSSubClass`, `Exterior1st`, `Exterior2nd`. In fact, almost any of the nominal features would be worth trying because of the prevalence of rare categories."
      ]
     },
     "metadata": {},
     "output_type": "display_data"
    }
   ],
   "source": [
    "# View the solution (Run this cell to receive credit!)\n",
    "q_1.check()"
   ]
  },
  {
   "cell_type": "markdown",
   "id": "fb68d464",
   "metadata": {
    "papermill": {
     "duration": 0.006407,
     "end_time": "2023-02-13T23:58:03.111017",
     "exception": false,
     "start_time": "2023-02-13T23:58:03.104610",
     "status": "completed"
    },
    "tags": []
   },
   "source": [
    "-------------------------------------------------------------------------------\n",
    "\n",
    "Now you'll apply a target encoding to your choice of feature. As we discussed in the tutorial, to avoid overfitting, we need to fit the encoder on data heldout from the training set. Run this cell to create the encoding and training splits:"
   ]
  },
  {
   "cell_type": "code",
   "execution_count": 5,
   "id": "30b9039a",
   "metadata": {
    "execution": {
     "iopub.execute_input": "2023-02-13T23:58:03.125935Z",
     "iopub.status.busy": "2023-02-13T23:58:03.125491Z",
     "iopub.status.idle": "2023-02-13T23:58:03.139947Z",
     "shell.execute_reply": "2023-02-13T23:58:03.138723Z"
    },
    "lines_to_next_cell": 2,
    "papermill": {
     "duration": 0.024853,
     "end_time": "2023-02-13T23:58:03.142487",
     "exception": false,
     "start_time": "2023-02-13T23:58:03.117634",
     "status": "completed"
    },
    "tags": []
   },
   "outputs": [],
   "source": [
    "# Encoding split\n",
    "X_encode = df.sample(frac=0.20, random_state=0)\n",
    "y_encode = X_encode.pop(\"SalePrice\")\n",
    "\n",
    "# Training split\n",
    "X_pretrain = df.drop(X_encode.index)\n",
    "y_train = X_pretrain.pop(\"SalePrice\")"
   ]
  },
  {
   "cell_type": "markdown",
   "id": "8450b19d",
   "metadata": {
    "papermill": {
     "duration": 0.006406,
     "end_time": "2023-02-13T23:58:03.155640",
     "exception": false,
     "start_time": "2023-02-13T23:58:03.149234",
     "status": "completed"
    },
    "tags": []
   },
   "source": [
    "# 2) Apply M-Estimate Encoding\n",
    "\n",
    "Apply a target encoding to your choice of categorical features. Also choose a value for the smoothing parameter `m` (any value is okay for a correct answer)."
   ]
  },
  {
   "cell_type": "code",
   "execution_count": 6,
   "id": "6887edac",
   "metadata": {
    "execution": {
     "iopub.execute_input": "2023-02-13T23:58:03.170539Z",
     "iopub.status.busy": "2023-02-13T23:58:03.170147Z",
     "iopub.status.idle": "2023-02-13T23:58:03.259190Z",
     "shell.execute_reply": "2023-02-13T23:58:03.258286Z"
    },
    "lines_to_next_cell": 0,
    "papermill": {
     "duration": 0.099259,
     "end_time": "2023-02-13T23:58:03.261502",
     "exception": false,
     "start_time": "2023-02-13T23:58:03.162243",
     "status": "completed"
    },
    "tags": []
   },
   "outputs": [
    {
     "data": {
      "application/javascript": [
       "parent.postMessage({\"jupyterEvent\": \"custom.exercise_interaction\", \"data\": {\"outcomeType\": 1, \"valueTowardsCompletion\": 0.3333333333333333, \"interactionType\": 1, \"questionType\": 2, \"questionId\": \"2_Q2\", \"learnToolsVersion\": \"0.3.4\", \"failureMessage\": \"\", \"exceptionClass\": \"\", \"trace\": \"\"}}, \"*\")"
      ],
      "text/plain": [
       "<IPython.core.display.Javascript object>"
      ]
     },
     "metadata": {},
     "output_type": "display_data"
    },
    {
     "data": {
      "text/markdown": [
       "<span style=\"color:#33cc33\">Correct</span>"
      ],
      "text/plain": [
       "Correct"
      ]
     },
     "metadata": {},
     "output_type": "display_data"
    }
   ],
   "source": [
    "# YOUR CODE HERE: Create the MEstimateEncoder\n",
    "# Choose a set of features to encode and a value for m\n",
    "encoder = MEstimateEncoder(\n",
    "    cols=[\"Neighborhood\"],\n",
    "    m=1.0,\n",
    ")\n",
    "\n",
    "\n",
    "# Fit the encoder on the encoding split\n",
    "encoder.fit(X_encode, y_encode)\n",
    "\n",
    "# Encode the training split\n",
    "X_train = encoder.transform(X_pretrain, y_train)\n",
    "\n",
    "\n",
    "# Check your answer\n",
    "q_2.check()"
   ]
  },
  {
   "cell_type": "code",
   "execution_count": 7,
   "id": "47ac6932",
   "metadata": {
    "execution": {
     "iopub.execute_input": "2023-02-13T23:58:03.278251Z",
     "iopub.status.busy": "2023-02-13T23:58:03.277259Z",
     "iopub.status.idle": "2023-02-13T23:58:03.282793Z",
     "shell.execute_reply": "2023-02-13T23:58:03.281749Z"
    },
    "lines_to_next_cell": 0,
    "papermill": {
     "duration": 0.016617,
     "end_time": "2023-02-13T23:58:03.285035",
     "exception": false,
     "start_time": "2023-02-13T23:58:03.268418",
     "status": "completed"
    },
    "tags": []
   },
   "outputs": [],
   "source": [
    "# Lines below will give you a hint or solution code\n",
    "#q_2.hint()\n",
    "#q_2.solution()"
   ]
  },
  {
   "cell_type": "markdown",
   "id": "76c01dff",
   "metadata": {
    "papermill": {
     "duration": 0.006501,
     "end_time": "2023-02-13T23:58:03.298367",
     "exception": false,
     "start_time": "2023-02-13T23:58:03.291866",
     "status": "completed"
    },
    "tags": []
   },
   "source": [
    "If you'd like to see how the encoded feature compares to the target, you can run this cell:"
   ]
  },
  {
   "cell_type": "code",
   "execution_count": 8,
   "id": "7c313d28",
   "metadata": {
    "execution": {
     "iopub.execute_input": "2023-02-13T23:58:03.313986Z",
     "iopub.status.busy": "2023-02-13T23:58:03.313328Z",
     "iopub.status.idle": "2023-02-13T23:58:03.657165Z",
     "shell.execute_reply": "2023-02-13T23:58:03.655720Z"
    },
    "papermill": {
     "duration": 0.354652,
     "end_time": "2023-02-13T23:58:03.659711",
     "exception": false,
     "start_time": "2023-02-13T23:58:03.305059",
     "status": "completed"
    },
    "tags": []
   },
   "outputs": [
    {
     "data": {
      "image/png": "[encoded data removed]",
      "text/plain": [
       "<Figure size 540x360 with 1 Axes>"
      ]
     },
     "metadata": {},
     "output_type": "display_data"
    }
   ],
   "source": [
    "feature = encoder.cols\n",
    "\n",
    "plt.figure(dpi=90)\n",
    "ax = sns.distplot(y_train, kde=True, hist=False)\n",
    "ax = sns.distplot(X_train[feature], color='r', ax=ax, hist=True, kde=False, norm_hist=True)\n",
    "ax.set_xlabel(\"SalePrice\");"
   ]
  },
  {
   "cell_type": "markdown",
   "id": "69371076",
   "metadata": {
    "papermill": {
     "duration": 0.007071,
     "end_time": "2023-02-13T23:58:03.674346",
     "exception": false,
     "start_time": "2023-02-13T23:58:03.667275",
     "status": "completed"
    },
    "tags": []
   },
   "source": [
    "From the distribution plots, does it seem like the encoding is informative?\n",
    "\n",
    "And this cell will show you the score of the encoded set compared to the original set:"
   ]
  },
  {
   "cell_type": "code",
   "execution_count": 9,
   "id": "590f1cf7",
   "metadata": {
    "execution": {
     "iopub.execute_input": "2023-02-13T23:58:03.691667Z",
     "iopub.status.busy": "2023-02-13T23:58:03.690772Z",
     "iopub.status.idle": "2023-02-13T23:58:11.825333Z",
     "shell.execute_reply": "2023-02-13T23:58:11.823546Z"
    },
    "papermill": {
     "duration": 8.146948,
     "end_time": "2023-02-13T23:58:11.828596",
     "exception": false,
     "start_time": "2023-02-13T23:58:03.681648",
     "status": "completed"
    },
    "tags": []
   },
   "outputs": [
    {
     "name": "stdout",
     "output_type": "stream",
     "text": [
      "Baseline Score: 0.1428 RMSLE\n",
      "Score with Encoding: 0.1402 RMSLE\n"
     ]
    }
   ],
   "source": [
    "X = df.copy()\n",
    "y = X.pop(\"SalePrice\")\n",
    "score_base = score_dataset(X, y)\n",
    "score_new = score_dataset(X_train, y_train)\n",
    "\n",
    "print(f\"Baseline Score: {score_base:.4f} RMSLE\")\n",
    "print(f\"Score with Encoding: {score_new:.4f} RMSLE\")"
   ]
  },
  {
   "cell_type": "markdown",
   "id": "bbc0e9bb",
   "metadata": {
    "papermill": {
     "duration": 0.007234,
     "end_time": "2023-02-13T23:58:11.843426",
     "exception": false,
     "start_time": "2023-02-13T23:58:11.836192",
     "status": "completed"
    },
    "tags": []
   },
   "source": [
    "Do you think that target encoding was worthwhile in this case? Depending on which feature or features you chose, you may have ended up with a score significantly worse than the baseline. In that case, it's likely the extra information gained by the encoding couldn't make up for the loss of data used for the encoding."
   ]
  },
  {
   "cell_type": "markdown",
   "id": "5d62b899",
   "metadata": {
    "papermill": {
     "duration": 0.007047,
     "end_time": "2023-02-13T23:58:11.858185",
     "exception": false,
     "start_time": "2023-02-13T23:58:11.851138",
     "status": "completed"
    },
    "tags": []
   },
   "source": [
    "-------------------------------------------------------------------------------\n",
    "\n",
    "In this question, you'll explore the problem of overfitting with target encodings. This will illustrate this importance of training fitting target encoders on data held-out from the training set.\n",
    "\n",
    "So let's see what happens when we fit the encoder and the model on the *same* dataset. To emphasize how dramatic the overfitting can be, we'll mean-encode a feature that should have no relationship with `SalePrice`, a count: `0, 1, 2, 3, 4, 5, ...`."
   ]
  },
  {
   "cell_type": "code",
   "execution_count": 10,
   "id": "fe1fbb18",
   "metadata": {
    "execution": {
     "iopub.execute_input": "2023-02-13T23:58:11.875152Z",
     "iopub.status.busy": "2023-02-13T23:58:11.874448Z",
     "iopub.status.idle": "2023-02-13T23:58:16.375593Z",
     "shell.execute_reply": "2023-02-13T23:58:16.374096Z"
    },
    "papermill": {
     "duration": 4.513256,
     "end_time": "2023-02-13T23:58:16.378802",
     "exception": false,
     "start_time": "2023-02-13T23:58:11.865546",
     "status": "completed"
    },
    "tags": []
   },
   "outputs": [
    {
     "name": "stdout",
     "output_type": "stream",
     "text": [
      "Score: 0.0293 RMSLE\n"
     ]
    }
   ],
   "source": [
    "# Try experimenting with the smoothing parameter m\n",
    "# Try 0, 1, 5, 50\n",
    "m = 0\n",
    "\n",
    "X = df.copy()\n",
    "y = X.pop('SalePrice')\n",
    "\n",
    "# Create an uninformative feature\n",
    "X[\"Count\"] = range(len(X))\n",
    "X[\"Count\"][1] = 0  # actually need one duplicate value to circumvent error-checking in MEstimateEncoder\n",
    "\n",
    "# fit and transform on the same dataset\n",
    "encoder = MEstimateEncoder(cols=\"Count\", m=m)\n",
    "X = encoder.fit_transform(X, y)\n",
    "\n",
    "# Results\n",
    "score =  score_dataset(X, y)\n",
    "print(f\"Score: {score:.4f} RMSLE\")"
   ]
  },
  {
   "cell_type": "markdown",
   "id": "c175f506",
   "metadata": {
    "papermill": {
     "duration": 0.007182,
     "end_time": "2023-02-13T23:58:16.393686",
     "exception": false,
     "start_time": "2023-02-13T23:58:16.386504",
     "status": "completed"
    },
    "tags": []
   },
   "source": [
    "Almost a perfect score!"
   ]
  },
  {
   "cell_type": "code",
   "execution_count": 11,
   "id": "4a48430c",
   "metadata": {
    "execution": {
     "iopub.execute_input": "2023-02-13T23:58:16.410374Z",
     "iopub.status.busy": "2023-02-13T23:58:16.409955Z",
     "iopub.status.idle": "2023-02-13T23:58:16.766357Z",
     "shell.execute_reply": "2023-02-13T23:58:16.764983Z"
    },
    "papermill": {
     "duration": 0.367748,
     "end_time": "2023-02-13T23:58:16.768935",
     "exception": false,
     "start_time": "2023-02-13T23:58:16.401187",
     "status": "completed"
    },
    "tags": []
   },
   "outputs": [
    {
     "data": {
      "image/png": "[encoded data removed]",
      "text/plain": [
       "<Figure size 540x360 with 1 Axes>"
      ]
     },
     "metadata": {},
     "output_type": "display_data"
    }
   ],
   "source": [
    "plt.figure(dpi=90)\n",
    "ax = sns.distplot(y, kde=True, hist=False)\n",
    "ax = sns.distplot(X[\"Count\"], color='r', ax=ax, hist=True, kde=False, norm_hist=True)\n",
    "ax.set_xlabel(\"SalePrice\");"
   ]
  },
  {
   "cell_type": "markdown",
   "id": "3180e8f7",
   "metadata": {
    "papermill": {
     "duration": 0.007365,
     "end_time": "2023-02-13T23:58:16.784392",
     "exception": false,
     "start_time": "2023-02-13T23:58:16.777027",
     "status": "completed"
    },
    "tags": []
   },
   "source": [
    "And the distributions are almost exactly the same, too.\n",
    "\n",
    "# 3) Overfitting with Target Encoders\n",
    "\n",
    "Based on your understanding of how mean-encoding works, can you explain how XGBoost was able to get an almost a perfect fit after mean-encoding the count feature?"
   ]
  },
  {
   "cell_type": "code",
   "execution_count": 12,
   "id": "456b97d4",
   "metadata": {
    "execution": {
     "iopub.execute_input": "2023-02-13T23:58:16.801765Z",
     "iopub.status.busy": "2023-02-13T23:58:16.801345Z",
     "iopub.status.idle": "2023-02-13T23:58:16.810997Z",
     "shell.execute_reply": "2023-02-13T23:58:16.809627Z"
    },
    "lines_to_next_cell": 0,
    "papermill": {
     "duration": 0.020844,
     "end_time": "2023-02-13T23:58:16.813180",
     "exception": false,
     "start_time": "2023-02-13T23:58:16.792336",
     "status": "completed"
    },
    "tags": []
   },
   "outputs": [
    {
     "data": {
      "application/javascript": [
       "parent.postMessage({\"jupyterEvent\": \"custom.exercise_interaction\", \"data\": {\"outcomeType\": 1, \"valueTowardsCompletion\": 0.3333333333333333, \"interactionType\": 1, \"questionType\": 4, \"questionId\": \"3_Q3\", \"learnToolsVersion\": \"0.3.4\", \"failureMessage\": \"\", \"exceptionClass\": \"\", \"trace\": \"\"}}, \"*\")"
      ],
      "text/plain": [
       "<IPython.core.display.Javascript object>"
      ]
     },
     "metadata": {},
     "output_type": "display_data"
    },
    {
     "data": {
      "text/markdown": [
       "<span style=\"color:#33cc33\">Correct:</span> \n",
       "\n",
       "\n",
       "Since `Count` never has any duplicate values, the mean-encoded `Count` is essentially an exact copy of the target. In other words, mean-encoding turned a completely meaningless feature into a perfect feature.\n",
       "\n",
       "Now, the only reason this worked is because we trained XGBoost on the same set we used to train the encoder. If we had used a hold-out set instead, none of this \"fake\" encoding would have transferred to the training data.\n",
       "\n",
       "The lesson is that when using a target encoder it's very important to use separate data sets for training the encoder and training the model. Otherwise the results can be very disappointing!\n"
      ],
      "text/plain": [
       "Correct: \n",
       "\n",
       "\n",
       "Since `Count` never has any duplicate values, the mean-encoded `Count` is essentially an exact copy of the target. In other words, mean-encoding turned a completely meaningless feature into a perfect feature.\n",
       "\n",
       "Now, the only reason this worked is because we trained XGBoost on the same set we used to train the encoder. If we had used a hold-out set instead, none of this \"fake\" encoding would have transferred to the training data.\n",
       "\n",
       "The lesson is that when using a target encoder it's very important to use separate data sets for training the encoder and training the model. Otherwise the results can be very disappointing!"
      ]
     },
     "metadata": {},
     "output_type": "display_data"
    }
   ],
   "source": [
    "# View the solution (Run this cell to receive credit!)\n",
    "q_3.check()"
   ]
  },
  {
   "cell_type": "code",
   "execution_count": 13,
   "id": "d9c88eb3",
   "metadata": {
    "execution": {
     "iopub.execute_input": "2023-02-13T23:58:16.832200Z",
     "iopub.status.busy": "2023-02-13T23:58:16.831749Z",
     "iopub.status.idle": "2023-02-13T23:58:16.835605Z",
     "shell.execute_reply": "2023-02-13T23:58:16.834764Z"
    },
    "papermill": {
     "duration": 0.016378,
     "end_time": "2023-02-13T23:58:16.837845",
     "exception": false,
     "start_time": "2023-02-13T23:58:16.821467",
     "status": "completed"
    },
    "tags": []
   },
   "outputs": [],
   "source": [
    "# Uncomment this if you'd like a hint before seeing the answer\n",
    "#q_3.hint()"
   ]
  },
  {
   "cell_type": "markdown",
   "id": "a46edd03",
   "metadata": {
    "papermill": {
     "duration": 0.009135,
     "end_time": "2023-02-13T23:58:16.855728",
     "exception": false,
     "start_time": "2023-02-13T23:58:16.846593",
     "status": "completed"
    },
    "tags": []
   },
   "source": [
    "# The End #\n",
    "\n",
    "That's it for *Feature Engineering*! We hope you enjoyed your time with us.\n",
    "\n",
    "Now, are you ready to try out your new skills? Now would be a great time to join our [Housing Prices](https://www.kaggle.com/c/house-prices-advanced-regression-techniques) Getting Started competition. We've even prepared a [Bonus Lesson](https://www.kaggle.com/ryanholbrook/feature-engineering-for-house-prices) that collects all the work we've done together into a starter notebook.\n",
    "\n",
    "# References #\n",
    "Here are some great resources you might like to consult for more information. They all played a part in shaping this course:\n",
    "- *The Art of Feature Engineering*, a book by Pablo Duboue.\n",
    "- *An Empirical Analysis of Feature Engineering for Predictive Modeling*, an article by Jeff Heaton.\n",
    "- *Feature Engineering for Machine Learning*, a book by Alice Zheng and Amanda Casari. The tutorial on clustering was inspired by this excellent book.\n",
    "- *Feature Engineering and Selection*, a book by Max Kuhn and Kjell Johnson."
   ]
  },
  {
   "cell_type": "markdown",
   "id": "c2bf2cd7",
   "metadata": {
    "papermill": {
     "duration": 0.007836,
     "end_time": "2023-02-13T23:58:16.872349",
     "exception": false,
     "start_time": "2023-02-13T23:58:16.864513",
     "status": "completed"
    },
    "tags": []
   },
   "source": [
    "---\n",
    "\n",
    "\n",
    "\n",
    "\n",
    "*Have questions or comments? Visit the [course discussion forum](https://www.kaggle.com/learn/feature-engineering/discussion) to chat with other learners.*"
   ]
  }
 ],
 "metadata": {
  "kernelspec": {
   "display_name": "Python 3",
   "language": "python",
   "name": "python3"
  },
  "language_info": {
   "codemirror_mode": {
    "name": "ipython",
    "version": 3
   },
   "file_extension": ".py",
   "mimetype": "text/x-python",
   "name": "python",
   "nbconvert_exporter": "python",
   "pygments_lexer": "ipython3",
   "version": "3.7.12"
  },
  "papermill": {
   "default_parameters": {},
   "duration": 25.055391,
   "end_time": "2023-02-13T23:58:17.703975",
   "environment_variables": {},
   "exception": null,
   "input_path": "__notebook__.ipynb",
   "output_path": "__notebook__.ipynb",
   "parameters": {},
   "start_time": "2023-02-13T23:57:52.648584",
   "version": "2.3.4"
  }
 },
 "nbformat": 4,
 "nbformat_minor": 5
}
