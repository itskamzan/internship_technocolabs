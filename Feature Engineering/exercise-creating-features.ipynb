{
 "cells": [
  {
   "cell_type": "markdown",
   "id": "c79d7f76",
   "metadata": {
    "papermill": {
     "duration": 0.005634,
     "end_time": "2023-02-13T22:45:50.477743",
     "exception": false,
     "start_time": "2023-02-13T22:45:50.472109",
     "status": "completed"
    },
    "tags": []
   },
   "source": [
    "**This notebook is an exercise in the [Feature Engineering](https://www.kaggle.com/learn/feature-engineering) course.  You can reference the tutorial at [this link](https://www.kaggle.com/ryanholbrook/creating-features).**\n",
    "\n",
    "---\n"
   ]
  },
  {
   "cell_type": "markdown",
   "id": "32897864",
   "metadata": {
    "papermill": {
     "duration": 0.004386,
     "end_time": "2023-02-13T22:45:50.486960",
     "exception": false,
     "start_time": "2023-02-13T22:45:50.482574",
     "status": "completed"
    },
    "tags": []
   },
   "source": [
    "# Introduction #\n",
    "\n",
    "In this exercise you'll start developing the features you identified in Exercise 2 as having the most potential. As you work through this exercise, you might take a moment to look at the data documentation again and consider whether the features we're creating make sense from a real-world perspective, and whether there are any useful combinations that stand out to you.\n",
    "\n",
    "Run this cell to set everything up!"
   ]
  },
  {
   "cell_type": "code",
   "execution_count": 1,
   "id": "4a050993",
   "metadata": {
    "execution": {
     "iopub.execute_input": "2023-02-13T22:45:50.498307Z",
     "iopub.status.busy": "2023-02-13T22:45:50.497719Z",
     "iopub.status.idle": "2023-02-13T22:45:51.794168Z",
     "shell.execute_reply": "2023-02-13T22:45:51.792907Z"
    },
    "papermill": {
     "duration": 1.305129,
     "end_time": "2023-02-13T22:45:51.796746",
     "exception": false,
     "start_time": "2023-02-13T22:45:50.491617",
     "status": "completed"
    },
    "tags": []
   },
   "outputs": [],
   "source": [
    "# Setup feedback system\n",
    "from learntools.core import binder\n",
    "binder.bind(globals())\n",
    "from learntools.feature_engineering_new.ex3 import *\n",
    "\n",
    "import numpy as np\n",
    "import pandas as pd\n",
    "from sklearn.model_selection import cross_val_score\n",
    "from xgboost import XGBRegressor\n",
    "\n",
    "\n",
    "def score_dataset(X, y, model=XGBRegressor()):\n",
    "    # Label encoding for categoricals\n",
    "    for colname in X.select_dtypes([\"category\", \"object\"]):\n",
    "        X[colname], _ = X[colname].factorize()\n",
    "    # Metric for Housing competition is RMSLE (Root Mean Squared Log Error)\n",
    "    score = cross_val_score(\n",
    "        model, X, y, cv=5, scoring=\"neg_mean_squared_log_error\",\n",
    "    )\n",
    "    score = -1 * score.mean()\n",
    "    score = np.sqrt(score)\n",
    "    return score\n",
    "\n",
    "\n",
    "# Prepare data\n",
    "df = pd.read_csv(\"../input/fe-course-data/ames.csv\")\n",
    "X = df.copy()\n",
    "y = X.pop(\"SalePrice\")"
   ]
  },
  {
   "cell_type": "markdown",
   "id": "11d87659",
   "metadata": {
    "papermill": {
     "duration": 0.005057,
     "end_time": "2023-02-13T22:45:51.806772",
     "exception": false,
     "start_time": "2023-02-13T22:45:51.801715",
     "status": "completed"
    },
    "tags": []
   },
   "source": [
    "-------------------------------------------------------------------------------\n",
    "\n",
    "Let's start with a few mathematical combinations. We'll focus on features describing areas -- having the same units (square-feet) makes it easy to combine them in sensible ways. Since we're using XGBoost (a tree-based model), we'll focus on ratios and sums.\n",
    "\n",
    "# 1) Create Mathematical Transforms\n",
    "\n",
    "Create the following features:\n",
    "\n",
    "- `LivLotRatio`: the ratio of `GrLivArea` to `LotArea`\n",
    "- `Spaciousness`: the sum of `FirstFlrSF` and `SecondFlrSF` divided by `TotRmsAbvGrd`\n",
    "- `TotalOutsideSF`: the sum of `WoodDeckSF`, `OpenPorchSF`, `EnclosedPorch`, `Threeseasonporch`, and `ScreenPorch`"
   ]
  },
  {
   "cell_type": "code",
   "execution_count": 2,
   "id": "a6cf3eab",
   "metadata": {
    "execution": {
     "iopub.execute_input": "2023-02-13T22:45:51.818704Z",
     "iopub.status.busy": "2023-02-13T22:45:51.818289Z",
     "iopub.status.idle": "2023-02-13T22:45:51.844579Z",
     "shell.execute_reply": "2023-02-13T22:45:51.843455Z"
    },
    "lines_to_next_cell": 0,
    "papermill": {
     "duration": 0.034599,
     "end_time": "2023-02-13T22:45:51.846479",
     "exception": false,
     "start_time": "2023-02-13T22:45:51.811880",
     "status": "completed"
    },
    "tags": []
   },
   "outputs": [
    {
     "data": {
      "application/javascript": [
       "parent.postMessage({\"jupyterEvent\": \"custom.exercise_interaction\", \"data\": {\"outcomeType\": 1, \"valueTowardsCompletion\": 0.2, \"interactionType\": 1, \"questionType\": 2, \"questionId\": \"1_Q1\", \"learnToolsVersion\": \"0.3.4\", \"failureMessage\": \"\", \"exceptionClass\": \"\", \"trace\": \"\"}}, \"*\")"
      ],
      "text/plain": [
       "<IPython.core.display.Javascript object>"
      ]
     },
     "metadata": {},
     "output_type": "display_data"
    },
    {
     "data": {
      "text/markdown": [
       "<span style=\"color:#33cc33\">Correct</span>"
      ],
      "text/plain": [
       "Correct"
      ]
     },
     "metadata": {},
     "output_type": "display_data"
    }
   ],
   "source": [
    "# YOUR CODE HERE\n",
    "X_1 = pd.DataFrame()  # dataframe to hold new features\n",
    "\n",
    "X_1[\"LivLotRatio\"] = X['GrLivArea'] / X['LotArea']\n",
    "X_1[\"Spaciousness\"] = (X['FirstFlrSF'] + X['SecondFlrSF']) / X['TotRmsAbvGrd']\n",
    "X_1[\"TotalOutsideSF\"] = X['WoodDeckSF'] + X['OpenPorchSF'] + X['EnclosedPorch'] + X['Threeseasonporch'] + X['ScreenPorch']\n",
    "\n",
    "# Check your answer\n",
    "q_1.check()"
   ]
  },
  {
   "cell_type": "code",
   "execution_count": 3,
   "id": "0e5f1d4a",
   "metadata": {
    "execution": {
     "iopub.execute_input": "2023-02-13T22:45:51.858051Z",
     "iopub.status.busy": "2023-02-13T22:45:51.857675Z",
     "iopub.status.idle": "2023-02-13T22:45:51.861658Z",
     "shell.execute_reply": "2023-02-13T22:45:51.860798Z"
    },
    "lines_to_next_cell": 0,
    "papermill": {
     "duration": 0.011892,
     "end_time": "2023-02-13T22:45:51.863507",
     "exception": false,
     "start_time": "2023-02-13T22:45:51.851615",
     "status": "completed"
    },
    "tags": []
   },
   "outputs": [],
   "source": [
    "# Lines below will give you a hint or solution code\n",
    "#q_1.hint()\n",
    "#q_1.solution()"
   ]
  },
  {
   "cell_type": "markdown",
   "id": "2b9bd300",
   "metadata": {
    "papermill": {
     "duration": 0.004921,
     "end_time": "2023-02-13T22:45:51.873696",
     "exception": false,
     "start_time": "2023-02-13T22:45:51.868775",
     "status": "completed"
    },
    "tags": []
   },
   "source": [
    "-------------------------------------------------------------------------------\n",
    "\n",
    "If you've discovered an interaction effect between a numeric feature and a categorical feature, you might want to model it explicitly using a one-hot encoding, like so:\n",
    "\n",
    "```\n",
    "# One-hot encode Categorical feature, adding a column prefix \"Cat\"\n",
    "X_new = pd.get_dummies(df.Categorical, prefix=\"Cat\")\n",
    "\n",
    "# Multiply row-by-row\n",
    "X_new = X_new.mul(df.Continuous, axis=0)\n",
    "\n",
    "# Join the new features to the feature set\n",
    "X = X.join(X_new)\n",
    "```\n",
    "\n",
    "# 2) Interaction with a Categorical\n",
    "\n",
    "We discovered an interaction between `BldgType` and `GrLivArea` in Exercise 2. Now create their interaction features."
   ]
  },
  {
   "cell_type": "code",
   "execution_count": 4,
   "id": "d73d7886",
   "metadata": {
    "execution": {
     "iopub.execute_input": "2023-02-13T22:45:51.885389Z",
     "iopub.status.busy": "2023-02-13T22:45:51.885021Z",
     "iopub.status.idle": "2023-02-13T22:45:51.901072Z",
     "shell.execute_reply": "2023-02-13T22:45:51.900078Z"
    },
    "lines_to_next_cell": 0,
    "papermill": {
     "duration": 0.024232,
     "end_time": "2023-02-13T22:45:51.903019",
     "exception": false,
     "start_time": "2023-02-13T22:45:51.878787",
     "status": "completed"
    },
    "tags": []
   },
   "outputs": [
    {
     "data": {
      "application/javascript": [
       "parent.postMessage({\"jupyterEvent\": \"custom.exercise_interaction\", \"data\": {\"outcomeType\": 1, \"valueTowardsCompletion\": 0.2, \"interactionType\": 1, \"questionType\": 2, \"questionId\": \"2_Q2\", \"learnToolsVersion\": \"0.3.4\", \"failureMessage\": \"\", \"exceptionClass\": \"\", \"trace\": \"\"}}, \"*\")"
      ],
      "text/plain": [
       "<IPython.core.display.Javascript object>"
      ]
     },
     "metadata": {},
     "output_type": "display_data"
    },
    {
     "data": {
      "text/markdown": [
       "<span style=\"color:#33cc33\">Correct</span>"
      ],
      "text/plain": [
       "Correct"
      ]
     },
     "metadata": {},
     "output_type": "display_data"
    }
   ],
   "source": [
    "# YOUR CODE HERE\n",
    "# One-hot encode BldgType. Use `prefix=\"Bldg\"` in `get_dummies`\n",
    "X_2 = pd.get_dummies(df.BldgType, prefix=\"Bldg\")\n",
    "# Multiply\n",
    "X_2 = X_2.mul(df.GrLivArea, axis=0)\n",
    "\n",
    "\n",
    "# Check your answer\n",
    "q_2.check()"
   ]
  },
  {
   "cell_type": "code",
   "execution_count": 5,
   "id": "6f08f60c",
   "metadata": {
    "execution": {
     "iopub.execute_input": "2023-02-13T22:45:51.915447Z",
     "iopub.status.busy": "2023-02-13T22:45:51.914979Z",
     "iopub.status.idle": "2023-02-13T22:45:51.919465Z",
     "shell.execute_reply": "2023-02-13T22:45:51.918574Z"
    },
    "lines_to_next_cell": 0,
    "papermill": {
     "duration": 0.013574,
     "end_time": "2023-02-13T22:45:51.922132",
     "exception": false,
     "start_time": "2023-02-13T22:45:51.908558",
     "status": "completed"
    },
    "tags": []
   },
   "outputs": [],
   "source": [
    "# Lines below will give you a hint or solution code\n",
    "#q_2.hint()\n",
    "#q_2.solution()"
   ]
  },
  {
   "cell_type": "markdown",
   "id": "797d0099",
   "metadata": {
    "lines_to_next_cell": 0,
    "papermill": {
     "duration": 0.005191,
     "end_time": "2023-02-13T22:45:51.932861",
     "exception": false,
     "start_time": "2023-02-13T22:45:51.927670",
     "status": "completed"
    },
    "tags": []
   },
   "source": [
    "# 3) Count Feature\n",
    "\n",
    "Let's try creating a feature that describes how many kinds of outdoor areas a dwelling has. Create a feature `PorchTypes` that counts how many of the following are greater than 0.0:\n",
    "\n",
    "```\n",
    "WoodDeckSF\n",
    "OpenPorchSF\n",
    "EnclosedPorch\n",
    "Threeseasonporch\n",
    "ScreenPorch\n",
    "```"
   ]
  },
  {
   "cell_type": "code",
   "execution_count": 6,
   "id": "22a025b2",
   "metadata": {
    "execution": {
     "iopub.execute_input": "2023-02-13T22:45:51.945228Z",
     "iopub.status.busy": "2023-02-13T22:45:51.944857Z",
     "iopub.status.idle": "2023-02-13T22:45:51.966385Z",
     "shell.execute_reply": "2023-02-13T22:45:51.965181Z"
    },
    "lines_to_next_cell": 0,
    "papermill": {
     "duration": 0.030283,
     "end_time": "2023-02-13T22:45:51.968557",
     "exception": false,
     "start_time": "2023-02-13T22:45:51.938274",
     "status": "completed"
    },
    "tags": []
   },
   "outputs": [
    {
     "data": {
      "application/javascript": [
       "parent.postMessage({\"jupyterEvent\": \"custom.exercise_interaction\", \"data\": {\"outcomeType\": 1, \"valueTowardsCompletion\": 0.2, \"interactionType\": 1, \"questionType\": 2, \"questionId\": \"3_Q3\", \"learnToolsVersion\": \"0.3.4\", \"failureMessage\": \"\", \"exceptionClass\": \"\", \"trace\": \"\"}}, \"*\")"
      ],
      "text/plain": [
       "<IPython.core.display.Javascript object>"
      ]
     },
     "metadata": {},
     "output_type": "display_data"
    },
    {
     "data": {
      "text/markdown": [
       "<span style=\"color:#33cc33\">Correct</span>"
      ],
      "text/plain": [
       "Correct"
      ]
     },
     "metadata": {},
     "output_type": "display_data"
    }
   ],
   "source": [
    "X_3 = pd.DataFrame()\n",
    "\n",
    "# YOUR CODE HERE\n",
    "X_3[\"PorchTypes\"] = X[['WoodDeckSF', 'OpenPorchSF', 'EnclosedPorch',\n",
    "                       'Threeseasonporch', 'ScreenPorch']].gt(0).sum(axis=1)\n",
    "\n",
    "# Check your answer\n",
    "q_3.check()"
   ]
  },
  {
   "cell_type": "code",
   "execution_count": 7,
   "id": "59287f46",
   "metadata": {
    "execution": {
     "iopub.execute_input": "2023-02-13T22:45:51.981291Z",
     "iopub.status.busy": "2023-02-13T22:45:51.980915Z",
     "iopub.status.idle": "2023-02-13T22:45:51.985575Z",
     "shell.execute_reply": "2023-02-13T22:45:51.984579Z"
    },
    "lines_to_next_cell": 0,
    "papermill": {
     "duration": 0.013586,
     "end_time": "2023-02-13T22:45:51.987873",
     "exception": false,
     "start_time": "2023-02-13T22:45:51.974287",
     "status": "completed"
    },
    "tags": []
   },
   "outputs": [],
   "source": [
    "# Lines below will give you a hint or solution code\n",
    "#q_3.hint()\n",
    "#q_3.solution()"
   ]
  },
  {
   "cell_type": "markdown",
   "id": "aaa1ade5",
   "metadata": {
    "papermill": {
     "duration": 0.005493,
     "end_time": "2023-02-13T22:45:51.999568",
     "exception": false,
     "start_time": "2023-02-13T22:45:51.994075",
     "status": "completed"
    },
    "tags": []
   },
   "source": [
    "# 4) Break Down a Categorical Feature\n",
    "\n",
    "`MSSubClass` describes the type of a dwelling:"
   ]
  },
  {
   "cell_type": "code",
   "execution_count": 8,
   "id": "57236d63",
   "metadata": {
    "execution": {
     "iopub.execute_input": "2023-02-13T22:45:52.013963Z",
     "iopub.status.busy": "2023-02-13T22:45:52.013579Z",
     "iopub.status.idle": "2023-02-13T22:45:52.021017Z",
     "shell.execute_reply": "2023-02-13T22:45:52.019935Z"
    },
    "papermill": {
     "duration": 0.017498,
     "end_time": "2023-02-13T22:45:52.023293",
     "exception": false,
     "start_time": "2023-02-13T22:45:52.005795",
     "status": "completed"
    },
    "tags": []
   },
   "outputs": [
    {
     "data": {
      "text/plain": [
       "array(['One_Story_1946_and_Newer_All_Styles', 'Two_Story_1946_and_Newer',\n",
       "       'One_Story_PUD_1946_and_Newer',\n",
       "       'One_and_Half_Story_Finished_All_Ages', 'Split_Foyer',\n",
       "       'Two_Story_PUD_1946_and_Newer', 'Split_or_Multilevel',\n",
       "       'One_Story_1945_and_Older', 'Duplex_All_Styles_and_Ages',\n",
       "       'Two_Family_conversion_All_Styles_and_Ages',\n",
       "       'One_and_Half_Story_Unfinished_All_Ages',\n",
       "       'Two_Story_1945_and_Older', 'Two_and_Half_Story_All_Ages',\n",
       "       'One_Story_with_Finished_Attic_All_Ages',\n",
       "       'PUD_Multilevel_Split_Level_Foyer',\n",
       "       'One_and_Half_Story_PUD_All_Ages'], dtype=object)"
      ]
     },
     "execution_count": 8,
     "metadata": {},
     "output_type": "execute_result"
    }
   ],
   "source": [
    "df.MSSubClass.unique()"
   ]
  },
  {
   "cell_type": "markdown",
   "id": "49aa3eb5",
   "metadata": {
    "papermill": {
     "duration": 0.005413,
     "end_time": "2023-02-13T22:45:52.034553",
     "exception": false,
     "start_time": "2023-02-13T22:45:52.029140",
     "status": "completed"
    },
    "tags": []
   },
   "source": [
    "You can see that there is a more general categorization described (roughly) by the first word of each category. Create a feature containing only these first words by splitting `MSSubClass` at the first underscore `_`. (Hint: In the `split` method use an argument `n=1`.)"
   ]
  },
  {
   "cell_type": "code",
   "execution_count": 9,
   "id": "d631ebde",
   "metadata": {
    "execution": {
     "iopub.execute_input": "2023-02-13T22:45:52.047304Z",
     "iopub.status.busy": "2023-02-13T22:45:52.046928Z",
     "iopub.status.idle": "2023-02-13T22:45:52.071236Z",
     "shell.execute_reply": "2023-02-13T22:45:52.069831Z"
    },
    "lines_to_next_cell": 0,
    "papermill": {
     "duration": 0.034443,
     "end_time": "2023-02-13T22:45:52.074563",
     "exception": false,
     "start_time": "2023-02-13T22:45:52.040120",
     "status": "completed"
    },
    "tags": []
   },
   "outputs": [
    {
     "data": {
      "application/javascript": [
       "parent.postMessage({\"jupyterEvent\": \"custom.exercise_interaction\", \"data\": {\"outcomeType\": 1, \"valueTowardsCompletion\": 0.2, \"interactionType\": 1, \"questionType\": 2, \"questionId\": \"4_Q4\", \"learnToolsVersion\": \"0.3.4\", \"failureMessage\": \"\", \"exceptionClass\": \"\", \"trace\": \"\"}}, \"*\")"
      ],
      "text/plain": [
       "<IPython.core.display.Javascript object>"
      ]
     },
     "metadata": {},
     "output_type": "display_data"
    },
    {
     "data": {
      "text/markdown": [
       "<span style=\"color:#33cc33\">Correct</span>"
      ],
      "text/plain": [
       "Correct"
      ]
     },
     "metadata": {},
     "output_type": "display_data"
    }
   ],
   "source": [
    "X_4 = pd.DataFrame()\n",
    "\n",
    "# YOUR CODE HERE\n",
    "X_4[\"MSClass\"] = df.MSSubClass.str.split(\"_\", n=1, expand=True)[0]\n",
    "\n",
    "# Check your answer\n",
    "q_4.check()"
   ]
  },
  {
   "cell_type": "code",
   "execution_count": 10,
   "id": "562a3677",
   "metadata": {
    "execution": {
     "iopub.execute_input": "2023-02-13T22:45:52.088774Z",
     "iopub.status.busy": "2023-02-13T22:45:52.088418Z",
     "iopub.status.idle": "2023-02-13T22:45:52.092912Z",
     "shell.execute_reply": "2023-02-13T22:45:52.091559Z"
    },
    "lines_to_next_cell": 0,
    "papermill": {
     "duration": 0.014114,
     "end_time": "2023-02-13T22:45:52.095033",
     "exception": false,
     "start_time": "2023-02-13T22:45:52.080919",
     "status": "completed"
    },
    "tags": []
   },
   "outputs": [],
   "source": [
    "# Lines below will give you a hint or solution code\n",
    "#q_4.hint()\n",
    "#q_4.solution()"
   ]
  },
  {
   "cell_type": "markdown",
   "id": "a6e87553",
   "metadata": {
    "papermill": {
     "duration": 0.006238,
     "end_time": "2023-02-13T22:45:52.107241",
     "exception": false,
     "start_time": "2023-02-13T22:45:52.101003",
     "status": "completed"
    },
    "tags": []
   },
   "source": [
    "# 5) Use a Grouped Transform\n",
    "\n",
    "The value of a home often depends on how it compares to typical homes in its neighborhood. Create a feature `MedNhbdArea` that describes the *median* of `GrLivArea` grouped on `Neighborhood`."
   ]
  },
  {
   "cell_type": "code",
   "execution_count": 11,
   "id": "0981793f",
   "metadata": {
    "execution": {
     "iopub.execute_input": "2023-02-13T22:45:52.121198Z",
     "iopub.status.busy": "2023-02-13T22:45:52.120820Z",
     "iopub.status.idle": "2023-02-13T22:45:52.139604Z",
     "shell.execute_reply": "2023-02-13T22:45:52.138706Z"
    },
    "lines_to_next_cell": 0,
    "papermill": {
     "duration": 0.028067,
     "end_time": "2023-02-13T22:45:52.141514",
     "exception": false,
     "start_time": "2023-02-13T22:45:52.113447",
     "status": "completed"
    },
    "tags": []
   },
   "outputs": [
    {
     "data": {
      "application/javascript": [
       "parent.postMessage({\"jupyterEvent\": \"custom.exercise_interaction\", \"data\": {\"outcomeType\": 1, \"valueTowardsCompletion\": 0.2, \"interactionType\": 1, \"questionType\": 2, \"questionId\": \"5_Q5\", \"learnToolsVersion\": \"0.3.4\", \"failureMessage\": \"\", \"exceptionClass\": \"\", \"trace\": \"\"}}, \"*\")"
      ],
      "text/plain": [
       "<IPython.core.display.Javascript object>"
      ]
     },
     "metadata": {},
     "output_type": "display_data"
    },
    {
     "data": {
      "text/markdown": [
       "<span style=\"color:#33cc33\">Correct</span>"
      ],
      "text/plain": [
       "Correct"
      ]
     },
     "metadata": {},
     "output_type": "display_data"
    }
   ],
   "source": [
    "X_5 = pd.DataFrame()\n",
    "\n",
    "# YOUR CODE HERE\n",
    "X_5[\"MedNhbdArea\"] = df.groupby(\"Neighborhood\")[\"GrLivArea\"].transform(\"median\")\n",
    "\n",
    "# Check your answer\n",
    "q_5.check()"
   ]
  },
  {
   "cell_type": "code",
   "execution_count": 12,
   "id": "01d92841",
   "metadata": {
    "execution": {
     "iopub.execute_input": "2023-02-13T22:45:52.155325Z",
     "iopub.status.busy": "2023-02-13T22:45:52.154970Z",
     "iopub.status.idle": "2023-02-13T22:45:52.158554Z",
     "shell.execute_reply": "2023-02-13T22:45:52.157768Z"
    },
    "lines_to_next_cell": 0,
    "papermill": {
     "duration": 0.012612,
     "end_time": "2023-02-13T22:45:52.160250",
     "exception": false,
     "start_time": "2023-02-13T22:45:52.147638",
     "status": "completed"
    },
    "tags": []
   },
   "outputs": [],
   "source": [
    "# Lines below will give you a hint or solution code\n",
    "#q_5.hint()\n",
    "#q_5.solution()"
   ]
  },
  {
   "cell_type": "markdown",
   "id": "e6fadb1a",
   "metadata": {
    "papermill": {
     "duration": 0.005712,
     "end_time": "2023-02-13T22:45:52.172012",
     "exception": false,
     "start_time": "2023-02-13T22:45:52.166300",
     "status": "completed"
    },
    "tags": []
   },
   "source": [
    "Now you've made your first new feature set! If you like, you can run the cell below to score the model with all of your new features added:"
   ]
  },
  {
   "cell_type": "code",
   "execution_count": 13,
   "id": "ed7fc043",
   "metadata": {
    "execution": {
     "iopub.execute_input": "2023-02-13T22:45:52.185367Z",
     "iopub.status.busy": "2023-02-13T22:45:52.185021Z",
     "iopub.status.idle": "2023-02-13T22:45:55.896610Z",
     "shell.execute_reply": "2023-02-13T22:45:55.895871Z"
    },
    "papermill": {
     "duration": 3.720502,
     "end_time": "2023-02-13T22:45:55.898457",
     "exception": false,
     "start_time": "2023-02-13T22:45:52.177955",
     "status": "completed"
    },
    "tags": []
   },
   "outputs": [
    {
     "data": {
      "text/plain": [
       "0.13847331710099203"
      ]
     },
     "execution_count": 13,
     "metadata": {},
     "output_type": "execute_result"
    }
   ],
   "source": [
    "X_new = X.join([X_1, X_2, X_3, X_4, X_5])\n",
    "score_dataset(X_new, y)"
   ]
  },
  {
   "cell_type": "markdown",
   "id": "64980815",
   "metadata": {
    "papermill": {
     "duration": 0.00583,
     "end_time": "2023-02-13T22:45:55.910482",
     "exception": false,
     "start_time": "2023-02-13T22:45:55.904652",
     "status": "completed"
    },
    "tags": []
   },
   "source": [
    "# Keep Going #\n",
    "\n",
    "[**Untangle spatial relationships**](https://www.kaggle.com/ryanholbrook/clustering-with-k-means) by adding cluster labels to your dataset."
   ]
  },
  {
   "cell_type": "markdown",
   "id": "2e86a460",
   "metadata": {
    "papermill": {
     "duration": 0.005672,
     "end_time": "2023-02-13T22:45:55.922222",
     "exception": false,
     "start_time": "2023-02-13T22:45:55.916550",
     "status": "completed"
    },
    "tags": []
   },
   "source": [
    "---\n",
    "\n",
    "\n",
    "\n",
    "\n",
    "*Have questions or comments? Visit the [course discussion forum](https://www.kaggle.com/learn/feature-engineering/discussion) to chat with other learners.*"
   ]
  }
 ],
 "metadata": {
  "kernelspec": {
   "display_name": "Python 3",
   "language": "python",
   "name": "python3"
  },
  "language_info": {
   "codemirror_mode": {
    "name": "ipython",
    "version": 3
   },
   "file_extension": ".py",
   "mimetype": "text/x-python",
   "name": "python",
   "nbconvert_exporter": "python",
   "pygments_lexer": "ipython3",
   "version": "3.7.12"
  },
  "papermill": {
   "default_parameters": {},
   "duration": 13.612971,
   "end_time": "2023-02-13T22:45:56.649952",
   "environment_variables": {},
   "exception": null,
   "input_path": "__notebook__.ipynb",
   "output_path": "__notebook__.ipynb",
   "parameters": {},
   "start_time": "2023-02-13T22:45:43.036981",
   "version": "2.3.4"
  }
 },
 "nbformat": 4,
 "nbformat_minor": 5
}
