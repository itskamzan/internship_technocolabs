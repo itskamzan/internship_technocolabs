{
 "cells": [
  {
   "cell_type": "markdown",
   "id": "694def63",
   "metadata": {
    "papermill": {
     "duration": 0.006322,
     "end_time": "2023-02-12T15:56:15.558346",
     "exception": false,
     "start_time": "2023-02-12T15:56:15.552024",
     "status": "completed"
    },
    "tags": []
   },
   "source": [
    "**This notebook is an exercise in the [Data Cleaning](https://www.kaggle.com/learn/data-cleaning) course.  You can reference the tutorial at [this link](https://www.kaggle.com/alexisbcook/character-encodings).**\n",
    "\n",
    "---\n"
   ]
  },
  {
   "cell_type": "markdown",
   "id": "1549a083",
   "metadata": {
    "papermill": {
     "duration": 0.004455,
     "end_time": "2023-02-12T15:56:15.567956",
     "exception": false,
     "start_time": "2023-02-12T15:56:15.563501",
     "status": "completed"
    },
    "tags": []
   },
   "source": [
    "In this exercise, you'll apply what you learned in the **Character encodings** tutorial.\n",
    "\n",
    "# Setup\n",
    "\n",
    "The questions below will give you feedback on your work. Run the following cell to set up the feedback system."
   ]
  },
  {
   "cell_type": "code",
   "execution_count": 1,
   "id": "fa2f2b16",
   "metadata": {
    "execution": {
     "iopub.execute_input": "2023-02-12T15:56:15.579472Z",
     "iopub.status.busy": "2023-02-12T15:56:15.579018Z",
     "iopub.status.idle": "2023-02-12T15:56:15.676732Z",
     "shell.execute_reply": "2023-02-12T15:56:15.675465Z"
    },
    "papermill": {
     "duration": 0.107602,
     "end_time": "2023-02-12T15:56:15.680278",
     "exception": false,
     "start_time": "2023-02-12T15:56:15.572676",
     "status": "completed"
    },
    "tags": []
   },
   "outputs": [
    {
     "name": "stdout",
     "output_type": "stream",
     "text": [
      "Setup Complete\n"
     ]
    }
   ],
   "source": [
    "from learntools.core import binder\n",
    "binder.bind(globals())\n",
    "from learntools.data_cleaning.ex4 import *\n",
    "print(\"Setup Complete\")"
   ]
  },
  {
   "cell_type": "markdown",
   "id": "24bb4ed9",
   "metadata": {
    "papermill": {
     "duration": 0.004539,
     "end_time": "2023-02-12T15:56:15.689649",
     "exception": false,
     "start_time": "2023-02-12T15:56:15.685110",
     "status": "completed"
    },
    "tags": []
   },
   "source": [
    "# Get our environment set up\n",
    "\n",
    "The first thing we'll need to do is load in the libraries we'll be using."
   ]
  },
  {
   "cell_type": "code",
   "execution_count": 2,
   "id": "affab075",
   "metadata": {
    "execution": {
     "iopub.execute_input": "2023-02-12T15:56:15.701249Z",
     "iopub.status.busy": "2023-02-12T15:56:15.700864Z",
     "iopub.status.idle": "2023-02-12T15:56:15.706676Z",
     "shell.execute_reply": "2023-02-12T15:56:15.705355Z"
    },
    "papermill": {
     "duration": 0.014658,
     "end_time": "2023-02-12T15:56:15.709171",
     "exception": false,
     "start_time": "2023-02-12T15:56:15.694513",
     "status": "completed"
    },
    "tags": []
   },
   "outputs": [],
   "source": [
    "# modules we'll use\n",
    "import pandas as pd\n",
    "import numpy as np\n",
    "\n",
    "# helpful character encoding module\n",
    "import chardet\n",
    "\n",
    "# set seed for reproducibility\n",
    "np.random.seed(0)"
   ]
  },
  {
   "cell_type": "markdown",
   "id": "af1e3add",
   "metadata": {
    "papermill": {
     "duration": 0.004463,
     "end_time": "2023-02-12T15:56:15.718496",
     "exception": false,
     "start_time": "2023-02-12T15:56:15.714033",
     "status": "completed"
    },
    "tags": []
   },
   "source": [
    "# 1) What are encodings?\n",
    "\n",
    "You're working with a dataset composed of bytes.  Run the code cell below to print a sample entry."
   ]
  },
  {
   "cell_type": "code",
   "execution_count": 3,
   "id": "05919b9c",
   "metadata": {
    "execution": {
     "iopub.execute_input": "2023-02-12T15:56:15.730770Z",
     "iopub.status.busy": "2023-02-12T15:56:15.729512Z",
     "iopub.status.idle": "2023-02-12T15:56:15.737041Z",
     "shell.execute_reply": "2023-02-12T15:56:15.735391Z"
    },
    "papermill": {
     "duration": 0.016674,
     "end_time": "2023-02-12T15:56:15.739928",
     "exception": false,
     "start_time": "2023-02-12T15:56:15.723254",
     "status": "completed"
    },
    "tags": []
   },
   "outputs": [
    {
     "name": "stdout",
     "output_type": "stream",
     "text": [
      "b'\\xa7A\\xa6n'\n",
      "data type: <class 'bytes'>\n"
     ]
    }
   ],
   "source": [
    "sample_entry = b'\\xa7A\\xa6n'\n",
    "print(sample_entry)\n",
    "print('data type:', type(sample_entry))"
   ]
  },
  {
   "cell_type": "markdown",
   "id": "4c6a5366",
   "metadata": {
    "papermill": {
     "duration": 0.006343,
     "end_time": "2023-02-12T15:56:15.753617",
     "exception": false,
     "start_time": "2023-02-12T15:56:15.747274",
     "status": "completed"
    },
    "tags": []
   },
   "source": [
    "You notice that it doesn't use the standard UTF-8 encoding. \n",
    "\n",
    "Use the next code cell to create a variable `new_entry` that changes the encoding from `\"big5-tw\"` to `\"utf-8\"`.  `new_entry` should have the bytes datatype."
   ]
  },
  {
   "cell_type": "code",
   "execution_count": 4,
   "id": "d7e28d5f",
   "metadata": {
    "execution": {
     "iopub.execute_input": "2023-02-12T15:56:15.766824Z",
     "iopub.status.busy": "2023-02-12T15:56:15.765805Z",
     "iopub.status.idle": "2023-02-12T15:56:15.782439Z",
     "shell.execute_reply": "2023-02-12T15:56:15.780253Z"
    },
    "papermill": {
     "duration": 0.026349,
     "end_time": "2023-02-12T15:56:15.784992",
     "exception": false,
     "start_time": "2023-02-12T15:56:15.758643",
     "status": "completed"
    },
    "tags": []
   },
   "outputs": [
    {
     "data": {
      "application/javascript": [
       "parent.postMessage({\"jupyterEvent\": \"custom.exercise_interaction\", \"data\": {\"outcomeType\": 1, \"valueTowardsCompletion\": 0.3333333333333333, \"interactionType\": 1, \"questionType\": 1, \"questionId\": \"1_EncodingsIntro\", \"learnToolsVersion\": \"0.3.4\", \"failureMessage\": \"\", \"exceptionClass\": \"\", \"trace\": \"\"}}, \"*\")"
      ],
      "text/plain": [
       "<IPython.core.display.Javascript object>"
      ]
     },
     "metadata": {},
     "output_type": "display_data"
    },
    {
     "data": {
      "text/markdown": [
       "<span style=\"color:#33cc33\">Correct</span>"
      ],
      "text/plain": [
       "Correct"
      ]
     },
     "metadata": {},
     "output_type": "display_data"
    }
   ],
   "source": [
    "before = sample_entry.decode(\"big5-tw\")\n",
    "new_entry = before.encode()\n",
    "# Check your answer\n",
    "q1.check()"
   ]
  },
  {
   "cell_type": "code",
   "execution_count": 5,
   "id": "7dbd4c7f",
   "metadata": {
    "execution": {
     "iopub.execute_input": "2023-02-12T15:56:15.798337Z",
     "iopub.status.busy": "2023-02-12T15:56:15.797616Z",
     "iopub.status.idle": "2023-02-12T15:56:15.803091Z",
     "shell.execute_reply": "2023-02-12T15:56:15.801458Z"
    },
    "papermill": {
     "duration": 0.014768,
     "end_time": "2023-02-12T15:56:15.805625",
     "exception": false,
     "start_time": "2023-02-12T15:56:15.790857",
     "status": "completed"
    },
    "tags": []
   },
   "outputs": [],
   "source": [
    "# Lines below will give you a hint or solution code\n",
    "#q1.hint()\n",
    "#q1.solution()"
   ]
  },
  {
   "cell_type": "markdown",
   "id": "a1da79f2",
   "metadata": {
    "papermill": {
     "duration": 0.006843,
     "end_time": "2023-02-12T15:56:15.821838",
     "exception": false,
     "start_time": "2023-02-12T15:56:15.814995",
     "status": "completed"
    },
    "tags": []
   },
   "source": [
    "# 2) Reading in files with encoding problems\n",
    "\n",
    "Use the code cell below to read in this file at path `\"../input/fatal-police-shootings-in-the-us/PoliceKillingsUS.csv\"`.  \n",
    "\n",
    "Figure out what the correct encoding should be and read in the file to a DataFrame `police_killings`."
   ]
  },
  {
   "cell_type": "code",
   "execution_count": 6,
   "id": "42414c09",
   "metadata": {
    "execution": {
     "iopub.execute_input": "2023-02-12T15:56:15.834643Z",
     "iopub.status.busy": "2023-02-12T15:56:15.833869Z",
     "iopub.status.idle": "2023-02-12T15:56:15.862556Z",
     "shell.execute_reply": "2023-02-12T15:56:15.861085Z"
    },
    "papermill": {
     "duration": 0.037953,
     "end_time": "2023-02-12T15:56:15.865127",
     "exception": false,
     "start_time": "2023-02-12T15:56:15.827174",
     "status": "completed"
    },
    "tags": []
   },
   "outputs": [
    {
     "data": {
      "application/javascript": [
       "parent.postMessage({\"jupyterEvent\": \"custom.exercise_interaction\", \"data\": {\"outcomeType\": 1, \"valueTowardsCompletion\": 0.3333333333333333, \"interactionType\": 1, \"questionType\": 1, \"questionId\": \"2_ReadIn\", \"learnToolsVersion\": \"0.3.4\", \"failureMessage\": \"\", \"exceptionClass\": \"\", \"trace\": \"\"}}, \"*\")"
      ],
      "text/plain": [
       "<IPython.core.display.Javascript object>"
      ]
     },
     "metadata": {},
     "output_type": "display_data"
    },
    {
     "data": {
      "text/markdown": [
       "<span style=\"color:#33cc33\">Correct</span>"
      ],
      "text/plain": [
       "Correct"
      ]
     },
     "metadata": {},
     "output_type": "display_data"
    }
   ],
   "source": [
    "# TODO: Load in the DataFrame correctly.\n",
    "police_killings = pd.read_csv(\"../input/fatal-police-shootings-in-the-us/PoliceKillingsUS.csv\", encoding = 'Windows-1252')\n",
    "\n",
    "# Check your answer\n",
    "q2.check()"
   ]
  },
  {
   "cell_type": "markdown",
   "id": "92ce77b4",
   "metadata": {
    "papermill": {
     "duration": 0.005204,
     "end_time": "2023-02-12T15:56:15.875871",
     "exception": false,
     "start_time": "2023-02-12T15:56:15.870667",
     "status": "completed"
    },
    "tags": []
   },
   "source": [
    "Feel free to use any additional code cells for supplemental work.  To get credit for finishing this question, you'll need to run `q2.check()` and get a result of **Correct**."
   ]
  },
  {
   "cell_type": "code",
   "execution_count": 7,
   "id": "6bfba214",
   "metadata": {
    "execution": {
     "iopub.execute_input": "2023-02-12T15:56:15.889361Z",
     "iopub.status.busy": "2023-02-12T15:56:15.888835Z",
     "iopub.status.idle": "2023-02-12T15:56:15.905991Z",
     "shell.execute_reply": "2023-02-12T15:56:15.904673Z"
    },
    "papermill": {
     "duration": 0.027222,
     "end_time": "2023-02-12T15:56:15.908481",
     "exception": false,
     "start_time": "2023-02-12T15:56:15.881259",
     "status": "completed"
    },
    "tags": []
   },
   "outputs": [
    {
     "name": "stdout",
     "output_type": "stream",
     "text": [
      "{'encoding': 'ascii', 'confidence': 1.0, 'language': ''}\n"
     ]
    }
   ],
   "source": [
    "# (Optional) Use this code cell for any additional work.\n",
    "with open(\"../input/fatal-police-shootings-in-the-us/PoliceKillingsUS.csv\", 'rb') as rawdata:\n",
    "    result = chardet.detect(rawdata.read(10000))\n",
    "print(result)"
   ]
  },
  {
   "cell_type": "code",
   "execution_count": 8,
   "id": "224a580c",
   "metadata": {
    "execution": {
     "iopub.execute_input": "2023-02-12T15:56:15.922687Z",
     "iopub.status.busy": "2023-02-12T15:56:15.921807Z",
     "iopub.status.idle": "2023-02-12T15:56:15.926653Z",
     "shell.execute_reply": "2023-02-12T15:56:15.925826Z"
    },
    "papermill": {
     "duration": 0.014843,
     "end_time": "2023-02-12T15:56:15.929093",
     "exception": false,
     "start_time": "2023-02-12T15:56:15.914250",
     "status": "completed"
    },
    "tags": []
   },
   "outputs": [],
   "source": [
    "# Lines below will give you a hint or solution code\n",
    "#q2.hint()\n",
    "#q2.solution()"
   ]
  },
  {
   "cell_type": "markdown",
   "id": "c2c78c7e",
   "metadata": {
    "papermill": {
     "duration": 0.005308,
     "end_time": "2023-02-12T15:56:15.939916",
     "exception": false,
     "start_time": "2023-02-12T15:56:15.934608",
     "status": "completed"
    },
    "tags": []
   },
   "source": [
    "# 3) Saving your files with UTF-8 encoding\n",
    "\n",
    "Save a version of the police killings dataset to CSV with UTF-8 encoding.  Your answer will be marked correct after saving this file.  \n",
    "\n",
    "Note: When using the `to_csv()` method, supply only the name of the file (e.g., `\"my_file.csv\"`).  This saves the file at the filepath `\"/kaggle/working/my_file.csv\"`."
   ]
  },
  {
   "cell_type": "code",
   "execution_count": 9,
   "id": "2b528a1c",
   "metadata": {
    "execution": {
     "iopub.execute_input": "2023-02-12T15:56:15.952483Z",
     "iopub.status.busy": "2023-02-12T15:56:15.952013Z",
     "iopub.status.idle": "2023-02-12T15:56:15.988827Z",
     "shell.execute_reply": "2023-02-12T15:56:15.987930Z"
    },
    "papermill": {
     "duration": 0.045754,
     "end_time": "2023-02-12T15:56:15.991083",
     "exception": false,
     "start_time": "2023-02-12T15:56:15.945329",
     "status": "completed"
    },
    "tags": []
   },
   "outputs": [
    {
     "data": {
      "application/javascript": [
       "parent.postMessage({\"jupyterEvent\": \"custom.exercise_interaction\", \"data\": {\"outcomeType\": 1, \"valueTowardsCompletion\": 0.3333333333333333, \"interactionType\": 1, \"questionType\": 2, \"questionId\": \"3_SaveCSV\", \"learnToolsVersion\": \"0.3.4\", \"failureMessage\": \"\", \"exceptionClass\": \"\", \"trace\": \"\"}}, \"*\")"
      ],
      "text/plain": [
       "<IPython.core.display.Javascript object>"
      ]
     },
     "metadata": {},
     "output_type": "display_data"
    },
    {
     "data": {
      "text/markdown": [
       "<span style=\"color:#33cc33\">Correct</span>"
      ],
      "text/plain": [
       "Correct"
      ]
     },
     "metadata": {},
     "output_type": "display_data"
    }
   ],
   "source": [
    "# TODO: Save the police killings dataset to CSV\n",
    "police_killings.to_csv(\"/kaggle/working/my_file.csv\")\n",
    "\n",
    "# Check your answer\n",
    "q3.check()"
   ]
  },
  {
   "cell_type": "code",
   "execution_count": 10,
   "id": "2bd4fa1e",
   "metadata": {
    "execution": {
     "iopub.execute_input": "2023-02-12T15:56:16.005303Z",
     "iopub.status.busy": "2023-02-12T15:56:16.004389Z",
     "iopub.status.idle": "2023-02-12T15:56:16.008600Z",
     "shell.execute_reply": "2023-02-12T15:56:16.007675Z"
    },
    "papermill": {
     "duration": 0.014086,
     "end_time": "2023-02-12T15:56:16.010829",
     "exception": false,
     "start_time": "2023-02-12T15:56:15.996743",
     "status": "completed"
    },
    "tags": []
   },
   "outputs": [],
   "source": [
    "# Lines below will give you a hint or solution code\n",
    "#q3.hint()\n",
    "#q3.solution()"
   ]
  },
  {
   "cell_type": "markdown",
   "id": "fe99e4dc",
   "metadata": {
    "papermill": {
     "duration": 0.006601,
     "end_time": "2023-02-12T15:56:16.023307",
     "exception": false,
     "start_time": "2023-02-12T15:56:16.016706",
     "status": "completed"
    },
    "tags": []
   },
   "source": [
    "# (Optional) More practice\n",
    "\n",
    "Check out [this dataset of files in different character encodings](https://www.kaggle.com/rtatman/character-encoding-examples). Can you read in all the files with their original encodings and them save them out as UTF-8 files?\n",
    "\n",
    "If you have a file that's in UTF-8 but has just a couple of weird-looking characters in it, you can try out the [ftfy module](https://ftfy.readthedocs.io/en/latest/#) and see if it helps. \n",
    "\n",
    "# Keep going\n",
    "\n",
    "In the final lesson, learn how to [**clean up inconsistent text entries**](https://www.kaggle.com/alexisbcook/inconsistent-data-entry) in your dataset."
   ]
  },
  {
   "cell_type": "markdown",
   "id": "81211a95",
   "metadata": {
    "papermill": {
     "duration": 0.005295,
     "end_time": "2023-02-12T15:56:16.034204",
     "exception": false,
     "start_time": "2023-02-12T15:56:16.028909",
     "status": "completed"
    },
    "tags": []
   },
   "source": [
    "---\n",
    "\n",
    "\n",
    "\n",
    "\n",
    "*Have questions or comments? Visit the [course discussion forum](https://www.kaggle.com/learn/data-cleaning/discussion) to chat with other learners.*"
   ]
  }
 ],
 "metadata": {
  "kernelspec": {
   "display_name": "Python 3",
   "language": "python",
   "name": "python3"
  },
  "language_info": {
   "codemirror_mode": {
    "name": "ipython",
    "version": 3
   },
   "file_extension": ".py",
   "mimetype": "text/x-python",
   "name": "python",
   "nbconvert_exporter": "python",
   "pygments_lexer": "ipython3",
   "version": "3.7.12"
  },
  "papermill": {
   "default_parameters": {},
   "duration": 10.129074,
   "end_time": "2023-02-12T15:56:16.761436",
   "environment_variables": {},
   "exception": null,
   "input_path": "__notebook__.ipynb",
   "output_path": "__notebook__.ipynb",
   "parameters": {},
   "start_time": "2023-02-12T15:56:06.632362",
   "version": "2.3.4"
  }
 },
 "nbformat": 4,
 "nbformat_minor": 5
}
