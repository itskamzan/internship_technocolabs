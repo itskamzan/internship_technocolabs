{
 "cells": [
  {
   "cell_type": "markdown",
   "id": "71627041",
   "metadata": {
    "papermill": {
     "duration": 0.005788,
     "end_time": "2023-02-12T23:05:58.818613",
     "exception": false,
     "start_time": "2023-02-12T23:05:58.812825",
     "status": "completed"
    },
    "tags": []
   },
   "source": [
    "**This notebook is an exercise in the [Pandas](https://www.kaggle.com/learn/pandas) course.  You can reference the tutorial at [this link](https://www.kaggle.com/residentmario/data-types-and-missing-values).**\n",
    "\n",
    "---\n"
   ]
  },
  {
   "cell_type": "markdown",
   "id": "67d17bf3",
   "metadata": {
    "papermill": {
     "duration": 0.004215,
     "end_time": "2023-02-12T23:05:58.827805",
     "exception": false,
     "start_time": "2023-02-12T23:05:58.823590",
     "status": "completed"
    },
    "tags": []
   },
   "source": [
    "# Introduction\n",
    "\n",
    "Run the following cell to load your data and some utility functions."
   ]
  },
  {
   "cell_type": "code",
   "execution_count": 1,
   "id": "95e6fc23",
   "metadata": {
    "execution": {
     "iopub.execute_input": "2023-02-12T23:05:58.840695Z",
     "iopub.status.busy": "2023-02-12T23:05:58.839418Z",
     "iopub.status.idle": "2023-02-12T23:06:02.176889Z",
     "shell.execute_reply": "2023-02-12T23:06:02.175573Z"
    },
    "papermill": {
     "duration": 3.347887,
     "end_time": "2023-02-12T23:06:02.180178",
     "exception": false,
     "start_time": "2023-02-12T23:05:58.832291",
     "status": "completed"
    },
    "tags": []
   },
   "outputs": [
    {
     "name": "stdout",
     "output_type": "stream",
     "text": [
      "Setup complete.\n"
     ]
    }
   ],
   "source": [
    "import pandas as pd\n",
    "\n",
    "reviews = pd.read_csv(\"../input/wine-reviews/winemag-data-130k-v2.csv\", index_col=0)\n",
    "\n",
    "from learntools.core import binder; binder.bind(globals())\n",
    "from learntools.pandas.data_types_and_missing_data import *\n",
    "print(\"Setup complete.\")"
   ]
  },
  {
   "cell_type": "markdown",
   "id": "0de5e8cf",
   "metadata": {
    "papermill": {
     "duration": 0.005017,
     "end_time": "2023-02-12T23:06:02.190193",
     "exception": false,
     "start_time": "2023-02-12T23:06:02.185176",
     "status": "completed"
    },
    "tags": []
   },
   "source": [
    "# Exercises"
   ]
  },
  {
   "cell_type": "markdown",
   "id": "5e83f1a0",
   "metadata": {
    "papermill": {
     "duration": 0.004356,
     "end_time": "2023-02-12T23:06:02.199231",
     "exception": false,
     "start_time": "2023-02-12T23:06:02.194875",
     "status": "completed"
    },
    "tags": []
   },
   "source": [
    "## 1. \n",
    "What is the data type of the `points` column in the dataset?"
   ]
  },
  {
   "cell_type": "code",
   "execution_count": 2,
   "id": "a82c033e",
   "metadata": {
    "execution": {
     "iopub.execute_input": "2023-02-12T23:06:02.210981Z",
     "iopub.status.busy": "2023-02-12T23:06:02.210433Z",
     "iopub.status.idle": "2023-02-12T23:06:02.223891Z",
     "shell.execute_reply": "2023-02-12T23:06:02.222715Z"
    },
    "papermill": {
     "duration": 0.022311,
     "end_time": "2023-02-12T23:06:02.226282",
     "exception": false,
     "start_time": "2023-02-12T23:06:02.203971",
     "status": "completed"
    },
    "tags": []
   },
   "outputs": [
    {
     "data": {
      "application/javascript": [
       "parent.postMessage({\"jupyterEvent\": \"custom.exercise_interaction\", \"data\": {\"outcomeType\": 1, \"valueTowardsCompletion\": 0.25, \"interactionType\": 1, \"questionType\": 1, \"questionId\": \"1_PointsDtype\", \"learnToolsVersion\": \"0.3.4\", \"failureMessage\": \"\", \"exceptionClass\": \"\", \"trace\": \"\"}}, \"*\")"
      ],
      "text/plain": [
       "<IPython.core.display.Javascript object>"
      ]
     },
     "metadata": {},
     "output_type": "display_data"
    },
    {
     "data": {
      "text/markdown": [
       "<span style=\"color:#33cc33\">Correct</span>"
      ],
      "text/plain": [
       "Correct"
      ]
     },
     "metadata": {},
     "output_type": "display_data"
    }
   ],
   "source": [
    "# Your code here\n",
    "dtype = reviews.points.dtype\n",
    "\n",
    "# Check your answer\n",
    "q1.check()"
   ]
  },
  {
   "cell_type": "code",
   "execution_count": 3,
   "id": "1528553e",
   "metadata": {
    "execution": {
     "iopub.execute_input": "2023-02-12T23:06:02.238211Z",
     "iopub.status.busy": "2023-02-12T23:06:02.237736Z",
     "iopub.status.idle": "2023-02-12T23:06:02.242708Z",
     "shell.execute_reply": "2023-02-12T23:06:02.241634Z"
    },
    "papermill": {
     "duration": 0.013325,
     "end_time": "2023-02-12T23:06:02.244764",
     "exception": false,
     "start_time": "2023-02-12T23:06:02.231439",
     "status": "completed"
    },
    "tags": []
   },
   "outputs": [],
   "source": [
    "#q1.hint()\n",
    "#q1.solution()"
   ]
  },
  {
   "cell_type": "markdown",
   "id": "675b11dd",
   "metadata": {
    "papermill": {
     "duration": 0.004439,
     "end_time": "2023-02-12T23:06:02.254573",
     "exception": false,
     "start_time": "2023-02-12T23:06:02.250134",
     "status": "completed"
    },
    "tags": []
   },
   "source": [
    "## 2. \n",
    "Create a Series from entries in the `points` column, but convert the entries to strings. Hint: strings are `str` in native Python."
   ]
  },
  {
   "cell_type": "code",
   "execution_count": 4,
   "id": "03df5e2d",
   "metadata": {
    "execution": {
     "iopub.execute_input": "2023-02-12T23:06:02.266663Z",
     "iopub.status.busy": "2023-02-12T23:06:02.266152Z",
     "iopub.status.idle": "2023-02-12T23:06:02.351815Z",
     "shell.execute_reply": "2023-02-12T23:06:02.350417Z"
    },
    "papermill": {
     "duration": 0.09475,
     "end_time": "2023-02-12T23:06:02.354232",
     "exception": false,
     "start_time": "2023-02-12T23:06:02.259482",
     "status": "completed"
    },
    "tags": []
   },
   "outputs": [
    {
     "data": {
      "application/javascript": [
       "parent.postMessage({\"jupyterEvent\": \"custom.exercise_interaction\", \"data\": {\"outcomeType\": 1, \"valueTowardsCompletion\": 0.25, \"interactionType\": 1, \"questionType\": 1, \"questionId\": \"2_StrPoints\", \"learnToolsVersion\": \"0.3.4\", \"failureMessage\": \"\", \"exceptionClass\": \"\", \"trace\": \"\"}}, \"*\")"
      ],
      "text/plain": [
       "<IPython.core.display.Javascript object>"
      ]
     },
     "metadata": {},
     "output_type": "display_data"
    },
    {
     "data": {
      "text/markdown": [
       "<span style=\"color:#33cc33\">Correct</span>"
      ],
      "text/plain": [
       "Correct"
      ]
     },
     "metadata": {},
     "output_type": "display_data"
    }
   ],
   "source": [
    "point_strings = reviews.points.astype(str)\n",
    "\n",
    "# Check your answer\n",
    "q2.check()"
   ]
  },
  {
   "cell_type": "code",
   "execution_count": 5,
   "id": "30b4db72",
   "metadata": {
    "execution": {
     "iopub.execute_input": "2023-02-12T23:06:02.366133Z",
     "iopub.status.busy": "2023-02-12T23:06:02.365713Z",
     "iopub.status.idle": "2023-02-12T23:06:02.370342Z",
     "shell.execute_reply": "2023-02-12T23:06:02.369530Z"
    },
    "papermill": {
     "duration": 0.013772,
     "end_time": "2023-02-12T23:06:02.373253",
     "exception": false,
     "start_time": "2023-02-12T23:06:02.359481",
     "status": "completed"
    },
    "tags": []
   },
   "outputs": [],
   "source": [
    "#q2.hint()\n",
    "#q2.solution()"
   ]
  },
  {
   "cell_type": "markdown",
   "id": "826267d4",
   "metadata": {
    "papermill": {
     "duration": 0.004509,
     "end_time": "2023-02-12T23:06:02.382923",
     "exception": false,
     "start_time": "2023-02-12T23:06:02.378414",
     "status": "completed"
    },
    "tags": []
   },
   "source": [
    "## 3.\n",
    "Sometimes the price column is null. How many reviews in the dataset are missing a price?"
   ]
  },
  {
   "cell_type": "code",
   "execution_count": 6,
   "id": "3ee5f643",
   "metadata": {
    "execution": {
     "iopub.execute_input": "2023-02-12T23:06:02.394220Z",
     "iopub.status.busy": "2023-02-12T23:06:02.393822Z",
     "iopub.status.idle": "2023-02-12T23:06:02.410422Z",
     "shell.execute_reply": "2023-02-12T23:06:02.409358Z"
    },
    "papermill": {
     "duration": 0.024899,
     "end_time": "2023-02-12T23:06:02.412700",
     "exception": false,
     "start_time": "2023-02-12T23:06:02.387801",
     "status": "completed"
    },
    "tags": []
   },
   "outputs": [
    {
     "data": {
      "application/javascript": [
       "parent.postMessage({\"jupyterEvent\": \"custom.exercise_interaction\", \"data\": {\"outcomeType\": 1, \"valueTowardsCompletion\": 0.25, \"interactionType\": 1, \"questionType\": 1, \"questionId\": \"3_CountMissingPrices\", \"learnToolsVersion\": \"0.3.4\", \"failureMessage\": \"\", \"exceptionClass\": \"\", \"trace\": \"\"}}, \"*\")"
      ],
      "text/plain": [
       "<IPython.core.display.Javascript object>"
      ]
     },
     "metadata": {},
     "output_type": "display_data"
    },
    {
     "data": {
      "text/markdown": [
       "<span style=\"color:#33cc33\">Correct</span>"
      ],
      "text/plain": [
       "Correct"
      ]
     },
     "metadata": {},
     "output_type": "display_data"
    }
   ],
   "source": [
    "missing_prices = reviews[reviews.price.isnull()]\n",
    "n_missing_prices = len(missing_prices)\n",
    "\n",
    "\n",
    "# Check your answer\n",
    "q3.check()"
   ]
  },
  {
   "cell_type": "code",
   "execution_count": 7,
   "id": "401b53a6",
   "metadata": {
    "execution": {
     "iopub.execute_input": "2023-02-12T23:06:02.424698Z",
     "iopub.status.busy": "2023-02-12T23:06:02.424282Z",
     "iopub.status.idle": "2023-02-12T23:06:02.428766Z",
     "shell.execute_reply": "2023-02-12T23:06:02.427666Z"
    },
    "papermill": {
     "duration": 0.013353,
     "end_time": "2023-02-12T23:06:02.431044",
     "exception": false,
     "start_time": "2023-02-12T23:06:02.417691",
     "status": "completed"
    },
    "tags": []
   },
   "outputs": [],
   "source": [
    "#q3.hint()\n",
    "#q3.solution()"
   ]
  },
  {
   "cell_type": "markdown",
   "id": "3795c153",
   "metadata": {
    "papermill": {
     "duration": 0.004657,
     "end_time": "2023-02-12T23:06:02.440771",
     "exception": false,
     "start_time": "2023-02-12T23:06:02.436114",
     "status": "completed"
    },
    "tags": []
   },
   "source": [
    "## 4.\n",
    "What are the most common wine-producing regions? Create a Series counting the number of times each value occurs in the `region_1` field. This field is often missing data, so replace missing values with `Unknown`. Sort in descending order.  Your output should look something like this:\n",
    "\n",
    "```\n",
    "Unknown                    21247\n",
    "Napa Valley                 4480\n",
    "                           ...  \n",
    "Bardolino Superiore            1\n",
    "Primitivo del Tarantino        1\n",
    "Name: region_1, Length: 1230, dtype: int64\n",
    "```"
   ]
  },
  {
   "cell_type": "code",
   "execution_count": 8,
   "id": "595e9248",
   "metadata": {
    "execution": {
     "iopub.execute_input": "2023-02-12T23:06:02.452538Z",
     "iopub.status.busy": "2023-02-12T23:06:02.452143Z",
     "iopub.status.idle": "2023-02-12T23:06:02.494905Z",
     "shell.execute_reply": "2023-02-12T23:06:02.493368Z"
    },
    "papermill": {
     "duration": 0.051509,
     "end_time": "2023-02-12T23:06:02.497162",
     "exception": false,
     "start_time": "2023-02-12T23:06:02.445653",
     "status": "completed"
    },
    "tags": []
   },
   "outputs": [
    {
     "data": {
      "application/javascript": [
       "parent.postMessage({\"jupyterEvent\": \"custom.exercise_interaction\", \"data\": {\"outcomeType\": 1, \"valueTowardsCompletion\": 0.25, \"interactionType\": 1, \"questionType\": 2, \"questionId\": \"4_ReviewsPerRegion\", \"learnToolsVersion\": \"0.3.4\", \"failureMessage\": \"\", \"exceptionClass\": \"\", \"trace\": \"\"}}, \"*\")"
      ],
      "text/plain": [
       "<IPython.core.display.Javascript object>"
      ]
     },
     "metadata": {},
     "output_type": "display_data"
    },
    {
     "data": {
      "text/markdown": [
       "<span style=\"color:#33cc33\">Correct</span>"
      ],
      "text/plain": [
       "Correct"
      ]
     },
     "metadata": {},
     "output_type": "display_data"
    }
   ],
   "source": [
    "reviews_per_region = reviews.region_1.fillna(\"Unknown\").value_counts().sort_values(ascending = False)\n",
    "\n",
    "# Check your answer\n",
    "q4.check()"
   ]
  },
  {
   "cell_type": "code",
   "execution_count": 9,
   "id": "9a1341ed",
   "metadata": {
    "execution": {
     "iopub.execute_input": "2023-02-12T23:06:02.509221Z",
     "iopub.status.busy": "2023-02-12T23:06:02.508810Z",
     "iopub.status.idle": "2023-02-12T23:06:02.517721Z",
     "shell.execute_reply": "2023-02-12T23:06:02.516668Z"
    },
    "papermill": {
     "duration": 0.017527,
     "end_time": "2023-02-12T23:06:02.519966",
     "exception": false,
     "start_time": "2023-02-12T23:06:02.502439",
     "status": "completed"
    },
    "tags": []
   },
   "outputs": [
    {
     "data": {
      "application/javascript": [
       "parent.postMessage({\"jupyterEvent\": \"custom.exercise_interaction\", \"data\": {\"interactionType\": 3, \"questionType\": 2, \"questionId\": \"4_ReviewsPerRegion\", \"learnToolsVersion\": \"0.3.4\", \"valueTowardsCompletion\": 0.0, \"failureMessage\": \"\", \"exceptionClass\": \"\", \"trace\": \"\", \"outcomeType\": 4}}, \"*\")"
      ],
      "text/plain": [
       "<IPython.core.display.Javascript object>"
      ]
     },
     "metadata": {},
     "output_type": "display_data"
    },
    {
     "data": {
      "text/markdown": [
       "<span style=\"color:#33cc99\">Solution:</span> \n",
       "```python\n",
       "reviews_per_region = reviews.region_1.fillna('Unknown').value_counts().sort_values(ascending=False)\n",
       "```"
      ],
      "text/plain": [
       "Solution: \n",
       "```python\n",
       "reviews_per_region = reviews.region_1.fillna('Unknown').value_counts().sort_values(ascending=False)\n",
       "```"
      ]
     },
     "metadata": {},
     "output_type": "display_data"
    }
   ],
   "source": [
    "#q4.hint()\n",
    "q4.solution()"
   ]
  },
  {
   "cell_type": "markdown",
   "id": "8f10d770",
   "metadata": {
    "papermill": {
     "duration": 0.005209,
     "end_time": "2023-02-12T23:06:02.530810",
     "exception": false,
     "start_time": "2023-02-12T23:06:02.525601",
     "status": "completed"
    },
    "tags": []
   },
   "source": [
    "# Keep going\n",
    "\n",
    "Move on to **[renaming and combining](https://www.kaggle.com/residentmario/renaming-and-combining)**."
   ]
  },
  {
   "cell_type": "markdown",
   "id": "a8e855bc",
   "metadata": {
    "papermill": {
     "duration": 0.005064,
     "end_time": "2023-02-12T23:06:02.541291",
     "exception": false,
     "start_time": "2023-02-12T23:06:02.536227",
     "status": "completed"
    },
    "tags": []
   },
   "source": [
    "---\n",
    "\n",
    "\n",
    "\n",
    "\n",
    "*Have questions or comments? Visit the [course discussion forum](https://www.kaggle.com/learn/pandas/discussion) to chat with other learners.*"
   ]
  }
 ],
 "metadata": {
  "kernelspec": {
   "display_name": "Python 3",
   "language": "python",
   "name": "python3"
  },
  "language_info": {
   "codemirror_mode": {
    "name": "ipython",
    "version": 3
   },
   "file_extension": ".py",
   "mimetype": "text/x-python",
   "name": "python",
   "nbconvert_exporter": "python",
   "pygments_lexer": "ipython3",
   "version": "3.7.12"
  },
  "papermill": {
   "default_parameters": {},
   "duration": 13.214757,
   "end_time": "2023-02-12T23:06:03.268298",
   "environment_variables": {},
   "exception": null,
   "input_path": "__notebook__.ipynb",
   "output_path": "__notebook__.ipynb",
   "parameters": {},
   "start_time": "2023-02-12T23:05:50.053541",
   "version": "2.3.4"
  }
 },
 "nbformat": 4,
 "nbformat_minor": 5
}
