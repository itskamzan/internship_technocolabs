{
 "cells": [
  {
   "cell_type": "markdown",
   "id": "154f0d13",
   "metadata": {
    "papermill": {
     "duration": 0.006994,
     "end_time": "2023-02-12T22:54:04.831587",
     "exception": false,
     "start_time": "2023-02-12T22:54:04.824593",
     "status": "completed"
    },
    "tags": []
   },
   "source": [
    "**This notebook is an exercise in the [Pandas](https://www.kaggle.com/learn/pandas) course.  You can reference the tutorial at [this link](https://www.kaggle.com/residentmario/grouping-and-sorting).**\n",
    "\n",
    "---\n"
   ]
  },
  {
   "cell_type": "markdown",
   "id": "7bcd14f0",
   "metadata": {
    "papermill": {
     "duration": 0.006045,
     "end_time": "2023-02-12T22:54:04.843893",
     "exception": false,
     "start_time": "2023-02-12T22:54:04.837848",
     "status": "completed"
    },
    "tags": []
   },
   "source": [
    "# Introduction\n",
    "\n",
    "In these exercises we'll apply groupwise analysis to our dataset.\n",
    "\n",
    "Run the code cell below to load the data before running the exercises."
   ]
  },
  {
   "cell_type": "code",
   "execution_count": 1,
   "id": "f956e1ba",
   "metadata": {
    "execution": {
     "iopub.execute_input": "2023-02-12T22:54:04.859367Z",
     "iopub.status.busy": "2023-02-12T22:54:04.858244Z",
     "iopub.status.idle": "2023-02-12T22:54:07.782887Z",
     "shell.execute_reply": "2023-02-12T22:54:07.781421Z"
    },
    "papermill": {
     "duration": 2.937254,
     "end_time": "2023-02-12T22:54:07.787119",
     "exception": false,
     "start_time": "2023-02-12T22:54:04.849865",
     "status": "completed"
    },
    "tags": []
   },
   "outputs": [
    {
     "name": "stdout",
     "output_type": "stream",
     "text": [
      "Setup complete.\n"
     ]
    }
   ],
   "source": [
    "import pandas as pd\n",
    "\n",
    "reviews = pd.read_csv(\"../input/wine-reviews/winemag-data-130k-v2.csv\", index_col=0)\n",
    "#pd.set_option(\"display.max_rows\", 5)\n",
    "\n",
    "from learntools.core import binder; binder.bind(globals())\n",
    "from learntools.pandas.grouping_and_sorting import *\n",
    "print(\"Setup complete.\")"
   ]
  },
  {
   "cell_type": "markdown",
   "id": "c1483de5",
   "metadata": {
    "papermill": {
     "duration": 0.005674,
     "end_time": "2023-02-12T22:54:07.799182",
     "exception": false,
     "start_time": "2023-02-12T22:54:07.793508",
     "status": "completed"
    },
    "tags": []
   },
   "source": [
    "# Exercises"
   ]
  },
  {
   "cell_type": "markdown",
   "id": "638d1980",
   "metadata": {
    "papermill": {
     "duration": 0.0056,
     "end_time": "2023-02-12T22:54:07.810632",
     "exception": false,
     "start_time": "2023-02-12T22:54:07.805032",
     "status": "completed"
    },
    "tags": []
   },
   "source": [
    "## 1.\n",
    "Who are the most common wine reviewers in the dataset? Create a `Series` whose index is the `taster_twitter_handle` category from the dataset, and whose values count how many reviews each person wrote."
   ]
  },
  {
   "cell_type": "code",
   "execution_count": 2,
   "id": "8432eeb4",
   "metadata": {
    "execution": {
     "iopub.execute_input": "2023-02-12T22:54:07.824968Z",
     "iopub.status.busy": "2023-02-12T22:54:07.823676Z",
     "iopub.status.idle": "2023-02-12T22:54:07.848887Z",
     "shell.execute_reply": "2023-02-12T22:54:07.847557Z"
    },
    "papermill": {
     "duration": 0.035069,
     "end_time": "2023-02-12T22:54:07.851453",
     "exception": false,
     "start_time": "2023-02-12T22:54:07.816384",
     "status": "completed"
    },
    "tags": []
   },
   "outputs": [
    {
     "data": {
      "application/javascript": [
       "parent.postMessage({\"jupyterEvent\": \"custom.exercise_interaction\", \"data\": {\"outcomeType\": 1, \"valueTowardsCompletion\": 0.16666666666666666, \"interactionType\": 1, \"questionType\": 1, \"questionId\": \"1_ReviewsWritten\", \"learnToolsVersion\": \"0.3.4\", \"failureMessage\": \"\", \"exceptionClass\": \"\", \"trace\": \"\"}}, \"*\")"
      ],
      "text/plain": [
       "<IPython.core.display.Javascript object>"
      ]
     },
     "metadata": {},
     "output_type": "display_data"
    },
    {
     "data": {
      "text/markdown": [
       "<span style=\"color:#33cc33\">Correct:</span> \n",
       "\n",
       "\n",
       "```python\n",
       "reviews_written = reviews.groupby('taster_twitter_handle').size()\n",
       "```\n",
       "or\n",
       "```python\n",
       "reviews_written = reviews.groupby('taster_twitter_handle').taster_twitter_handle.count()\n",
       "```\n"
      ],
      "text/plain": [
       "Correct: \n",
       "\n",
       "\n",
       "```python\n",
       "reviews_written = reviews.groupby('taster_twitter_handle').size()\n",
       "```\n",
       "or\n",
       "```python\n",
       "reviews_written = reviews.groupby('taster_twitter_handle').taster_twitter_handle.count()\n",
       "```"
      ]
     },
     "metadata": {},
     "output_type": "display_data"
    }
   ],
   "source": [
    "# Your code here\n",
    "reviews_written = reviews.groupby('taster_twitter_handle').size()\n",
    "\n",
    "# Check your answer\n",
    "q1.check()"
   ]
  },
  {
   "cell_type": "code",
   "execution_count": 3,
   "id": "e9978f4b",
   "metadata": {
    "execution": {
     "iopub.execute_input": "2023-02-12T22:54:07.866581Z",
     "iopub.status.busy": "2023-02-12T22:54:07.865859Z",
     "iopub.status.idle": "2023-02-12T22:54:07.869677Z",
     "shell.execute_reply": "2023-02-12T22:54:07.868854Z"
    },
    "papermill": {
     "duration": 0.013593,
     "end_time": "2023-02-12T22:54:07.871693",
     "exception": false,
     "start_time": "2023-02-12T22:54:07.858100",
     "status": "completed"
    },
    "tags": []
   },
   "outputs": [],
   "source": [
    "#q1.hint()\n",
    "#q1.solution()"
   ]
  },
  {
   "cell_type": "markdown",
   "id": "a2034061",
   "metadata": {
    "papermill": {
     "duration": 0.005879,
     "end_time": "2023-02-12T22:54:07.883756",
     "exception": false,
     "start_time": "2023-02-12T22:54:07.877877",
     "status": "completed"
    },
    "tags": []
   },
   "source": [
    "## 2.\n",
    "What is the best wine I can buy for a given amount of money? Create a `Series` whose index is wine prices and whose values is the maximum number of points a wine costing that much was given in a review. Sort the values by price, ascending (so that `4.0` dollars is at the top and `3300.0` dollars is at the bottom)."
   ]
  },
  {
   "cell_type": "code",
   "execution_count": 4,
   "id": "4083c3ea",
   "metadata": {
    "execution": {
     "iopub.execute_input": "2023-02-12T22:54:07.897858Z",
     "iopub.status.busy": "2023-02-12T22:54:07.897090Z",
     "iopub.status.idle": "2023-02-12T22:54:07.910216Z",
     "shell.execute_reply": "2023-02-12T22:54:07.909340Z"
    },
    "papermill": {
     "duration": 0.022482,
     "end_time": "2023-02-12T22:54:07.912229",
     "exception": false,
     "start_time": "2023-02-12T22:54:07.889747",
     "status": "completed"
    },
    "tags": []
   },
   "outputs": [
    {
     "data": {
      "application/javascript": [
       "parent.postMessage({\"jupyterEvent\": \"custom.exercise_interaction\", \"data\": {\"outcomeType\": 1, \"valueTowardsCompletion\": 0.16666666666666666, \"interactionType\": 1, \"questionType\": 1, \"questionId\": \"2_BestRatingPerPrice\", \"learnToolsVersion\": \"0.3.4\", \"failureMessage\": \"\", \"exceptionClass\": \"\", \"trace\": \"\"}}, \"*\")"
      ],
      "text/plain": [
       "<IPython.core.display.Javascript object>"
      ]
     },
     "metadata": {},
     "output_type": "display_data"
    },
    {
     "data": {
      "text/markdown": [
       "<span style=\"color:#33cc33\">Correct</span>"
      ],
      "text/plain": [
       "Correct"
      ]
     },
     "metadata": {},
     "output_type": "display_data"
    }
   ],
   "source": [
    "best_rating_per_price = reviews.groupby('price')['points'].max().sort_index()\n",
    "\n",
    "# Check your answer\n",
    "q2.check()"
   ]
  },
  {
   "cell_type": "code",
   "execution_count": 5,
   "id": "1dced28a",
   "metadata": {
    "execution": {
     "iopub.execute_input": "2023-02-12T22:54:07.926880Z",
     "iopub.status.busy": "2023-02-12T22:54:07.926444Z",
     "iopub.status.idle": "2023-02-12T22:54:07.931008Z",
     "shell.execute_reply": "2023-02-12T22:54:07.929810Z"
    },
    "papermill": {
     "duration": 0.014672,
     "end_time": "2023-02-12T22:54:07.933270",
     "exception": false,
     "start_time": "2023-02-12T22:54:07.918598",
     "status": "completed"
    },
    "tags": []
   },
   "outputs": [],
   "source": [
    "#q2.hint()\n",
    "#q2.solution()"
   ]
  },
  {
   "cell_type": "markdown",
   "id": "9fb30d4a",
   "metadata": {
    "papermill": {
     "duration": 0.006017,
     "end_time": "2023-02-12T22:54:07.945686",
     "exception": false,
     "start_time": "2023-02-12T22:54:07.939669",
     "status": "completed"
    },
    "tags": []
   },
   "source": [
    "## 3.\n",
    "What are the minimum and maximum prices for each `variety` of wine? Create a `DataFrame` whose index is the `variety` category from the dataset and whose values are the `min` and `max` values thereof."
   ]
  },
  {
   "cell_type": "code",
   "execution_count": 6,
   "id": "9159c78b",
   "metadata": {
    "execution": {
     "iopub.execute_input": "2023-02-12T22:54:07.960350Z",
     "iopub.status.busy": "2023-02-12T22:54:07.959433Z",
     "iopub.status.idle": "2023-02-12T22:54:07.998434Z",
     "shell.execute_reply": "2023-02-12T22:54:07.997249Z"
    },
    "papermill": {
     "duration": 0.048859,
     "end_time": "2023-02-12T22:54:08.000910",
     "exception": false,
     "start_time": "2023-02-12T22:54:07.952051",
     "status": "completed"
    },
    "tags": []
   },
   "outputs": [
    {
     "data": {
      "application/javascript": [
       "parent.postMessage({\"jupyterEvent\": \"custom.exercise_interaction\", \"data\": {\"outcomeType\": 1, \"valueTowardsCompletion\": 0.16666666666666666, \"interactionType\": 1, \"questionType\": 1, \"questionId\": \"3_PriceExtremes\", \"learnToolsVersion\": \"0.3.4\", \"failureMessage\": \"\", \"exceptionClass\": \"\", \"trace\": \"\"}}, \"*\")"
      ],
      "text/plain": [
       "<IPython.core.display.Javascript object>"
      ]
     },
     "metadata": {},
     "output_type": "display_data"
    },
    {
     "data": {
      "text/markdown": [
       "<span style=\"color:#33cc33\">Correct</span>"
      ],
      "text/plain": [
       "Correct"
      ]
     },
     "metadata": {},
     "output_type": "display_data"
    },
    {
     "data": {
      "text/html": [
       "<div>\n",
       "<style scoped>\n",
       "    .dataframe tbody tr th:only-of-type {\n",
       "        vertical-align: middle;\n",
       "    }\n",
       "\n",
       "    .dataframe tbody tr th {\n",
       "        vertical-align: top;\n",
       "    }\n",
       "\n",
       "    .dataframe thead th {\n",
       "        text-align: right;\n",
       "    }\n",
       "</style>\n",
       "<table border=\"1\" class=\"dataframe\">\n",
       "  <thead>\n",
       "    <tr style=\"text-align: right;\">\n",
       "      <th></th>\n",
       "      <th>min</th>\n",
       "      <th>max</th>\n",
       "    </tr>\n",
       "    <tr>\n",
       "      <th>variety</th>\n",
       "      <th></th>\n",
       "      <th></th>\n",
       "    </tr>\n",
       "  </thead>\n",
       "  <tbody>\n",
       "    <tr>\n",
       "      <th>Abouriou</th>\n",
       "      <td>15.0</td>\n",
       "      <td>75.0</td>\n",
       "    </tr>\n",
       "    <tr>\n",
       "      <th>Agiorgitiko</th>\n",
       "      <td>10.0</td>\n",
       "      <td>66.0</td>\n",
       "    </tr>\n",
       "    <tr>\n",
       "      <th>Aglianico</th>\n",
       "      <td>6.0</td>\n",
       "      <td>180.0</td>\n",
       "    </tr>\n",
       "    <tr>\n",
       "      <th>Aidani</th>\n",
       "      <td>27.0</td>\n",
       "      <td>27.0</td>\n",
       "    </tr>\n",
       "    <tr>\n",
       "      <th>Airen</th>\n",
       "      <td>8.0</td>\n",
       "      <td>10.0</td>\n",
       "    </tr>\n",
       "    <tr>\n",
       "      <th>...</th>\n",
       "      <td>...</td>\n",
       "      <td>...</td>\n",
       "    </tr>\n",
       "    <tr>\n",
       "      <th>Zinfandel</th>\n",
       "      <td>5.0</td>\n",
       "      <td>100.0</td>\n",
       "    </tr>\n",
       "    <tr>\n",
       "      <th>Zlahtina</th>\n",
       "      <td>13.0</td>\n",
       "      <td>16.0</td>\n",
       "    </tr>\n",
       "    <tr>\n",
       "      <th>Zweigelt</th>\n",
       "      <td>9.0</td>\n",
       "      <td>70.0</td>\n",
       "    </tr>\n",
       "    <tr>\n",
       "      <th>Çalkarası</th>\n",
       "      <td>19.0</td>\n",
       "      <td>19.0</td>\n",
       "    </tr>\n",
       "    <tr>\n",
       "      <th>Žilavka</th>\n",
       "      <td>15.0</td>\n",
       "      <td>15.0</td>\n",
       "    </tr>\n",
       "  </tbody>\n",
       "</table>\n",
       "<p>707 rows × 2 columns</p>\n",
       "</div>"
      ],
      "text/plain": [
       "              min    max\n",
       "variety                 \n",
       "Abouriou     15.0   75.0\n",
       "Agiorgitiko  10.0   66.0\n",
       "Aglianico     6.0  180.0\n",
       "Aidani       27.0   27.0\n",
       "Airen         8.0   10.0\n",
       "...           ...    ...\n",
       "Zinfandel     5.0  100.0\n",
       "Zlahtina     13.0   16.0\n",
       "Zweigelt      9.0   70.0\n",
       "Çalkarası    19.0   19.0\n",
       "Žilavka      15.0   15.0\n",
       "\n",
       "[707 rows x 2 columns]"
      ]
     },
     "execution_count": 6,
     "metadata": {},
     "output_type": "execute_result"
    }
   ],
   "source": [
    "price_extremes = reviews.groupby('variety').price.agg([min, max])\n",
    "# Check your answer\n",
    "q3.check()\n",
    "price_extremes"
   ]
  },
  {
   "cell_type": "code",
   "execution_count": 7,
   "id": "246bd251",
   "metadata": {
    "execution": {
     "iopub.execute_input": "2023-02-12T22:54:08.016767Z",
     "iopub.status.busy": "2023-02-12T22:54:08.015727Z",
     "iopub.status.idle": "2023-02-12T22:54:08.020521Z",
     "shell.execute_reply": "2023-02-12T22:54:08.019462Z"
    },
    "papermill": {
     "duration": 0.015148,
     "end_time": "2023-02-12T22:54:08.022859",
     "exception": false,
     "start_time": "2023-02-12T22:54:08.007711",
     "status": "completed"
    },
    "tags": []
   },
   "outputs": [],
   "source": [
    "#q3.hint()\n",
    "#q3.solution()"
   ]
  },
  {
   "cell_type": "markdown",
   "id": "dd6d5534",
   "metadata": {
    "papermill": {
     "duration": 0.006437,
     "end_time": "2023-02-12T22:54:08.036819",
     "exception": false,
     "start_time": "2023-02-12T22:54:08.030382",
     "status": "completed"
    },
    "tags": []
   },
   "source": [
    "## 4.\n",
    "What are the most expensive wine varieties? Create a variable `sorted_varieties` containing a copy of the dataframe from the previous question where varieties are sorted in descending order based on minimum price, then on maximum price (to break ties)."
   ]
  },
  {
   "cell_type": "code",
   "execution_count": 8,
   "id": "c1912915",
   "metadata": {
    "execution": {
     "iopub.execute_input": "2023-02-12T22:54:08.053020Z",
     "iopub.status.busy": "2023-02-12T22:54:08.052616Z",
     "iopub.status.idle": "2023-02-12T22:54:08.065289Z",
     "shell.execute_reply": "2023-02-12T22:54:08.064195Z"
    },
    "papermill": {
     "duration": 0.024109,
     "end_time": "2023-02-12T22:54:08.067697",
     "exception": false,
     "start_time": "2023-02-12T22:54:08.043588",
     "status": "completed"
    },
    "tags": []
   },
   "outputs": [
    {
     "data": {
      "application/javascript": [
       "parent.postMessage({\"jupyterEvent\": \"custom.exercise_interaction\", \"data\": {\"outcomeType\": 1, \"valueTowardsCompletion\": 0.16666666666666666, \"interactionType\": 1, \"questionType\": 1, \"questionId\": \"4_SortedVarieties\", \"learnToolsVersion\": \"0.3.4\", \"failureMessage\": \"\", \"exceptionClass\": \"\", \"trace\": \"\"}}, \"*\")"
      ],
      "text/plain": [
       "<IPython.core.display.Javascript object>"
      ]
     },
     "metadata": {},
     "output_type": "display_data"
    },
    {
     "data": {
      "text/markdown": [
       "<span style=\"color:#33cc33\">Correct</span>"
      ],
      "text/plain": [
       "Correct"
      ]
     },
     "metadata": {},
     "output_type": "display_data"
    }
   ],
   "source": [
    "sorted_varieties = price_extremes.sort_values(by=['min','max'], ascending = False)\n",
    "\n",
    "# Check your answer\n",
    "q4.check()"
   ]
  },
  {
   "cell_type": "code",
   "execution_count": 9,
   "id": "8bb38942",
   "metadata": {
    "execution": {
     "iopub.execute_input": "2023-02-12T22:54:08.083470Z",
     "iopub.status.busy": "2023-02-12T22:54:08.083084Z",
     "iopub.status.idle": "2023-02-12T22:54:08.091443Z",
     "shell.execute_reply": "2023-02-12T22:54:08.090316Z"
    },
    "papermill": {
     "duration": 0.019026,
     "end_time": "2023-02-12T22:54:08.093834",
     "exception": false,
     "start_time": "2023-02-12T22:54:08.074808",
     "status": "completed"
    },
    "tags": []
   },
   "outputs": [
    {
     "data": {
      "application/javascript": [
       "parent.postMessage({\"jupyterEvent\": \"custom.exercise_interaction\", \"data\": {\"interactionType\": 3, \"questionType\": 1, \"questionId\": \"4_SortedVarieties\", \"learnToolsVersion\": \"0.3.4\", \"valueTowardsCompletion\": 0.0, \"failureMessage\": \"\", \"exceptionClass\": \"\", \"trace\": \"\", \"outcomeType\": 4}}, \"*\")"
      ],
      "text/plain": [
       "<IPython.core.display.Javascript object>"
      ]
     },
     "metadata": {},
     "output_type": "display_data"
    },
    {
     "data": {
      "text/markdown": [
       "<span style=\"color:#33cc99\">Solution:</span> \n",
       "```python\n",
       "sorted_varieties = price_extremes.sort_values(by=['min', 'max'], ascending=False)\n",
       "```"
      ],
      "text/plain": [
       "Solution: \n",
       "```python\n",
       "sorted_varieties = price_extremes.sort_values(by=['min', 'max'], ascending=False)\n",
       "```"
      ]
     },
     "metadata": {},
     "output_type": "display_data"
    }
   ],
   "source": [
    "#q4.hint()\n",
    "q4.solution()"
   ]
  },
  {
   "cell_type": "markdown",
   "id": "92d32e29",
   "metadata": {
    "papermill": {
     "duration": 0.007024,
     "end_time": "2023-02-12T22:54:08.108158",
     "exception": false,
     "start_time": "2023-02-12T22:54:08.101134",
     "status": "completed"
    },
    "tags": []
   },
   "source": [
    "## 5.\n",
    "Create a `Series` whose index is reviewers and whose values is the average review score given out by that reviewer. Hint: you will need the `taster_name` and `points` columns."
   ]
  },
  {
   "cell_type": "code",
   "execution_count": 10,
   "id": "e251248b",
   "metadata": {
    "execution": {
     "iopub.execute_input": "2023-02-12T22:54:08.124699Z",
     "iopub.status.busy": "2023-02-12T22:54:08.124280Z",
     "iopub.status.idle": "2023-02-12T22:54:08.145344Z",
     "shell.execute_reply": "2023-02-12T22:54:08.144038Z"
    },
    "papermill": {
     "duration": 0.0321,
     "end_time": "2023-02-12T22:54:08.147614",
     "exception": false,
     "start_time": "2023-02-12T22:54:08.115514",
     "status": "completed"
    },
    "tags": []
   },
   "outputs": [
    {
     "data": {
      "application/javascript": [
       "parent.postMessage({\"jupyterEvent\": \"custom.exercise_interaction\", \"data\": {\"outcomeType\": 1, \"valueTowardsCompletion\": 0.16666666666666666, \"interactionType\": 1, \"questionType\": 1, \"questionId\": \"5_ReviewerMeanRatings\", \"learnToolsVersion\": \"0.3.4\", \"failureMessage\": \"\", \"exceptionClass\": \"\", \"trace\": \"\"}}, \"*\")"
      ],
      "text/plain": [
       "<IPython.core.display.Javascript object>"
      ]
     },
     "metadata": {},
     "output_type": "display_data"
    },
    {
     "data": {
      "text/markdown": [
       "<span style=\"color:#33cc33\">Correct</span>"
      ],
      "text/plain": [
       "Correct"
      ]
     },
     "metadata": {},
     "output_type": "display_data"
    }
   ],
   "source": [
    "reviewer_mean_ratings = reviews.groupby('taster_name').points.mean()\n",
    "\n",
    "# Check your answer\n",
    "q5.check()"
   ]
  },
  {
   "cell_type": "code",
   "execution_count": 11,
   "id": "4fba1ec3",
   "metadata": {
    "execution": {
     "iopub.execute_input": "2023-02-12T22:54:08.164457Z",
     "iopub.status.busy": "2023-02-12T22:54:08.164077Z",
     "iopub.status.idle": "2023-02-12T22:54:08.167758Z",
     "shell.execute_reply": "2023-02-12T22:54:08.166966Z"
    },
    "papermill": {
     "duration": 0.014804,
     "end_time": "2023-02-12T22:54:08.169830",
     "exception": false,
     "start_time": "2023-02-12T22:54:08.155026",
     "status": "completed"
    },
    "tags": []
   },
   "outputs": [],
   "source": [
    "#q5.hint()\n",
    "#q5.solution()"
   ]
  },
  {
   "cell_type": "markdown",
   "id": "823768ba",
   "metadata": {
    "papermill": {
     "duration": 0.007302,
     "end_time": "2023-02-12T22:54:08.184620",
     "exception": false,
     "start_time": "2023-02-12T22:54:08.177318",
     "status": "completed"
    },
    "tags": []
   },
   "source": [
    "Are there significant differences in the average scores assigned by the various reviewers? Run the cell below to use the `describe()` method to see a summary of the range of values."
   ]
  },
  {
   "cell_type": "code",
   "execution_count": 12,
   "id": "285ac47b",
   "metadata": {
    "execution": {
     "iopub.execute_input": "2023-02-12T22:54:08.201655Z",
     "iopub.status.busy": "2023-02-12T22:54:08.200950Z",
     "iopub.status.idle": "2023-02-12T22:54:08.213002Z",
     "shell.execute_reply": "2023-02-12T22:54:08.211939Z"
    },
    "papermill": {
     "duration": 0.02322,
     "end_time": "2023-02-12T22:54:08.215330",
     "exception": false,
     "start_time": "2023-02-12T22:54:08.192110",
     "status": "completed"
    },
    "tags": []
   },
   "outputs": [
    {
     "data": {
      "text/plain": [
       "count    19.000000\n",
       "mean     88.233026\n",
       "std       1.243610\n",
       "min      85.855422\n",
       "25%      87.323501\n",
       "50%      88.536235\n",
       "75%      88.975256\n",
       "max      90.562551\n",
       "Name: points, dtype: float64"
      ]
     },
     "execution_count": 12,
     "metadata": {},
     "output_type": "execute_result"
    }
   ],
   "source": [
    "reviewer_mean_ratings.describe()"
   ]
  },
  {
   "cell_type": "markdown",
   "id": "6eed6989",
   "metadata": {
    "papermill": {
     "duration": 0.007345,
     "end_time": "2023-02-12T22:54:08.230442",
     "exception": false,
     "start_time": "2023-02-12T22:54:08.223097",
     "status": "completed"
    },
    "tags": []
   },
   "source": [
    "## 6.\n",
    "What combination of countries and varieties are most common? Create a `Series` whose index is a `MultiIndex`of `{country, variety}` pairs. For example, a pinot noir produced in the US should map to `{\"US\", \"Pinot Noir\"}`. Sort the values in the `Series` in descending order based on wine count."
   ]
  },
  {
   "cell_type": "code",
   "execution_count": 13,
   "id": "eb1b4a86",
   "metadata": {
    "execution": {
     "iopub.execute_input": "2023-02-12T22:54:08.247910Z",
     "iopub.status.busy": "2023-02-12T22:54:08.247198Z",
     "iopub.status.idle": "2023-02-12T22:54:08.281842Z",
     "shell.execute_reply": "2023-02-12T22:54:08.280456Z"
    },
    "papermill": {
     "duration": 0.04635,
     "end_time": "2023-02-12T22:54:08.284380",
     "exception": false,
     "start_time": "2023-02-12T22:54:08.238030",
     "status": "completed"
    },
    "tags": []
   },
   "outputs": [
    {
     "data": {
      "application/javascript": [
       "parent.postMessage({\"jupyterEvent\": \"custom.exercise_interaction\", \"data\": {\"outcomeType\": 1, \"valueTowardsCompletion\": 0.16666666666666666, \"interactionType\": 1, \"questionType\": 1, \"questionId\": \"6_GroupbyCountryVariety\", \"learnToolsVersion\": \"0.3.4\", \"failureMessage\": \"\", \"exceptionClass\": \"\", \"trace\": \"\"}}, \"*\")"
      ],
      "text/plain": [
       "<IPython.core.display.Javascript object>"
      ]
     },
     "metadata": {},
     "output_type": "display_data"
    },
    {
     "data": {
      "text/markdown": [
       "<span style=\"color:#33cc33\">Correct</span>"
      ],
      "text/plain": [
       "Correct"
      ]
     },
     "metadata": {},
     "output_type": "display_data"
    }
   ],
   "source": [
    "country_variety_counts = reviews.groupby(['country', 'variety']).size().sort_values(ascending=False)\n",
    "\n",
    "# Check your answer\n",
    "q6.check()"
   ]
  },
  {
   "cell_type": "code",
   "execution_count": 14,
   "id": "20881c2b",
   "metadata": {
    "execution": {
     "iopub.execute_input": "2023-02-12T22:54:08.302026Z",
     "iopub.status.busy": "2023-02-12T22:54:08.301633Z",
     "iopub.status.idle": "2023-02-12T22:54:08.306071Z",
     "shell.execute_reply": "2023-02-12T22:54:08.304998Z"
    },
    "papermill": {
     "duration": 0.016166,
     "end_time": "2023-02-12T22:54:08.308412",
     "exception": false,
     "start_time": "2023-02-12T22:54:08.292246",
     "status": "completed"
    },
    "tags": []
   },
   "outputs": [],
   "source": [
    "#q6.hint()\n",
    "#q6.solution()"
   ]
  },
  {
   "cell_type": "markdown",
   "id": "15de6293",
   "metadata": {
    "papermill": {
     "duration": 0.007691,
     "end_time": "2023-02-12T22:54:08.324003",
     "exception": false,
     "start_time": "2023-02-12T22:54:08.316312",
     "status": "completed"
    },
    "tags": []
   },
   "source": [
    "# Keep going\n",
    "\n",
    "Move on to the [**data types and missing data**](https://www.kaggle.com/residentmario/data-types-and-missing-values)."
   ]
  },
  {
   "cell_type": "markdown",
   "id": "f322a6a3",
   "metadata": {
    "papermill": {
     "duration": 0.007682,
     "end_time": "2023-02-12T22:54:08.339617",
     "exception": false,
     "start_time": "2023-02-12T22:54:08.331935",
     "status": "completed"
    },
    "tags": []
   },
   "source": [
    "---\n",
    "\n",
    "\n",
    "\n",
    "\n",
    "*Have questions or comments? Visit the [course discussion forum](https://www.kaggle.com/learn/pandas/discussion) to chat with other learners.*"
   ]
  }
 ],
 "metadata": {
  "kernelspec": {
   "display_name": "Python 3",
   "language": "python",
   "name": "python3"
  },
  "language_info": {
   "codemirror_mode": {
    "name": "ipython",
    "version": 3
   },
   "file_extension": ".py",
   "mimetype": "text/x-python",
   "name": "python",
   "nbconvert_exporter": "python",
   "pygments_lexer": "ipython3",
   "version": "3.7.12"
  },
  "papermill": {
   "default_parameters": {},
   "duration": 12.83945,
   "end_time": "2023-02-12T22:54:09.069335",
   "environment_variables": {},
   "exception": null,
   "input_path": "__notebook__.ipynb",
   "output_path": "__notebook__.ipynb",
   "parameters": {},
   "start_time": "2023-02-12T22:53:56.229885",
   "version": "2.3.4"
  }
 },
 "nbformat": 4,
 "nbformat_minor": 5
}
