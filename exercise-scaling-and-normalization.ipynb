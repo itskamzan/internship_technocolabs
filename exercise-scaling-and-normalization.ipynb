{
 "cells": [
  {
   "cell_type": "markdown",
   "id": "640066b8",
   "metadata": {
    "papermill": {
     "duration": 0.005453,
     "end_time": "2023-02-12T09:24:00.905855",
     "exception": false,
     "start_time": "2023-02-12T09:24:00.900402",
     "status": "completed"
    },
    "tags": []
   },
   "source": [
    "**This notebook is an exercise in the [Data Cleaning](https://www.kaggle.com/learn/data-cleaning) course.  You can reference the tutorial at [this link](https://www.kaggle.com/alexisbcook/scaling-and-normalization).**\n",
    "\n",
    "---\n"
   ]
  },
  {
   "cell_type": "markdown",
   "id": "1725e3d4",
   "metadata": {
    "papermill": {
     "duration": 0.004198,
     "end_time": "2023-02-12T09:24:00.914650",
     "exception": false,
     "start_time": "2023-02-12T09:24:00.910452",
     "status": "completed"
    },
    "tags": []
   },
   "source": [
    "In this exercise, you'll apply what you learned in the **Scaling and normalization** tutorial.\n",
    "\n",
    "# Setup\n",
    "\n",
    "The questions below will give you feedback on your work. Run the following cell to set up the feedback system."
   ]
  },
  {
   "cell_type": "code",
   "execution_count": 1,
   "id": "ff988b11",
   "metadata": {
    "execution": {
     "iopub.execute_input": "2023-02-12T09:24:00.925684Z",
     "iopub.status.busy": "2023-02-12T09:24:00.925277Z",
     "iopub.status.idle": "2023-02-12T09:24:03.960908Z",
     "shell.execute_reply": "2023-02-12T09:24:03.959726Z"
    },
    "papermill": {
     "duration": 3.044074,
     "end_time": "2023-02-12T09:24:03.963247",
     "exception": false,
     "start_time": "2023-02-12T09:24:00.919173",
     "status": "completed"
    },
    "tags": []
   },
   "outputs": [
    {
     "name": "stdout",
     "output_type": "stream",
     "text": [
      "Setup Complete\n"
     ]
    }
   ],
   "source": [
    "from learntools.core import binder\n",
    "binder.bind(globals())\n",
    "from learntools.data_cleaning.ex2 import *\n",
    "print(\"Setup Complete\")"
   ]
  },
  {
   "cell_type": "markdown",
   "id": "7a3d9825",
   "metadata": {
    "papermill": {
     "duration": 0.004433,
     "end_time": "2023-02-12T09:24:03.972418",
     "exception": false,
     "start_time": "2023-02-12T09:24:03.967985",
     "status": "completed"
    },
    "tags": []
   },
   "source": [
    "# Get our environment set up\n",
    "\n",
    "To practice scaling and normalization, we're going to use a [dataset of Kickstarter campaigns](https://www.kaggle.com/kemical/kickstarter-projects). (Kickstarter is a website where people can ask people to invest in various projects and concept products.)\n",
    "\n",
    "The next code cell loads in the libraries and dataset we'll be using. "
   ]
  },
  {
   "cell_type": "code",
   "execution_count": 2,
   "id": "54915dd4",
   "metadata": {
    "execution": {
     "iopub.execute_input": "2023-02-12T09:24:03.983029Z",
     "iopub.status.busy": "2023-02-12T09:24:03.982610Z",
     "iopub.status.idle": "2023-02-12T09:24:04.930134Z",
     "shell.execute_reply": "2023-02-12T09:24:04.928799Z"
    },
    "papermill": {
     "duration": 0.955707,
     "end_time": "2023-02-12T09:24:04.932657",
     "exception": false,
     "start_time": "2023-02-12T09:24:03.976950",
     "status": "completed"
    },
    "tags": []
   },
   "outputs": [],
   "source": [
    "# modules we'll use\n",
    "import pandas as pd\n",
    "import numpy as np\n",
    "\n",
    "# for Box-Cox Transformation\n",
    "from scipy import stats\n",
    "\n",
    "# for min_max scaling\n",
    "from mlxtend.preprocessing import minmax_scaling\n",
    "\n",
    "# plotting modules\n",
    "import seaborn as sns\n",
    "import matplotlib.pyplot as plt\n",
    "\n",
    "# read in all our data\n",
    "kickstarters_2017 = pd.read_csv(\"../input/kickstarter-projects/ks-projects-201801.csv\")\n",
    "\n",
    "# set seed for reproducibility\n",
    "np.random.seed(0)"
   ]
  },
  {
   "cell_type": "markdown",
   "id": "31a4af2d",
   "metadata": {
    "papermill": {
     "duration": 0.004371,
     "end_time": "2023-02-12T09:24:04.941900",
     "exception": false,
     "start_time": "2023-02-12T09:24:04.937529",
     "status": "completed"
    },
    "tags": []
   },
   "source": [
    "Let's start by scaling the goals of each campaign, which is how much money they were asking for.  After scaling, all values lie between 0 and 1."
   ]
  },
  {
   "cell_type": "code",
   "execution_count": 3,
   "id": "ad97e6ca",
   "metadata": {
    "execution": {
     "iopub.execute_input": "2023-02-12T09:24:04.952705Z",
     "iopub.status.busy": "2023-02-12T09:24:04.952343Z",
     "iopub.status.idle": "2023-02-12T09:24:04.984876Z",
     "shell.execute_reply": "2023-02-12T09:24:04.983137Z"
    },
    "papermill": {
     "duration": 0.040352,
     "end_time": "2023-02-12T09:24:04.986976",
     "exception": false,
     "start_time": "2023-02-12T09:24:04.946624",
     "status": "completed"
    },
    "tags": []
   },
   "outputs": [
    {
     "name": "stdout",
     "output_type": "stream",
     "text": [
      "Original data\n",
      "Preview:\n",
      "    usd_goal_real\n",
      "0        1533.95\n",
      "1       30000.00\n",
      "2       45000.00\n",
      "3        5000.00\n",
      "4       19500.00\n",
      "Minimum value: 0.01 \n",
      "Maximum value: 166361390.71\n",
      "______________________________\n",
      "\n",
      "Scaled data\n",
      "Preview:\n",
      "    usd_goal_real\n",
      "0       0.000009\n",
      "1       0.000180\n",
      "2       0.000270\n",
      "3       0.000030\n",
      "4       0.000117\n",
      "Minimum value: 0.0 \n",
      "Maximum value: 1.0\n"
     ]
    }
   ],
   "source": [
    "# select the usd_goal_real column\n",
    "original_data = pd.DataFrame(kickstarters_2017.usd_goal_real)\n",
    "\n",
    "# scale the goals from 0 to 1\n",
    "scaled_data = minmax_scaling(original_data, columns=['usd_goal_real'])\n",
    "\n",
    "print('Original data\\nPreview:\\n', original_data.head())\n",
    "print('Minimum value:', float(original_data.min()),\n",
    "      '\\nMaximum value:', float(original_data.max()))\n",
    "print('_'*30)\n",
    "\n",
    "print('\\nScaled data\\nPreview:\\n', scaled_data.head())\n",
    "print('Minimum value:', float(scaled_data.min()),\n",
    "      '\\nMaximum value:', float(scaled_data.max()))"
   ]
  },
  {
   "cell_type": "markdown",
   "id": "a04d35b7",
   "metadata": {
    "papermill": {
     "duration": 0.00447,
     "end_time": "2023-02-12T09:24:04.996315",
     "exception": false,
     "start_time": "2023-02-12T09:24:04.991845",
     "status": "completed"
    },
    "tags": []
   },
   "source": [
    "# 1) Practice scaling\n",
    "\n",
    "We just scaled the \"usd_goal_real\" column. What about the \"goal\" column?\n",
    "\n",
    "Begin by running the code cell below to create a DataFrame `original_goal_data` containing the \"goal\" column."
   ]
  },
  {
   "cell_type": "code",
   "execution_count": 4,
   "id": "5c0b6279",
   "metadata": {
    "execution": {
     "iopub.execute_input": "2023-02-12T09:24:05.008120Z",
     "iopub.status.busy": "2023-02-12T09:24:05.006932Z",
     "iopub.status.idle": "2023-02-12T09:24:05.012212Z",
     "shell.execute_reply": "2023-02-12T09:24:05.011509Z"
    },
    "papermill": {
     "duration": 0.012965,
     "end_time": "2023-02-12T09:24:05.014069",
     "exception": false,
     "start_time": "2023-02-12T09:24:05.001104",
     "status": "completed"
    },
    "tags": []
   },
   "outputs": [],
   "source": [
    "# select the usd_goal_real column\n",
    "original_goal_data = pd.DataFrame(kickstarters_2017.goal)"
   ]
  },
  {
   "cell_type": "markdown",
   "id": "e9223f49",
   "metadata": {
    "papermill": {
     "duration": 0.004457,
     "end_time": "2023-02-12T09:24:05.023430",
     "exception": false,
     "start_time": "2023-02-12T09:24:05.018973",
     "status": "completed"
    },
    "tags": []
   },
   "source": [
    "Use `original_goal_data` to create a new DataFrame `scaled_goal_data` with values scaled between 0 and 1. You must use the `minmax_scaling()` function."
   ]
  },
  {
   "cell_type": "code",
   "execution_count": 5,
   "id": "2d415098",
   "metadata": {
    "execution": {
     "iopub.execute_input": "2023-02-12T09:24:05.035722Z",
     "iopub.status.busy": "2023-02-12T09:24:05.033979Z",
     "iopub.status.idle": "2023-02-12T09:24:05.061478Z",
     "shell.execute_reply": "2023-02-12T09:24:05.060244Z"
    },
    "papermill": {
     "duration": 0.035239,
     "end_time": "2023-02-12T09:24:05.063411",
     "exception": false,
     "start_time": "2023-02-12T09:24:05.028172",
     "status": "completed"
    },
    "tags": []
   },
   "outputs": [
    {
     "data": {
      "application/javascript": [
       "parent.postMessage({\"jupyterEvent\": \"custom.exercise_interaction\", \"data\": {\"outcomeType\": 1, \"valueTowardsCompletion\": 0.3333333333333333, \"interactionType\": 1, \"questionType\": 1, \"questionId\": \"1_TryScaling\", \"learnToolsVersion\": \"0.3.4\", \"failureMessage\": \"\", \"exceptionClass\": \"\", \"trace\": \"\"}}, \"*\")"
      ],
      "text/plain": [
       "<IPython.core.display.Javascript object>"
      ]
     },
     "metadata": {},
     "output_type": "display_data"
    },
    {
     "data": {
      "text/markdown": [
       "<span style=\"color:#33cc33\">Correct</span>"
      ],
      "text/plain": [
       "Correct"
      ]
     },
     "metadata": {},
     "output_type": "display_data"
    }
   ],
   "source": [
    "# TODO: Your code here\n",
    "scaled_goal_data = minmax_scaling(original_goal_data, columns=['goal'])\n",
    "\n",
    "# Check your answer\n",
    "q1.check()"
   ]
  },
  {
   "cell_type": "code",
   "execution_count": 6,
   "id": "fb99737b",
   "metadata": {
    "execution": {
     "iopub.execute_input": "2023-02-12T09:24:05.075755Z",
     "iopub.status.busy": "2023-02-12T09:24:05.075375Z",
     "iopub.status.idle": "2023-02-12T09:24:05.080379Z",
     "shell.execute_reply": "2023-02-12T09:24:05.079124Z"
    },
    "papermill": {
     "duration": 0.014482,
     "end_time": "2023-02-12T09:24:05.082874",
     "exception": false,
     "start_time": "2023-02-12T09:24:05.068392",
     "status": "completed"
    },
    "tags": []
   },
   "outputs": [],
   "source": [
    "# Lines below will give you a hint or solution code\n",
    "#q1.hint()\n",
    "#q1.solution()"
   ]
  },
  {
   "cell_type": "markdown",
   "id": "423ad6c3",
   "metadata": {
    "papermill": {
     "duration": 0.004582,
     "end_time": "2023-02-12T09:24:05.092623",
     "exception": false,
     "start_time": "2023-02-12T09:24:05.088041",
     "status": "completed"
    },
    "tags": []
   },
   "source": [
    "# 2) Practice normalization\n",
    "\n",
    "Now you'll practice normalization. We begin by normalizing the amount of money pledged to each campaign."
   ]
  },
  {
   "cell_type": "code",
   "execution_count": 7,
   "id": "bf5e0d0d",
   "metadata": {
    "execution": {
     "iopub.execute_input": "2023-02-12T09:24:05.103747Z",
     "iopub.status.busy": "2023-02-12T09:24:05.103404Z",
     "iopub.status.idle": "2023-02-12T09:24:05.263893Z",
     "shell.execute_reply": "2023-02-12T09:24:05.262667Z"
    },
    "papermill": {
     "duration": 0.168803,
     "end_time": "2023-02-12T09:24:05.266244",
     "exception": false,
     "start_time": "2023-02-12T09:24:05.097441",
     "status": "completed"
    },
    "tags": []
   },
   "outputs": [
    {
     "name": "stdout",
     "output_type": "stream",
     "text": [
      "Original data\n",
      "Preview:\n",
      " 1     2421.0\n",
      "2      220.0\n",
      "3        1.0\n",
      "4     1283.0\n",
      "5    52375.0\n",
      "Name: usd_pledged_real, dtype: float64\n",
      "Minimum value: 0.45 \n",
      "Maximum value: 20338986.27\n",
      "______________________________\n",
      "\n",
      "Normalized data\n",
      "Preview:\n",
      " 1    10.165142\n",
      "2     6.468598\n",
      "3     0.000000\n",
      "4     9.129277\n",
      "5    15.836853\n",
      "Name: usd_pledged_real, dtype: float64\n",
      "Minimum value: -0.7779954122762203 \n",
      "Maximum value: 30.69054020451361\n"
     ]
    }
   ],
   "source": [
    "# get the index of all positive pledges (Box-Cox only takes positive values)\n",
    "index_of_positive_pledges = kickstarters_2017.usd_pledged_real > 0\n",
    "\n",
    "# get only positive pledges (using their indexes)\n",
    "positive_pledges = kickstarters_2017.usd_pledged_real.loc[index_of_positive_pledges]\n",
    "\n",
    "# normalize the pledges (w/ Box-Cox)\n",
    "normalized_pledges = pd.Series(stats.boxcox(positive_pledges)[0], \n",
    "                               name='usd_pledged_real', index=positive_pledges.index)\n",
    "\n",
    "print('Original data\\nPreview:\\n', positive_pledges.head())\n",
    "print('Minimum value:', float(positive_pledges.min()),\n",
    "      '\\nMaximum value:', float(positive_pledges.max()))\n",
    "print('_'*30)\n",
    "\n",
    "print('\\nNormalized data\\nPreview:\\n', normalized_pledges.head())\n",
    "print('Minimum value:', float(normalized_pledges.min()),\n",
    "      '\\nMaximum value:', float(normalized_pledges.max()))"
   ]
  },
  {
   "cell_type": "markdown",
   "id": "96ba020b",
   "metadata": {
    "papermill": {
     "duration": 0.0074,
     "end_time": "2023-02-12T09:24:05.281667",
     "exception": false,
     "start_time": "2023-02-12T09:24:05.274267",
     "status": "completed"
    },
    "tags": []
   },
   "source": [
    "The values have changed significantly with normalization!\n",
    "\n",
    "In the next code cell, you'll take a look at the distribution of the normalized data, where it should now resemble a normal distribution."
   ]
  },
  {
   "cell_type": "code",
   "execution_count": 8,
   "id": "af354d6e",
   "metadata": {
    "execution": {
     "iopub.execute_input": "2023-02-12T09:24:05.293615Z",
     "iopub.status.busy": "2023-02-12T09:24:05.293276Z",
     "iopub.status.idle": "2023-02-12T09:24:07.100097Z",
     "shell.execute_reply": "2023-02-12T09:24:07.098819Z"
    },
    "papermill": {
     "duration": 1.815706,
     "end_time": "2023-02-12T09:24:07.102751",
     "exception": false,
     "start_time": "2023-02-12T09:24:05.287045",
     "status": "completed"
    },
    "tags": []
   },
   "outputs": [
    {
     "data": {
      "image/png": "[encoded data removed]",
      "text/plain": [
       "<Figure size 432x288 with 1 Axes>"
      ]
     },
     "metadata": {
      "needs_background": "light"
     },
     "output_type": "display_data"
    }
   ],
   "source": [
    "# plot normalized data\n",
    "ax = sns.histplot(normalized_pledges, kde=True)\n",
    "ax.set_title(\"Normalized data\")\n",
    "plt.show()"
   ]
  },
  {
   "cell_type": "markdown",
   "id": "8e16ed86",
   "metadata": {
    "papermill": {
     "duration": 0.005154,
     "end_time": "2023-02-12T09:24:07.113290",
     "exception": false,
     "start_time": "2023-02-12T09:24:07.108136",
     "status": "completed"
    },
    "tags": []
   },
   "source": [
    "We used the \"usd_pledged_real\" column. Follow the same process to normalize the \"pledged\" column. "
   ]
  },
  {
   "cell_type": "code",
   "execution_count": 9,
   "id": "7051c4d2",
   "metadata": {
    "execution": {
     "iopub.execute_input": "2023-02-12T09:24:07.125318Z",
     "iopub.status.busy": "2023-02-12T09:24:07.124891Z",
     "iopub.status.idle": "2023-02-12T09:24:09.032607Z",
     "shell.execute_reply": "2023-02-12T09:24:09.031438Z"
    },
    "papermill": {
     "duration": 1.916434,
     "end_time": "2023-02-12T09:24:09.034888",
     "exception": false,
     "start_time": "2023-02-12T09:24:07.118454",
     "status": "completed"
    },
    "tags": []
   },
   "outputs": [
    {
     "data": {
      "text/plain": [
       "Text(0.5, 1.0, 'Normalized data')"
      ]
     },
     "execution_count": 9,
     "metadata": {},
     "output_type": "execute_result"
    },
    {
     "data": {
      "image/png": "[encoded data removed]",
      "text/plain": [
       "<Figure size 432x288 with 1 Axes>"
      ]
     },
     "metadata": {
      "needs_background": "light"
     },
     "output_type": "display_data"
    }
   ],
   "source": [
    "# TODO: Your code here!\n",
    "# get the index of all positive pledges (Box-Cox only takes positive values)\n",
    "index_positive_pledges = kickstarters_2017.pledged > 0\n",
    "\n",
    "# get only positive pledges (using their indexes)\n",
    "positive_pledges_only = kickstarters_2017.pledged.loc[index_positive_pledges]\n",
    "\n",
    "# normalize the pledges (w/ Box-Cox)\n",
    "normalized_values = pd.Series(stats.boxcox(positive_pledges_only)[0], \n",
    "                              name='pledged', index=positive_pledges_only.index)\n",
    "\n",
    "# plot normalized data\n",
    "ax = sns.histplot(normalized_values, kde=True)\n",
    "ax.set_title(\"Normalized data\")"
   ]
  },
  {
   "cell_type": "markdown",
   "id": "793f1cb1",
   "metadata": {
    "papermill": {
     "duration": 0.005652,
     "end_time": "2023-02-12T09:24:09.046409",
     "exception": false,
     "start_time": "2023-02-12T09:24:09.040757",
     "status": "completed"
    },
    "tags": []
   },
   "source": [
    "How does the normalized \"usd_pledged_real\" column look different from when we normalized the \"pledged\" column?  Or, do they look mostly the same?\n",
    "\n",
    "Once you have an answer, run the code cell below."
   ]
  },
  {
   "cell_type": "code",
   "execution_count": 10,
   "id": "32223ce2",
   "metadata": {
    "execution": {
     "iopub.execute_input": "2023-02-12T09:24:09.060586Z",
     "iopub.status.busy": "2023-02-12T09:24:09.059550Z",
     "iopub.status.idle": "2023-02-12T09:24:09.067762Z",
     "shell.execute_reply": "2023-02-12T09:24:09.066518Z"
    },
    "papermill": {
     "duration": 0.017382,
     "end_time": "2023-02-12T09:24:09.069945",
     "exception": false,
     "start_time": "2023-02-12T09:24:09.052563",
     "status": "completed"
    },
    "tags": []
   },
   "outputs": [
    {
     "data": {
      "application/javascript": [
       "parent.postMessage({\"jupyterEvent\": \"custom.exercise_interaction\", \"data\": {\"outcomeType\": 1, \"valueTowardsCompletion\": 0.3333333333333333, \"interactionType\": 1, \"questionType\": 4, \"questionId\": \"2_TryNormalization\", \"learnToolsVersion\": \"0.3.4\", \"failureMessage\": \"\", \"exceptionClass\": \"\", \"trace\": \"\"}}, \"*\")"
      ],
      "text/plain": [
       "<IPython.core.display.Javascript object>"
      ]
     },
     "metadata": {},
     "output_type": "display_data"
    },
    {
     "data": {
      "text/markdown": [
       "<span style=\"color:#33cc33\">Correct:</span> \n",
       "\n",
       "The distributions in the normalized data look mostly the same."
      ],
      "text/plain": [
       "Correct: \n",
       "\n",
       "The distributions in the normalized data look mostly the same."
      ]
     },
     "metadata": {},
     "output_type": "display_data"
    }
   ],
   "source": [
    "# Check your answer (Run this code cell to receive credit!)\n",
    "q2.check()"
   ]
  },
  {
   "cell_type": "code",
   "execution_count": 11,
   "id": "aa5c2a65",
   "metadata": {
    "execution": {
     "iopub.execute_input": "2023-02-12T09:24:09.083627Z",
     "iopub.status.busy": "2023-02-12T09:24:09.083276Z",
     "iopub.status.idle": "2023-02-12T09:24:09.087377Z",
     "shell.execute_reply": "2023-02-12T09:24:09.086156Z"
    },
    "papermill": {
     "duration": 0.013291,
     "end_time": "2023-02-12T09:24:09.089516",
     "exception": false,
     "start_time": "2023-02-12T09:24:09.076225",
     "status": "completed"
    },
    "tags": []
   },
   "outputs": [],
   "source": [
    "# Line below will give you a hint\n",
    "#q2.hint()"
   ]
  },
  {
   "cell_type": "markdown",
   "id": "34e974a2",
   "metadata": {
    "papermill": {
     "duration": 0.005789,
     "end_time": "2023-02-12T09:24:09.101216",
     "exception": false,
     "start_time": "2023-02-12T09:24:09.095427",
     "status": "completed"
    },
    "tags": []
   },
   "source": [
    "# (Optional) More practice\n",
    "\n",
    "Try finding a new dataset and pretend you're preparing to perform a [regression analysis](https://www.kaggle.com/rtatman/the-5-day-regression-challenge). \n",
    "\n",
    "[These datasets are a good start!](https://www.kaggle.com/rtatman/datasets-for-regression-analysis)\n",
    "\n",
    "Pick three or four variables and decide if you need to normalize or scale any of them and, if you think you should, practice applying the correct technique.\n",
    "\n",
    "# Keep going\n",
    "\n",
    "In the next lesson, learn how to [**parse dates**](https://www.kaggle.com/alexisbcook/parsing-dates) in a dataset."
   ]
  },
  {
   "cell_type": "markdown",
   "id": "c93e94fd",
   "metadata": {
    "papermill": {
     "duration": 0.005469,
     "end_time": "2023-02-12T09:24:09.112565",
     "exception": false,
     "start_time": "2023-02-12T09:24:09.107096",
     "status": "completed"
    },
    "tags": []
   },
   "source": [
    "---\n",
    "\n",
    "\n",
    "\n",
    "\n",
    "*Have questions or comments? Visit the [course discussion forum](https://www.kaggle.com/learn/data-cleaning/discussion) to chat with other learners.*"
   ]
  }
 ],
 "metadata": {
  "kernelspec": {
   "display_name": "Python 3",
   "language": "python",
   "name": "python3"
  },
  "language_info": {
   "codemirror_mode": {
    "name": "ipython",
    "version": 3
   },
   "file_extension": ".py",
   "mimetype": "text/x-python",
   "name": "python",
   "nbconvert_exporter": "python",
   "pygments_lexer": "ipython3",
   "version": "3.7.12"
  },
  "papermill": {
   "default_parameters": {},
   "duration": 16.123557,
   "end_time": "2023-02-12T09:24:09.839834",
   "environment_variables": {},
   "exception": null,
   "input_path": "__notebook__.ipynb",
   "output_path": "__notebook__.ipynb",
   "parameters": {},
   "start_time": "2023-02-12T09:23:53.716277",
   "version": "2.3.4"
  }
 },
 "nbformat": 4,
 "nbformat_minor": 5
}
