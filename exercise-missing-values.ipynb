{
 "cells": [
  {
   "cell_type": "markdown",
   "id": "ffc8e763",
   "metadata": {
    "papermill": {
     "duration": 0.009827,
     "end_time": "2023-02-13T10:20:35.201944",
     "exception": false,
     "start_time": "2023-02-13T10:20:35.192117",
     "status": "completed"
    },
    "tags": []
   },
   "source": [
    "**This notebook is an exercise in the [Intermediate Machine Learning](https://www.kaggle.com/learn/intermediate-machine-learning) course.  You can reference the tutorial at [this link](https://www.kaggle.com/alexisbcook/missing-values).**\n",
    "\n",
    "---\n"
   ]
  },
  {
   "cell_type": "markdown",
   "id": "fe991746",
   "metadata": {
    "papermill": {
     "duration": 0.008451,
     "end_time": "2023-02-13T10:20:35.219290",
     "exception": false,
     "start_time": "2023-02-13T10:20:35.210839",
     "status": "completed"
    },
    "tags": []
   },
   "source": [
    "Now it's your turn to test your new knowledge of **missing values** handling. You'll probably find it makes a big difference.\n",
    "\n",
    "# Setup\n",
    "\n",
    "The questions will give you feedback on your work. Run the following cell to set up the feedback system."
   ]
  },
  {
   "cell_type": "code",
   "execution_count": 1,
   "id": "7da93954",
   "metadata": {
    "execution": {
     "iopub.execute_input": "2023-02-13T10:20:35.238830Z",
     "iopub.status.busy": "2023-02-13T10:20:35.238368Z",
     "iopub.status.idle": "2023-02-13T10:20:35.297738Z",
     "shell.execute_reply": "2023-02-13T10:20:35.296471Z"
    },
    "papermill": {
     "duration": 0.072451,
     "end_time": "2023-02-13T10:20:35.300676",
     "exception": false,
     "start_time": "2023-02-13T10:20:35.228225",
     "status": "completed"
    },
    "tags": []
   },
   "outputs": [
    {
     "name": "stdout",
     "output_type": "stream",
     "text": [
      "Setup Complete\n"
     ]
    }
   ],
   "source": [
    "# Set up code checking\n",
    "import os\n",
    "if not os.path.exists(\"../input/train.csv\"):\n",
    "    os.symlink(\"../input/home-data-for-ml-course/train.csv\", \"../input/train.csv\")  \n",
    "    os.symlink(\"../input/home-data-for-ml-course/test.csv\", \"../input/test.csv\") \n",
    "from learntools.core import binder\n",
    "binder.bind(globals())\n",
    "from learntools.ml_intermediate.ex2 import *\n",
    "print(\"Setup Complete\")"
   ]
  },
  {
   "cell_type": "markdown",
   "id": "a652e293",
   "metadata": {
    "papermill": {
     "duration": 0.008315,
     "end_time": "2023-02-13T10:20:35.317867",
     "exception": false,
     "start_time": "2023-02-13T10:20:35.309552",
     "status": "completed"
    },
    "tags": []
   },
   "source": [
    "In this exercise, you will work with data from the [Housing Prices Competition for Kaggle Learn Users](https://www.kaggle.com/c/home-data-for-ml-course). \n",
    "\n",
    "![Ames Housing dataset image](https://i.imgur.com/lTJVG4e.png)\n",
    "\n",
    "Run the next code cell without changes to load the training and validation sets in `X_train`, `X_valid`, `y_train`, and `y_valid`.  The test set is loaded in `X_test`."
   ]
  },
  {
   "cell_type": "code",
   "execution_count": 2,
   "id": "c0e96a1c",
   "metadata": {
    "execution": {
     "iopub.execute_input": "2023-02-13T10:20:35.337405Z",
     "iopub.status.busy": "2023-02-13T10:20:35.336701Z",
     "iopub.status.idle": "2023-02-13T10:20:36.441849Z",
     "shell.execute_reply": "2023-02-13T10:20:36.440657Z"
    },
    "papermill": {
     "duration": 1.118225,
     "end_time": "2023-02-13T10:20:36.444759",
     "exception": false,
     "start_time": "2023-02-13T10:20:35.326534",
     "status": "completed"
    },
    "tags": []
   },
   "outputs": [],
   "source": [
    "import pandas as pd\n",
    "from sklearn.model_selection import train_test_split\n",
    "\n",
    "# Read the data\n",
    "X_full = pd.read_csv('../input/train.csv', index_col='Id')\n",
    "X_test_full = pd.read_csv('../input/test.csv', index_col='Id')\n",
    "\n",
    "# Remove rows with missing target, separate target from predictors\n",
    "X_full.dropna(axis=0, subset=['SalePrice'], inplace=True)\n",
    "y = X_full.SalePrice\n",
    "X_full.drop(['SalePrice'], axis=1, inplace=True)\n",
    "\n",
    "# To keep things simple, we'll use only numerical predictors\n",
    "X = X_full.select_dtypes(exclude=['object'])\n",
    "X_test = X_test_full.select_dtypes(exclude=['object'])\n",
    "\n",
    "# Break off validation set from training data\n",
    "X_train, X_valid, y_train, y_valid = train_test_split(X, y, train_size=0.8, test_size=0.2,\n",
    "                                                      random_state=0)"
   ]
  },
  {
   "cell_type": "markdown",
   "id": "216ccbc8",
   "metadata": {
    "papermill": {
     "duration": 0.008313,
     "end_time": "2023-02-13T10:20:36.461846",
     "exception": false,
     "start_time": "2023-02-13T10:20:36.453533",
     "status": "completed"
    },
    "tags": []
   },
   "source": [
    "Use the next code cell to print the first five rows of the data."
   ]
  },
  {
   "cell_type": "code",
   "execution_count": 3,
   "id": "9a46cfe4",
   "metadata": {
    "execution": {
     "iopub.execute_input": "2023-02-13T10:20:36.481052Z",
     "iopub.status.busy": "2023-02-13T10:20:36.480613Z",
     "iopub.status.idle": "2023-02-13T10:20:36.510673Z",
     "shell.execute_reply": "2023-02-13T10:20:36.509267Z"
    },
    "papermill": {
     "duration": 0.042955,
     "end_time": "2023-02-13T10:20:36.513447",
     "exception": false,
     "start_time": "2023-02-13T10:20:36.470492",
     "status": "completed"
    },
    "tags": []
   },
   "outputs": [
    {
     "data": {
      "text/html": [
       "<div>\n",
       "<style scoped>\n",
       "    .dataframe tbody tr th:only-of-type {\n",
       "        vertical-align: middle;\n",
       "    }\n",
       "\n",
       "    .dataframe tbody tr th {\n",
       "        vertical-align: top;\n",
       "    }\n",
       "\n",
       "    .dataframe thead th {\n",
       "        text-align: right;\n",
       "    }\n",
       "</style>\n",
       "<table border=\"1\" class=\"dataframe\">\n",
       "  <thead>\n",
       "    <tr style=\"text-align: right;\">\n",
       "      <th></th>\n",
       "      <th>MSSubClass</th>\n",
       "      <th>LotFrontage</th>\n",
       "      <th>LotArea</th>\n",
       "      <th>OverallQual</th>\n",
       "      <th>OverallCond</th>\n",
       "      <th>YearBuilt</th>\n",
       "      <th>YearRemodAdd</th>\n",
       "      <th>MasVnrArea</th>\n",
       "      <th>BsmtFinSF1</th>\n",
       "      <th>BsmtFinSF2</th>\n",
       "      <th>...</th>\n",
       "      <th>GarageArea</th>\n",
       "      <th>WoodDeckSF</th>\n",
       "      <th>OpenPorchSF</th>\n",
       "      <th>EnclosedPorch</th>\n",
       "      <th>3SsnPorch</th>\n",
       "      <th>ScreenPorch</th>\n",
       "      <th>PoolArea</th>\n",
       "      <th>MiscVal</th>\n",
       "      <th>MoSold</th>\n",
       "      <th>YrSold</th>\n",
       "    </tr>\n",
       "    <tr>\n",
       "      <th>Id</th>\n",
       "      <th></th>\n",
       "      <th></th>\n",
       "      <th></th>\n",
       "      <th></th>\n",
       "      <th></th>\n",
       "      <th></th>\n",
       "      <th></th>\n",
       "      <th></th>\n",
       "      <th></th>\n",
       "      <th></th>\n",
       "      <th></th>\n",
       "      <th></th>\n",
       "      <th></th>\n",
       "      <th></th>\n",
       "      <th></th>\n",
       "      <th></th>\n",
       "      <th></th>\n",
       "      <th></th>\n",
       "      <th></th>\n",
       "      <th></th>\n",
       "      <th></th>\n",
       "    </tr>\n",
       "  </thead>\n",
       "  <tbody>\n",
       "    <tr>\n",
       "      <th>619</th>\n",
       "      <td>20</td>\n",
       "      <td>90.0</td>\n",
       "      <td>11694</td>\n",
       "      <td>9</td>\n",
       "      <td>5</td>\n",
       "      <td>2007</td>\n",
       "      <td>2007</td>\n",
       "      <td>452.0</td>\n",
       "      <td>48</td>\n",
       "      <td>0</td>\n",
       "      <td>...</td>\n",
       "      <td>774</td>\n",
       "      <td>0</td>\n",
       "      <td>108</td>\n",
       "      <td>0</td>\n",
       "      <td>0</td>\n",
       "      <td>260</td>\n",
       "      <td>0</td>\n",
       "      <td>0</td>\n",
       "      <td>7</td>\n",
       "      <td>2007</td>\n",
       "    </tr>\n",
       "    <tr>\n",
       "      <th>871</th>\n",
       "      <td>20</td>\n",
       "      <td>60.0</td>\n",
       "      <td>6600</td>\n",
       "      <td>5</td>\n",
       "      <td>5</td>\n",
       "      <td>1962</td>\n",
       "      <td>1962</td>\n",
       "      <td>0.0</td>\n",
       "      <td>0</td>\n",
       "      <td>0</td>\n",
       "      <td>...</td>\n",
       "      <td>308</td>\n",
       "      <td>0</td>\n",
       "      <td>0</td>\n",
       "      <td>0</td>\n",
       "      <td>0</td>\n",
       "      <td>0</td>\n",
       "      <td>0</td>\n",
       "      <td>0</td>\n",
       "      <td>8</td>\n",
       "      <td>2009</td>\n",
       "    </tr>\n",
       "    <tr>\n",
       "      <th>93</th>\n",
       "      <td>30</td>\n",
       "      <td>80.0</td>\n",
       "      <td>13360</td>\n",
       "      <td>5</td>\n",
       "      <td>7</td>\n",
       "      <td>1921</td>\n",
       "      <td>2006</td>\n",
       "      <td>0.0</td>\n",
       "      <td>713</td>\n",
       "      <td>0</td>\n",
       "      <td>...</td>\n",
       "      <td>432</td>\n",
       "      <td>0</td>\n",
       "      <td>0</td>\n",
       "      <td>44</td>\n",
       "      <td>0</td>\n",
       "      <td>0</td>\n",
       "      <td>0</td>\n",
       "      <td>0</td>\n",
       "      <td>8</td>\n",
       "      <td>2009</td>\n",
       "    </tr>\n",
       "    <tr>\n",
       "      <th>818</th>\n",
       "      <td>20</td>\n",
       "      <td>NaN</td>\n",
       "      <td>13265</td>\n",
       "      <td>8</td>\n",
       "      <td>5</td>\n",
       "      <td>2002</td>\n",
       "      <td>2002</td>\n",
       "      <td>148.0</td>\n",
       "      <td>1218</td>\n",
       "      <td>0</td>\n",
       "      <td>...</td>\n",
       "      <td>857</td>\n",
       "      <td>150</td>\n",
       "      <td>59</td>\n",
       "      <td>0</td>\n",
       "      <td>0</td>\n",
       "      <td>0</td>\n",
       "      <td>0</td>\n",
       "      <td>0</td>\n",
       "      <td>7</td>\n",
       "      <td>2008</td>\n",
       "    </tr>\n",
       "    <tr>\n",
       "      <th>303</th>\n",
       "      <td>20</td>\n",
       "      <td>118.0</td>\n",
       "      <td>13704</td>\n",
       "      <td>7</td>\n",
       "      <td>5</td>\n",
       "      <td>2001</td>\n",
       "      <td>2002</td>\n",
       "      <td>150.0</td>\n",
       "      <td>0</td>\n",
       "      <td>0</td>\n",
       "      <td>...</td>\n",
       "      <td>843</td>\n",
       "      <td>468</td>\n",
       "      <td>81</td>\n",
       "      <td>0</td>\n",
       "      <td>0</td>\n",
       "      <td>0</td>\n",
       "      <td>0</td>\n",
       "      <td>0</td>\n",
       "      <td>1</td>\n",
       "      <td>2006</td>\n",
       "    </tr>\n",
       "  </tbody>\n",
       "</table>\n",
       "<p>5 rows × 36 columns</p>\n",
       "</div>"
      ],
      "text/plain": [
       "     MSSubClass  LotFrontage  LotArea  OverallQual  OverallCond  YearBuilt  \\\n",
       "Id                                                                           \n",
       "619          20         90.0    11694            9            5       2007   \n",
       "871          20         60.0     6600            5            5       1962   \n",
       "93           30         80.0    13360            5            7       1921   \n",
       "818          20          NaN    13265            8            5       2002   \n",
       "303          20        118.0    13704            7            5       2001   \n",
       "\n",
       "     YearRemodAdd  MasVnrArea  BsmtFinSF1  BsmtFinSF2  ...  GarageArea  \\\n",
       "Id                                                     ...               \n",
       "619          2007       452.0          48           0  ...         774   \n",
       "871          1962         0.0           0           0  ...         308   \n",
       "93           2006         0.0         713           0  ...         432   \n",
       "818          2002       148.0        1218           0  ...         857   \n",
       "303          2002       150.0           0           0  ...         843   \n",
       "\n",
       "     WoodDeckSF  OpenPorchSF  EnclosedPorch  3SsnPorch  ScreenPorch  PoolArea  \\\n",
       "Id                                                                              \n",
       "619           0          108              0          0          260         0   \n",
       "871           0            0              0          0            0         0   \n",
       "93            0            0             44          0            0         0   \n",
       "818         150           59              0          0            0         0   \n",
       "303         468           81              0          0            0         0   \n",
       "\n",
       "     MiscVal  MoSold  YrSold  \n",
       "Id                            \n",
       "619        0       7    2007  \n",
       "871        0       8    2009  \n",
       "93         0       8    2009  \n",
       "818        0       7    2008  \n",
       "303        0       1    2006  \n",
       "\n",
       "[5 rows x 36 columns]"
      ]
     },
     "execution_count": 3,
     "metadata": {},
     "output_type": "execute_result"
    }
   ],
   "source": [
    "X_train.head()"
   ]
  },
  {
   "cell_type": "markdown",
   "id": "4b2c1962",
   "metadata": {
    "papermill": {
     "duration": 0.008839,
     "end_time": "2023-02-13T10:20:36.532383",
     "exception": false,
     "start_time": "2023-02-13T10:20:36.523544",
     "status": "completed"
    },
    "tags": []
   },
   "source": [
    "You can already see a few missing values in the first several rows.  In the next step, you'll obtain a more comprehensive understanding of the missing values in the dataset.\n",
    "\n",
    "# Step 1: Preliminary investigation\n",
    "\n",
    "Run the code cell below without changes."
   ]
  },
  {
   "cell_type": "code",
   "execution_count": 4,
   "id": "e01df651",
   "metadata": {
    "execution": {
     "iopub.execute_input": "2023-02-13T10:20:36.552680Z",
     "iopub.status.busy": "2023-02-13T10:20:36.551866Z",
     "iopub.status.idle": "2023-02-13T10:20:36.562194Z",
     "shell.execute_reply": "2023-02-13T10:20:36.560203Z"
    },
    "papermill": {
     "duration": 0.023388,
     "end_time": "2023-02-13T10:20:36.564726",
     "exception": false,
     "start_time": "2023-02-13T10:20:36.541338",
     "status": "completed"
    },
    "tags": []
   },
   "outputs": [
    {
     "name": "stdout",
     "output_type": "stream",
     "text": [
      "(1168, 36)\n",
      "LotFrontage    212\n",
      "MasVnrArea       6\n",
      "GarageYrBlt     58\n",
      "dtype: int64\n"
     ]
    }
   ],
   "source": [
    "# Shape of training data (num_rows, num_columns)\n",
    "print(X_train.shape)\n",
    "\n",
    "# Number of missing values in each column of training data\n",
    "missing_val_count_by_column = (X_train.isnull().sum())\n",
    "print(missing_val_count_by_column[missing_val_count_by_column > 0])"
   ]
  },
  {
   "cell_type": "markdown",
   "id": "ad70e626",
   "metadata": {
    "papermill": {
     "duration": 0.008714,
     "end_time": "2023-02-13T10:20:36.582759",
     "exception": false,
     "start_time": "2023-02-13T10:20:36.574045",
     "status": "completed"
    },
    "tags": []
   },
   "source": [
    "### Part A\n",
    "\n",
    "Use the above output to answer the questions below."
   ]
  },
  {
   "cell_type": "code",
   "execution_count": 5,
   "id": "972282e7",
   "metadata": {
    "execution": {
     "iopub.execute_input": "2023-02-13T10:20:36.603475Z",
     "iopub.status.busy": "2023-02-13T10:20:36.602439Z",
     "iopub.status.idle": "2023-02-13T10:20:36.611357Z",
     "shell.execute_reply": "2023-02-13T10:20:36.610475Z"
    },
    "papermill": {
     "duration": 0.021554,
     "end_time": "2023-02-13T10:20:36.613533",
     "exception": false,
     "start_time": "2023-02-13T10:20:36.591979",
     "status": "completed"
    },
    "tags": []
   },
   "outputs": [
    {
     "data": {
      "application/javascript": [
       "parent.postMessage({\"jupyterEvent\": \"custom.exercise_interaction\", \"data\": {\"outcomeType\": 1, \"valueTowardsCompletion\": 1.0, \"interactionType\": 1, \"questionType\": 1, \"questionId\": \"1.1_InvestigateEquality\", \"learnToolsVersion\": \"0.3.4\", \"failureMessage\": \"\", \"exceptionClass\": \"\", \"trace\": \"\"}}, \"*\")"
      ],
      "text/plain": [
       "<IPython.core.display.Javascript object>"
      ]
     },
     "metadata": {},
     "output_type": "display_data"
    },
    {
     "data": {
      "text/markdown": [
       "<span style=\"color:#33cc33\">Correct</span>"
      ],
      "text/plain": [
       "Correct"
      ]
     },
     "metadata": {},
     "output_type": "display_data"
    }
   ],
   "source": [
    "# Fill in the line below: How many rows are in the training data?\n",
    "num_rows = 1168\n",
    "\n",
    "# Fill in the line below: How many columns in the training data\n",
    "# have missing values?\n",
    "num_cols_with_missing = 3\n",
    "\n",
    "# Fill in the line below: How many missing entries are contained in \n",
    "# all of the training data?\n",
    "tot_missing = 276\n",
    "\n",
    "# Check your answers\n",
    "step_1.a.check()"
   ]
  },
  {
   "cell_type": "code",
   "execution_count": 6,
   "id": "2909caed",
   "metadata": {
    "execution": {
     "iopub.execute_input": "2023-02-13T10:20:36.634985Z",
     "iopub.status.busy": "2023-02-13T10:20:36.634190Z",
     "iopub.status.idle": "2023-02-13T10:20:36.638192Z",
     "shell.execute_reply": "2023-02-13T10:20:36.637369Z"
    },
    "papermill": {
     "duration": 0.017258,
     "end_time": "2023-02-13T10:20:36.640362",
     "exception": false,
     "start_time": "2023-02-13T10:20:36.623104",
     "status": "completed"
    },
    "tags": []
   },
   "outputs": [],
   "source": [
    "# Lines below will give you a hint or solution code\n",
    "#step_1.a.hint()\n",
    "#step_1.a.solution()"
   ]
  },
  {
   "cell_type": "markdown",
   "id": "937bf760",
   "metadata": {
    "papermill": {
     "duration": 0.009114,
     "end_time": "2023-02-13T10:20:36.658970",
     "exception": false,
     "start_time": "2023-02-13T10:20:36.649856",
     "status": "completed"
    },
    "tags": []
   },
   "source": [
    "### Part B\n",
    "Considering your answers above, what do you think is likely the best approach to dealing with the missing values?"
   ]
  },
  {
   "cell_type": "code",
   "execution_count": 7,
   "id": "d3a87779",
   "metadata": {
    "execution": {
     "iopub.execute_input": "2023-02-13T10:20:36.680830Z",
     "iopub.status.busy": "2023-02-13T10:20:36.680103Z",
     "iopub.status.idle": "2023-02-13T10:20:36.688689Z",
     "shell.execute_reply": "2023-02-13T10:20:36.687169Z"
    },
    "papermill": {
     "duration": 0.022865,
     "end_time": "2023-02-13T10:20:36.691367",
     "exception": false,
     "start_time": "2023-02-13T10:20:36.668502",
     "status": "completed"
    },
    "tags": []
   },
   "outputs": [
    {
     "data": {
      "application/javascript": [
       "parent.postMessage({\"jupyterEvent\": \"custom.exercise_interaction\", \"data\": {\"outcomeType\": 1, \"valueTowardsCompletion\": 1.0, \"interactionType\": 1, \"questionType\": 4, \"questionId\": \"1.2_InvestigateThought\", \"learnToolsVersion\": \"0.3.4\", \"failureMessage\": \"\", \"exceptionClass\": \"\", \"trace\": \"\"}}, \"*\")"
      ],
      "text/plain": [
       "<IPython.core.display.Javascript object>"
      ]
     },
     "metadata": {},
     "output_type": "display_data"
    },
    {
     "data": {
      "text/markdown": [
       "<span style=\"color:#33cc33\">Correct:</span> \n",
       "\n",
       "Since there are relatively few missing entries in the data (the column with the greatest percentage of missing values is missing less than 20% of its entries), we can expect that dropping columns is unlikely to yield good results.  This is because we'd be throwing away a lot of valuable data, and so imputation will likely perform better."
      ],
      "text/plain": [
       "Correct: \n",
       "\n",
       "Since there are relatively few missing entries in the data (the column with the greatest percentage of missing values is missing less than 20% of its entries), we can expect that dropping columns is unlikely to yield good results.  This is because we'd be throwing away a lot of valuable data, and so imputation will likely perform better."
      ]
     },
     "metadata": {},
     "output_type": "display_data"
    }
   ],
   "source": [
    "# Check your answer (Run this code cell to receive credit!)\n",
    "step_1.b.check()"
   ]
  },
  {
   "cell_type": "code",
   "execution_count": 8,
   "id": "5adfcd64",
   "metadata": {
    "execution": {
     "iopub.execute_input": "2023-02-13T10:20:36.712665Z",
     "iopub.status.busy": "2023-02-13T10:20:36.712264Z",
     "iopub.status.idle": "2023-02-13T10:20:36.717146Z",
     "shell.execute_reply": "2023-02-13T10:20:36.715848Z"
    },
    "papermill": {
     "duration": 0.018285,
     "end_time": "2023-02-13T10:20:36.719372",
     "exception": false,
     "start_time": "2023-02-13T10:20:36.701087",
     "status": "completed"
    },
    "tags": []
   },
   "outputs": [],
   "source": [
    "#step_1.b.hint()"
   ]
  },
  {
   "cell_type": "markdown",
   "id": "4ac36abb",
   "metadata": {
    "papermill": {
     "duration": 0.009453,
     "end_time": "2023-02-13T10:20:36.738822",
     "exception": false,
     "start_time": "2023-02-13T10:20:36.729369",
     "status": "completed"
    },
    "tags": []
   },
   "source": [
    "To compare different approaches to dealing with missing values, you'll use the same `score_dataset()` function from the tutorial.  This function reports the [mean absolute error](https://en.wikipedia.org/wiki/Mean_absolute_error) (MAE) from a random forest model."
   ]
  },
  {
   "cell_type": "code",
   "execution_count": 9,
   "id": "3dfcb5c1",
   "metadata": {
    "execution": {
     "iopub.execute_input": "2023-02-13T10:20:36.760531Z",
     "iopub.status.busy": "2023-02-13T10:20:36.759801Z",
     "iopub.status.idle": "2023-02-13T10:20:36.950261Z",
     "shell.execute_reply": "2023-02-13T10:20:36.949115Z"
    },
    "papermill": {
     "duration": 0.204465,
     "end_time": "2023-02-13T10:20:36.953135",
     "exception": false,
     "start_time": "2023-02-13T10:20:36.748670",
     "status": "completed"
    },
    "tags": []
   },
   "outputs": [],
   "source": [
    "from sklearn.ensemble import RandomForestRegressor\n",
    "from sklearn.metrics import mean_absolute_error\n",
    "\n",
    "# Function for comparing different approaches\n",
    "def score_dataset(X_train, X_valid, y_train, y_valid):\n",
    "    model = RandomForestRegressor(n_estimators=100, random_state=0)\n",
    "    model.fit(X_train, y_train)\n",
    "    preds = model.predict(X_valid)\n",
    "    return mean_absolute_error(y_valid, preds)"
   ]
  },
  {
   "cell_type": "markdown",
   "id": "59e68149",
   "metadata": {
    "papermill": {
     "duration": 0.009327,
     "end_time": "2023-02-13T10:20:36.972346",
     "exception": false,
     "start_time": "2023-02-13T10:20:36.963019",
     "status": "completed"
    },
    "tags": []
   },
   "source": [
    "# Step 2: Drop columns with missing values\n",
    "\n",
    "In this step, you'll preprocess the data in `X_train` and `X_valid` to remove columns with missing values.  Set the preprocessed DataFrames to `reduced_X_train` and `reduced_X_valid`, respectively.  "
   ]
  },
  {
   "cell_type": "code",
   "execution_count": 10,
   "id": "9c7b63a3",
   "metadata": {
    "execution": {
     "iopub.execute_input": "2023-02-13T10:20:36.993405Z",
     "iopub.status.busy": "2023-02-13T10:20:36.992977Z",
     "iopub.status.idle": "2023-02-13T10:20:37.030130Z",
     "shell.execute_reply": "2023-02-13T10:20:37.028952Z"
    },
    "papermill": {
     "duration": 0.05065,
     "end_time": "2023-02-13T10:20:37.032738",
     "exception": false,
     "start_time": "2023-02-13T10:20:36.982088",
     "status": "completed"
    },
    "tags": []
   },
   "outputs": [
    {
     "data": {
      "application/javascript": [
       "parent.postMessage({\"jupyterEvent\": \"custom.exercise_interaction\", \"data\": {\"outcomeType\": 1, \"valueTowardsCompletion\": 1.0, \"interactionType\": 1, \"questionType\": 2, \"questionId\": \"2_DropMissing\", \"learnToolsVersion\": \"0.3.4\", \"failureMessage\": \"\", \"exceptionClass\": \"\", \"trace\": \"\"}}, \"*\")"
      ],
      "text/plain": [
       "<IPython.core.display.Javascript object>"
      ]
     },
     "metadata": {},
     "output_type": "display_data"
    },
    {
     "data": {
      "text/markdown": [
       "<span style=\"color:#33cc33\">Correct</span>"
      ],
      "text/plain": [
       "Correct"
      ]
     },
     "metadata": {},
     "output_type": "display_data"
    }
   ],
   "source": [
    "# Fill in the line below: get names of columns with missing values\n",
    "cols_with_missing = [col for col in X_train.columns\n",
    "                    if X_train[col].isnull().any()]\n",
    "\n",
    "# Fill in the lines below: drop columns in training and validation data\n",
    "reduced_X_train = X_train.drop(cols_with_missing, axis = 1)\n",
    "reduced_X_valid = X_valid.drop(cols_with_missing, axis = 1)\n",
    "\n",
    "# Check your answers\n",
    "step_2.check()"
   ]
  },
  {
   "cell_type": "code",
   "execution_count": 11,
   "id": "669fe48f",
   "metadata": {
    "execution": {
     "iopub.execute_input": "2023-02-13T10:20:37.054522Z",
     "iopub.status.busy": "2023-02-13T10:20:37.054116Z",
     "iopub.status.idle": "2023-02-13T10:20:37.058771Z",
     "shell.execute_reply": "2023-02-13T10:20:37.057614Z"
    },
    "papermill": {
     "duration": 0.018422,
     "end_time": "2023-02-13T10:20:37.061385",
     "exception": false,
     "start_time": "2023-02-13T10:20:37.042963",
     "status": "completed"
    },
    "tags": []
   },
   "outputs": [],
   "source": [
    "# Lines below will give you a hint or solution code\n",
    "#step_2.hint()\n",
    "#step_2.solution()"
   ]
  },
  {
   "cell_type": "markdown",
   "id": "e210e9ba",
   "metadata": {
    "papermill": {
     "duration": 0.009573,
     "end_time": "2023-02-13T10:20:37.081065",
     "exception": false,
     "start_time": "2023-02-13T10:20:37.071492",
     "status": "completed"
    },
    "tags": []
   },
   "source": [
    "Run the next code cell without changes to obtain the MAE for this approach."
   ]
  },
  {
   "cell_type": "code",
   "execution_count": 12,
   "id": "327f57b0",
   "metadata": {
    "execution": {
     "iopub.execute_input": "2023-02-13T10:20:37.102590Z",
     "iopub.status.busy": "2023-02-13T10:20:37.102170Z",
     "iopub.status.idle": "2023-02-13T10:20:38.214746Z",
     "shell.execute_reply": "2023-02-13T10:20:38.213364Z"
    },
    "papermill": {
     "duration": 1.127086,
     "end_time": "2023-02-13T10:20:38.218065",
     "exception": false,
     "start_time": "2023-02-13T10:20:37.090979",
     "status": "completed"
    },
    "tags": []
   },
   "outputs": [
    {
     "name": "stdout",
     "output_type": "stream",
     "text": [
      "MAE (Drop columns with missing values):\n",
      "17837.82570776256\n"
     ]
    }
   ],
   "source": [
    "print(\"MAE (Drop columns with missing values):\")\n",
    "print(score_dataset(reduced_X_train, reduced_X_valid, y_train, y_valid))"
   ]
  },
  {
   "cell_type": "markdown",
   "id": "16bd7792",
   "metadata": {
    "papermill": {
     "duration": 0.009647,
     "end_time": "2023-02-13T10:20:38.238178",
     "exception": false,
     "start_time": "2023-02-13T10:20:38.228531",
     "status": "completed"
    },
    "tags": []
   },
   "source": [
    "# Step 3: Imputation\n",
    "\n",
    "### Part A\n",
    "\n",
    "Use the next code cell to impute missing values with the mean value along each column.  Set the preprocessed DataFrames to `imputed_X_train` and `imputed_X_valid`.  Make sure that the column names match those in `X_train` and `X_valid`."
   ]
  },
  {
   "cell_type": "code",
   "execution_count": 13,
   "id": "b1939aaf",
   "metadata": {
    "execution": {
     "iopub.execute_input": "2023-02-13T10:20:38.261394Z",
     "iopub.status.busy": "2023-02-13T10:20:38.260955Z",
     "iopub.status.idle": "2023-02-13T10:20:38.297122Z",
     "shell.execute_reply": "2023-02-13T10:20:38.295858Z"
    },
    "papermill": {
     "duration": 0.050217,
     "end_time": "2023-02-13T10:20:38.299512",
     "exception": false,
     "start_time": "2023-02-13T10:20:38.249295",
     "status": "completed"
    },
    "tags": []
   },
   "outputs": [
    {
     "data": {
      "application/javascript": [
       "parent.postMessage({\"jupyterEvent\": \"custom.exercise_interaction\", \"data\": {\"outcomeType\": 1, \"valueTowardsCompletion\": 1.0, \"interactionType\": 1, \"questionType\": 2, \"questionId\": \"3.1_ImputeCode\", \"learnToolsVersion\": \"0.3.4\", \"failureMessage\": \"\", \"exceptionClass\": \"\", \"trace\": \"\"}}, \"*\")"
      ],
      "text/plain": [
       "<IPython.core.display.Javascript object>"
      ]
     },
     "metadata": {},
     "output_type": "display_data"
    },
    {
     "data": {
      "text/markdown": [
       "<span style=\"color:#33cc33\">Correct</span>"
      ],
      "text/plain": [
       "Correct"
      ]
     },
     "metadata": {},
     "output_type": "display_data"
    }
   ],
   "source": [
    "from sklearn.impute import SimpleImputer\n",
    "\n",
    "# Fill in the lines below: imputation\n",
    "my_imputer = SimpleImputer()\n",
    "imputed_X_train = pd.DataFrame(my_imputer.fit_transform(X_train))\n",
    "imputed_X_valid = pd.DataFrame(my_imputer.transform(X_valid))\n",
    "\n",
    "# Fill in the lines below: imputation removed column names; put them back\n",
    "imputed_X_train.columns = X_train.columns\n",
    "imputed_X_valid.columns = X_valid.columns\n",
    "\n",
    "# Check your answers\n",
    "step_3.a.check()"
   ]
  },
  {
   "cell_type": "code",
   "execution_count": 14,
   "id": "eab82bb1",
   "metadata": {
    "execution": {
     "iopub.execute_input": "2023-02-13T10:20:38.322528Z",
     "iopub.status.busy": "2023-02-13T10:20:38.322112Z",
     "iopub.status.idle": "2023-02-13T10:20:38.327620Z",
     "shell.execute_reply": "2023-02-13T10:20:38.326242Z"
    },
    "papermill": {
     "duration": 0.019981,
     "end_time": "2023-02-13T10:20:38.330030",
     "exception": false,
     "start_time": "2023-02-13T10:20:38.310049",
     "status": "completed"
    },
    "tags": []
   },
   "outputs": [],
   "source": [
    "# Lines below will give you a hint or solution code\n",
    "#step_3.a.hint()\n",
    "#step_3.a.solution()"
   ]
  },
  {
   "cell_type": "markdown",
   "id": "57f86f8c",
   "metadata": {
    "papermill": {
     "duration": 0.009962,
     "end_time": "2023-02-13T10:20:38.350379",
     "exception": false,
     "start_time": "2023-02-13T10:20:38.340417",
     "status": "completed"
    },
    "tags": []
   },
   "source": [
    "Run the next code cell without changes to obtain the MAE for this approach."
   ]
  },
  {
   "cell_type": "code",
   "execution_count": 15,
   "id": "377c3ed9",
   "metadata": {
    "execution": {
     "iopub.execute_input": "2023-02-13T10:20:38.372710Z",
     "iopub.status.busy": "2023-02-13T10:20:38.372307Z",
     "iopub.status.idle": "2023-02-13T10:20:39.606294Z",
     "shell.execute_reply": "2023-02-13T10:20:39.604669Z"
    },
    "papermill": {
     "duration": 1.248488,
     "end_time": "2023-02-13T10:20:39.609213",
     "exception": false,
     "start_time": "2023-02-13T10:20:38.360725",
     "status": "completed"
    },
    "tags": []
   },
   "outputs": [
    {
     "name": "stdout",
     "output_type": "stream",
     "text": [
      "MAE (Imputation):\n",
      "18062.894611872147\n"
     ]
    }
   ],
   "source": [
    "print(\"MAE (Imputation):\")\n",
    "print(score_dataset(imputed_X_train, imputed_X_valid, y_train, y_valid))"
   ]
  },
  {
   "cell_type": "markdown",
   "id": "318bbe6a",
   "metadata": {
    "papermill": {
     "duration": 0.010274,
     "end_time": "2023-02-13T10:20:39.630102",
     "exception": false,
     "start_time": "2023-02-13T10:20:39.619828",
     "status": "completed"
    },
    "tags": []
   },
   "source": [
    "### Part B\n",
    "\n",
    "Compare the MAE from each approach.  Does anything surprise you about the results?  Why do you think one approach performed better than the other?"
   ]
  },
  {
   "cell_type": "code",
   "execution_count": 16,
   "id": "fb9711d9",
   "metadata": {
    "execution": {
     "iopub.execute_input": "2023-02-13T10:20:39.653009Z",
     "iopub.status.busy": "2023-02-13T10:20:39.652590Z",
     "iopub.status.idle": "2023-02-13T10:20:39.662157Z",
     "shell.execute_reply": "2023-02-13T10:20:39.661197Z"
    },
    "papermill": {
     "duration": 0.023863,
     "end_time": "2023-02-13T10:20:39.664560",
     "exception": false,
     "start_time": "2023-02-13T10:20:39.640697",
     "status": "completed"
    },
    "tags": []
   },
   "outputs": [
    {
     "data": {
      "application/javascript": [
       "parent.postMessage({\"jupyterEvent\": \"custom.exercise_interaction\", \"data\": {\"outcomeType\": 1, \"valueTowardsCompletion\": 1.0, \"interactionType\": 1, \"questionType\": 4, \"questionId\": \"3.2_ImputeThought\", \"learnToolsVersion\": \"0.3.4\", \"failureMessage\": \"\", \"exceptionClass\": \"\", \"trace\": \"\"}}, \"*\")"
      ],
      "text/plain": [
       "<IPython.core.display.Javascript object>"
      ]
     },
     "metadata": {},
     "output_type": "display_data"
    },
    {
     "data": {
      "text/markdown": [
       "<span style=\"color:#33cc33\">Correct:</span> \n",
       "\n",
       "Given that thre are so few missing values in the dataset, we'd expect imputation to perform better than dropping columns entirely.  However, we see that dropping columns performs slightly better!  While this can probably partially be attributed to noise in the dataset, another potential explanation is that the imputation method is not a great match to this dataset.  That is, maybe instead of filling in the mean value, it makes more sense to set every missing value to a value of 0, to fill in the most frequently encountered value, or to use some other method.  For instance, consider the `GarageYrBlt` column (which indicates the year that the garage was built).  It's likely that in some cases, a missing value could indicate a house that does not have a garage.  Does it make more sense to fill in the median value along each column in this case?  Or could we get better results by filling in the minimum value along each column?  It's not quite clear what's best in this case, but perhaps we can rule out some options immediately - for instance, setting missing values in this column to 0 is likely to yield horrible results!"
      ],
      "text/plain": [
       "Correct: \n",
       "\n",
       "Given that thre are so few missing values in the dataset, we'd expect imputation to perform better than dropping columns entirely.  However, we see that dropping columns performs slightly better!  While this can probably partially be attributed to noise in the dataset, another potential explanation is that the imputation method is not a great match to this dataset.  That is, maybe instead of filling in the mean value, it makes more sense to set every missing value to a value of 0, to fill in the most frequently encountered value, or to use some other method.  For instance, consider the `GarageYrBlt` column (which indicates the year that the garage was built).  It's likely that in some cases, a missing value could indicate a house that does not have a garage.  Does it make more sense to fill in the median value along each column in this case?  Or could we get better results by filling in the minimum value along each column?  It's not quite clear what's best in this case, but perhaps we can rule out some options immediately - for instance, setting missing values in this column to 0 is likely to yield horrible results!"
      ]
     },
     "metadata": {},
     "output_type": "display_data"
    }
   ],
   "source": [
    "# Check your answer (Run this code cell to receive credit!)\n",
    "step_3.b.check()"
   ]
  },
  {
   "cell_type": "code",
   "execution_count": 17,
   "id": "1a60bb12",
   "metadata": {
    "execution": {
     "iopub.execute_input": "2023-02-13T10:20:39.688801Z",
     "iopub.status.busy": "2023-02-13T10:20:39.688374Z",
     "iopub.status.idle": "2023-02-13T10:20:39.693534Z",
     "shell.execute_reply": "2023-02-13T10:20:39.692389Z"
    },
    "papermill": {
     "duration": 0.019864,
     "end_time": "2023-02-13T10:20:39.696020",
     "exception": false,
     "start_time": "2023-02-13T10:20:39.676156",
     "status": "completed"
    },
    "tags": []
   },
   "outputs": [],
   "source": [
    "#step_3.b.hint()"
   ]
  },
  {
   "cell_type": "markdown",
   "id": "165136ff",
   "metadata": {
    "papermill": {
     "duration": 0.010332,
     "end_time": "2023-02-13T10:20:39.717305",
     "exception": false,
     "start_time": "2023-02-13T10:20:39.706973",
     "status": "completed"
    },
    "tags": []
   },
   "source": [
    "# Step 4: Generate test predictions\n",
    "\n",
    "In this final step, you'll use any approach of your choosing to deal with missing values.  Once you've preprocessed the training and validation features, you'll train and evaluate a random forest model.  Then, you'll preprocess the test data before generating predictions that can be submitted to the competition!\n",
    "\n",
    "### Part A\n",
    "\n",
    "Use the next code cell to preprocess the training and validation data.  Set the preprocessed DataFrames to `final_X_train` and `final_X_valid`.  **You can use any approach of your choosing here!**  in order for this step to be marked as correct, you need only ensure:\n",
    "- the preprocessed DataFrames have the same number of columns,\n",
    "- the preprocessed DataFrames have no missing values, \n",
    "- `final_X_train` and `y_train` have the same number of rows, and\n",
    "- `final_X_valid` and `y_valid` have the same number of rows."
   ]
  },
  {
   "cell_type": "code",
   "execution_count": 18,
   "id": "0522a7e8",
   "metadata": {
    "execution": {
     "iopub.execute_input": "2023-02-13T10:20:39.741070Z",
     "iopub.status.busy": "2023-02-13T10:20:39.740665Z",
     "iopub.status.idle": "2023-02-13T10:20:39.775252Z",
     "shell.execute_reply": "2023-02-13T10:20:39.773789Z"
    },
    "papermill": {
     "duration": 0.049265,
     "end_time": "2023-02-13T10:20:39.777923",
     "exception": false,
     "start_time": "2023-02-13T10:20:39.728658",
     "status": "completed"
    },
    "tags": []
   },
   "outputs": [
    {
     "data": {
      "application/javascript": [
       "parent.postMessage({\"jupyterEvent\": \"custom.exercise_interaction\", \"data\": {\"outcomeType\": 1, \"valueTowardsCompletion\": 1.0, \"interactionType\": 1, \"questionType\": 2, \"questionId\": \"4.1_PredsCodeA\", \"learnToolsVersion\": \"0.3.4\", \"failureMessage\": \"\", \"exceptionClass\": \"\", \"trace\": \"\"}}, \"*\")"
      ],
      "text/plain": [
       "<IPython.core.display.Javascript object>"
      ]
     },
     "metadata": {},
     "output_type": "display_data"
    },
    {
     "data": {
      "text/markdown": [
       "<span style=\"color:#33cc33\">Correct</span>"
      ],
      "text/plain": [
       "Correct"
      ]
     },
     "metadata": {},
     "output_type": "display_data"
    }
   ],
   "source": [
    "# Preprocessed training and validation features\n",
    "final_imputer = SimpleImputer(strategy='median')\n",
    "final_X_train = pd.DataFrame(final_imputer.fit_transform(X_train))\n",
    "final_X_valid = pd.DataFrame(final_imputer.transform(X_valid))\n",
    "\n",
    "# Check your answers\n",
    "step_4.a.check()"
   ]
  },
  {
   "cell_type": "code",
   "execution_count": 19,
   "id": "b5a0e61d",
   "metadata": {
    "execution": {
     "iopub.execute_input": "2023-02-13T10:20:39.803555Z",
     "iopub.status.busy": "2023-02-13T10:20:39.803136Z",
     "iopub.status.idle": "2023-02-13T10:20:39.810150Z",
     "shell.execute_reply": "2023-02-13T10:20:39.808366Z"
    },
    "papermill": {
     "duration": 0.023643,
     "end_time": "2023-02-13T10:20:39.812880",
     "exception": false,
     "start_time": "2023-02-13T10:20:39.789237",
     "status": "completed"
    },
    "tags": []
   },
   "outputs": [],
   "source": [
    "# Lines below will give you a hint or solution code\n",
    "#step_4.a.hint()\n",
    "#step_4.a.solution()"
   ]
  },
  {
   "cell_type": "markdown",
   "id": "ffb988e4",
   "metadata": {
    "papermill": {
     "duration": 0.010658,
     "end_time": "2023-02-13T10:20:39.834833",
     "exception": false,
     "start_time": "2023-02-13T10:20:39.824175",
     "status": "completed"
    },
    "tags": []
   },
   "source": [
    "Run the next code cell to train and evaluate a random forest model.  (*Note that we don't use the `score_dataset()` function above, because we will soon use the trained model to generate test predictions!*)"
   ]
  },
  {
   "cell_type": "code",
   "execution_count": 20,
   "id": "79395594",
   "metadata": {
    "execution": {
     "iopub.execute_input": "2023-02-13T10:20:39.858979Z",
     "iopub.status.busy": "2023-02-13T10:20:39.858534Z",
     "iopub.status.idle": "2023-02-13T10:20:41.092260Z",
     "shell.execute_reply": "2023-02-13T10:20:41.090561Z"
    },
    "papermill": {
     "duration": 1.248941,
     "end_time": "2023-02-13T10:20:41.095002",
     "exception": false,
     "start_time": "2023-02-13T10:20:39.846061",
     "status": "completed"
    },
    "tags": []
   },
   "outputs": [
    {
     "name": "stdout",
     "output_type": "stream",
     "text": [
      "MAE (Your approach):\n",
      "17791.59899543379\n"
     ]
    }
   ],
   "source": [
    "# Define and fit model\n",
    "model = RandomForestRegressor(n_estimators=100, random_state=0)\n",
    "model.fit(final_X_train, y_train)\n",
    "\n",
    "# Get validation predictions and MAE\n",
    "preds_valid = model.predict(final_X_valid)\n",
    "print(\"MAE (Your approach):\")\n",
    "print(mean_absolute_error(y_valid, preds_valid))"
   ]
  },
  {
   "cell_type": "markdown",
   "id": "d4fa1ea3",
   "metadata": {
    "papermill": {
     "duration": 0.012389,
     "end_time": "2023-02-13T10:20:41.119151",
     "exception": false,
     "start_time": "2023-02-13T10:20:41.106762",
     "status": "completed"
    },
    "tags": []
   },
   "source": [
    "### Part B\n",
    "\n",
    "Use the next code cell to preprocess your test data.  Make sure that you use a method that agrees with how you preprocessed the training and validation data, and set the preprocessed test features to `final_X_test`.\n",
    "\n",
    "Then, use the preprocessed test features and the trained model to generate test predictions in `preds_test`.\n",
    "\n",
    "In order for this step to be marked correct, you need only ensure:\n",
    "- the preprocessed test DataFrame has no missing values, and\n",
    "- `final_X_test` has the same number of rows as `X_test`."
   ]
  },
  {
   "cell_type": "code",
   "execution_count": 21,
   "id": "712b7db4",
   "metadata": {
    "execution": {
     "iopub.execute_input": "2023-02-13T10:20:41.143136Z",
     "iopub.status.busy": "2023-02-13T10:20:41.142672Z",
     "iopub.status.idle": "2023-02-13T10:20:41.201103Z",
     "shell.execute_reply": "2023-02-13T10:20:41.199994Z"
    },
    "papermill": {
     "duration": 0.073382,
     "end_time": "2023-02-13T10:20:41.203713",
     "exception": false,
     "start_time": "2023-02-13T10:20:41.130331",
     "status": "completed"
    },
    "tags": []
   },
   "outputs": [
    {
     "data": {
      "application/javascript": [
       "parent.postMessage({\"jupyterEvent\": \"custom.exercise_interaction\", \"data\": {\"outcomeType\": 1, \"valueTowardsCompletion\": 1.0, \"interactionType\": 1, \"questionType\": 2, \"questionId\": \"4.2_PredsCodeB\", \"learnToolsVersion\": \"0.3.4\", \"failureMessage\": \"\", \"exceptionClass\": \"\", \"trace\": \"\"}}, \"*\")"
      ],
      "text/plain": [
       "<IPython.core.display.Javascript object>"
      ]
     },
     "metadata": {},
     "output_type": "display_data"
    },
    {
     "data": {
      "text/markdown": [
       "<span style=\"color:#33cc33\">Correct</span>"
      ],
      "text/plain": [
       "Correct"
      ]
     },
     "metadata": {},
     "output_type": "display_data"
    }
   ],
   "source": [
    "# Fill in the line below: preprocess test data\n",
    "final_X_test = pd.DataFrame(final_imputer.transform(X_test))\n",
    "\n",
    "# Fill in the line below: get test predictions\n",
    "preds_test = model.predict(final_X_test)\n",
    "\n",
    "# Check your answers\n",
    "step_4.b.check()"
   ]
  },
  {
   "cell_type": "code",
   "execution_count": 22,
   "id": "e84b3a22",
   "metadata": {
    "execution": {
     "iopub.execute_input": "2023-02-13T10:20:41.228625Z",
     "iopub.status.busy": "2023-02-13T10:20:41.228182Z",
     "iopub.status.idle": "2023-02-13T10:20:41.233007Z",
     "shell.execute_reply": "2023-02-13T10:20:41.232084Z"
    },
    "papermill": {
     "duration": 0.019707,
     "end_time": "2023-02-13T10:20:41.235211",
     "exception": false,
     "start_time": "2023-02-13T10:20:41.215504",
     "status": "completed"
    },
    "tags": []
   },
   "outputs": [],
   "source": [
    "# Lines below will give you a hint or solution code\n",
    "#step_4.b.hint()\n",
    "#step_4.b.solution()"
   ]
  },
  {
   "cell_type": "markdown",
   "id": "5fa46269",
   "metadata": {
    "papermill": {
     "duration": 0.011871,
     "end_time": "2023-02-13T10:20:41.258485",
     "exception": false,
     "start_time": "2023-02-13T10:20:41.246614",
     "status": "completed"
    },
    "tags": []
   },
   "source": [
    "Run the next code cell without changes to save your results to a CSV file that can be submitted directly to the competition."
   ]
  },
  {
   "cell_type": "code",
   "execution_count": 23,
   "id": "51de5022",
   "metadata": {
    "execution": {
     "iopub.execute_input": "2023-02-13T10:20:41.283871Z",
     "iopub.status.busy": "2023-02-13T10:20:41.283171Z",
     "iopub.status.idle": "2023-02-13T10:20:41.294486Z",
     "shell.execute_reply": "2023-02-13T10:20:41.293532Z"
    },
    "papermill": {
     "duration": 0.026758,
     "end_time": "2023-02-13T10:20:41.297039",
     "exception": false,
     "start_time": "2023-02-13T10:20:41.270281",
     "status": "completed"
    },
    "tags": []
   },
   "outputs": [],
   "source": [
    "# Save test predictions to file\n",
    "output = pd.DataFrame({'Id': X_test.index,\n",
    "                       'SalePrice': preds_test})\n",
    "output.to_csv('submission.csv', index=False)"
   ]
  },
  {
   "cell_type": "markdown",
   "id": "98ea74fb",
   "metadata": {
    "papermill": {
     "duration": 0.011112,
     "end_time": "2023-02-13T10:20:41.319649",
     "exception": false,
     "start_time": "2023-02-13T10:20:41.308537",
     "status": "completed"
    },
    "tags": []
   },
   "source": [
    "# Submit your results\n",
    "\n",
    "Once you have successfully completed Step 4, you're ready to submit your results to the leaderboard!  (_You also learned how to do this in the previous exercise.  If you need a reminder of how to do this, please use the instructions below._)  \n",
    "\n",
    "First, you'll need to join the competition if you haven't already.  So open a new window by clicking on [this link](https://www.kaggle.com/c/home-data-for-ml-course).  Then click on the **Join Competition** button.\n",
    "\n",
    "![join competition image](https://i.imgur.com/wLmFtH3.png)\n",
    "\n",
    "Next, follow the instructions below:\n",
    "1. Begin by clicking on the **Save Version** button in the top right corner of the window.  This will generate a pop-up window.  \n",
    "2. Ensure that the **Save and Run All** option is selected, and then click on the **Save** button.\n",
    "3. This generates a window in the bottom left corner of the notebook.  After it has finished running, click on the number to the right of the **Save Version** button.  This pulls up a list of versions on the right of the screen.  Click on the ellipsis **(...)** to the right of the most recent version, and select **Open in Viewer**.  This brings you into view mode of the same page. You will need to scroll down to get back to these instructions.\n",
    "4. Click on the **Output** tab on the right of the screen.  Then, click on the file you would like to submit, and click on the **Submit** button to submit your results to the leaderboard.\n",
    "\n",
    "You have now successfully submitted to the competition!\n",
    "\n",
    "If you want to keep working to improve your performance, select the **Edit** button in the top right of the screen. Then you can change your code and repeat the process. There's a lot of room to improve, and you will climb up the leaderboard as you work.\n",
    "\n",
    "\n",
    "# Keep going\n",
    "\n",
    "Move on to learn what **[categorical variables](https://www.kaggle.com/alexisbcook/categorical-variables)** are, along with how to incorporate them into your machine learning models.  Categorical variables are very common in real-world data, but you'll get an error if you try to plug them into your models without processing them first!"
   ]
  },
  {
   "cell_type": "markdown",
   "id": "6eeffdb3",
   "metadata": {
    "papermill": {
     "duration": 0.010986,
     "end_time": "2023-02-13T10:20:41.342182",
     "exception": false,
     "start_time": "2023-02-13T10:20:41.331196",
     "status": "completed"
    },
    "tags": []
   },
   "source": [
    "---\n",
    "\n",
    "\n",
    "\n",
    "\n",
    "*Have questions or comments? Visit the [course discussion forum](https://www.kaggle.com/learn/intermediate-machine-learning/discussion) to chat with other learners.*"
   ]
  }
 ],
 "metadata": {
  "kernelspec": {
   "display_name": "Python 3",
   "language": "python",
   "name": "python3"
  },
  "language_info": {
   "codemirror_mode": {
    "name": "ipython",
    "version": 3
   },
   "file_extension": ".py",
   "mimetype": "text/x-python",
   "name": "python",
   "nbconvert_exporter": "python",
   "pygments_lexer": "ipython3",
   "version": "3.7.12"
  },
  "papermill": {
   "default_parameters": {},
   "duration": 17.20863,
   "end_time": "2023-02-13T10:20:42.176590",
   "environment_variables": {},
   "exception": null,
   "input_path": "__notebook__.ipynb",
   "output_path": "__notebook__.ipynb",
   "parameters": {},
   "start_time": "2023-02-13T10:20:24.967960",
   "version": "2.3.4"
  }
 },
 "nbformat": 4,
 "nbformat_minor": 5
}
