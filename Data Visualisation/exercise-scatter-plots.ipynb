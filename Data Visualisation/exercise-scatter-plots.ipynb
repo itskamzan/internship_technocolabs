{
 "cells": [
  {
   "cell_type": "markdown",
   "id": "2b6408cf",
   "metadata": {
    "papermill": {
     "duration": 0.010036,
     "end_time": "2023-02-12T18:05:21.254179",
     "exception": false,
     "start_time": "2023-02-12T18:05:21.244143",
     "status": "completed"
    },
    "tags": []
   },
   "source": [
    "**This notebook is an exercise in the [Data Visualization](https://www.kaggle.com/learn/data-visualization) course.  You can reference the tutorial at [this link](https://www.kaggle.com/alexisbcook/scatter-plots).**\n",
    "\n",
    "---\n"
   ]
  },
  {
   "cell_type": "markdown",
   "id": "ac379433",
   "metadata": {
    "papermill": {
     "duration": 0.008142,
     "end_time": "2023-02-12T18:05:21.271501",
     "exception": false,
     "start_time": "2023-02-12T18:05:21.263359",
     "status": "completed"
    },
    "tags": []
   },
   "source": [
    "In this exercise, you will use your new knowledge to propose a solution to a real-world scenario.  To succeed, you will need to import data into Python, answer questions using the data, and generate **scatter plots** to understand patterns in the data.\n",
    "\n",
    "## Scenario\n",
    "\n",
    "You work for a major candy producer, and your goal is to write a report that your company can use to guide the design of its next product.  Soon after starting your research, you stumble across this [very interesting dataset](https://fivethirtyeight.com/features/the-ultimate-halloween-candy-power-ranking/) containing results from a fun survey to crowdsource favorite candies.\n",
    "\n",
    "## Setup\n",
    "\n",
    "Run the next cell to import and configure the Python libraries that you need to complete the exercise."
   ]
  },
  {
   "cell_type": "code",
   "execution_count": 1,
   "id": "c00f7bba",
   "metadata": {
    "execution": {
     "iopub.execute_input": "2023-02-12T18:05:21.291662Z",
     "iopub.status.busy": "2023-02-12T18:05:21.290677Z",
     "iopub.status.idle": "2023-02-12T18:05:22.489573Z",
     "shell.execute_reply": "2023-02-12T18:05:22.488290Z"
    },
    "papermill": {
     "duration": 1.212496,
     "end_time": "2023-02-12T18:05:22.492392",
     "exception": false,
     "start_time": "2023-02-12T18:05:21.279896",
     "status": "completed"
    },
    "tags": []
   },
   "outputs": [
    {
     "name": "stdout",
     "output_type": "stream",
     "text": [
      "Setup Complete\n"
     ]
    }
   ],
   "source": [
    "import pandas as pd\n",
    "pd.plotting.register_matplotlib_converters()\n",
    "import matplotlib.pyplot as plt\n",
    "%matplotlib inline\n",
    "import seaborn as sns\n",
    "print(\"Setup Complete\")"
   ]
  },
  {
   "cell_type": "markdown",
   "id": "cf5e4907",
   "metadata": {
    "papermill": {
     "duration": 0.008202,
     "end_time": "2023-02-12T18:05:22.509352",
     "exception": false,
     "start_time": "2023-02-12T18:05:22.501150",
     "status": "completed"
    },
    "tags": []
   },
   "source": [
    "The questions below will give you feedback on your work. Run the following cell to set up our feedback system."
   ]
  },
  {
   "cell_type": "code",
   "execution_count": 2,
   "id": "378d662f",
   "metadata": {
    "execution": {
     "iopub.execute_input": "2023-02-12T18:05:22.528818Z",
     "iopub.status.busy": "2023-02-12T18:05:22.528130Z",
     "iopub.status.idle": "2023-02-12T18:05:22.605850Z",
     "shell.execute_reply": "2023-02-12T18:05:22.604588Z"
    },
    "papermill": {
     "duration": 0.090465,
     "end_time": "2023-02-12T18:05:22.608493",
     "exception": false,
     "start_time": "2023-02-12T18:05:22.518028",
     "status": "completed"
    },
    "tags": []
   },
   "outputs": [
    {
     "name": "stdout",
     "output_type": "stream",
     "text": [
      "Setup Complete\n"
     ]
    }
   ],
   "source": [
    "# Set up code checking\n",
    "import os\n",
    "if not os.path.exists(\"../input/candy.csv\"):\n",
    "    os.symlink(\"../input/data-for-datavis/candy.csv\", \"../input/candy.csv\") \n",
    "from learntools.core import binder\n",
    "binder.bind(globals())\n",
    "from learntools.data_viz_to_coder.ex4 import *\n",
    "print(\"Setup Complete\")"
   ]
  },
  {
   "cell_type": "markdown",
   "id": "77d2c476",
   "metadata": {
    "papermill": {
     "duration": 0.008224,
     "end_time": "2023-02-12T18:05:22.625426",
     "exception": false,
     "start_time": "2023-02-12T18:05:22.617202",
     "status": "completed"
    },
    "tags": []
   },
   "source": [
    "## Step 1: Load the Data\n",
    "\n",
    "Read the candy data file into `candy_data`.  Use the `\"id\"` column to label the rows."
   ]
  },
  {
   "cell_type": "code",
   "execution_count": 3,
   "id": "47e9060a",
   "metadata": {
    "execution": {
     "iopub.execute_input": "2023-02-12T18:05:22.643957Z",
     "iopub.status.busy": "2023-02-12T18:05:22.643550Z",
     "iopub.status.idle": "2023-02-12T18:05:22.659134Z",
     "shell.execute_reply": "2023-02-12T18:05:22.658286Z"
    },
    "papermill": {
     "duration": 0.027311,
     "end_time": "2023-02-12T18:05:22.661201",
     "exception": false,
     "start_time": "2023-02-12T18:05:22.633890",
     "status": "completed"
    },
    "tags": []
   },
   "outputs": [
    {
     "data": {
      "application/javascript": [
       "parent.postMessage({\"jupyterEvent\": \"custom.exercise_interaction\", \"data\": {\"outcomeType\": 1, \"valueTowardsCompletion\": 0.3333333333333333, \"interactionType\": 1, \"questionType\": 1, \"questionId\": \"1_LoadData\", \"learnToolsVersion\": \"0.3.4\", \"failureMessage\": \"\", \"exceptionClass\": \"\", \"trace\": \"\"}}, \"*\")"
      ],
      "text/plain": [
       "<IPython.core.display.Javascript object>"
      ]
     },
     "metadata": {},
     "output_type": "display_data"
    },
    {
     "data": {
      "text/markdown": [
       "<span style=\"color:#33cc33\">Correct</span>"
      ],
      "text/plain": [
       "Correct"
      ]
     },
     "metadata": {},
     "output_type": "display_data"
    }
   ],
   "source": [
    "# Path of the file to read\n",
    "candy_filepath = \"../input/candy.csv\"\n",
    "\n",
    "# Fill in the line below to read the file into a variable candy_data\n",
    "candy_data = pd.read_csv(candy_filepath, index_col = 'id')\n",
    "\n",
    "# Run the line below with no changes to check that you've loaded the data correctly\n",
    "step_1.check()"
   ]
  },
  {
   "cell_type": "code",
   "execution_count": 4,
   "id": "0b2d7e1a",
   "metadata": {
    "execution": {
     "iopub.execute_input": "2023-02-12T18:05:22.681938Z",
     "iopub.status.busy": "2023-02-12T18:05:22.681078Z",
     "iopub.status.idle": "2023-02-12T18:05:22.685851Z",
     "shell.execute_reply": "2023-02-12T18:05:22.684851Z"
    },
    "papermill": {
     "duration": 0.018236,
     "end_time": "2023-02-12T18:05:22.689172",
     "exception": false,
     "start_time": "2023-02-12T18:05:22.670936",
     "status": "completed"
    },
    "tags": []
   },
   "outputs": [],
   "source": [
    "# Lines below will give you a hint or solution code\n",
    "#step_1.hint()\n",
    "#step_1.solution()"
   ]
  },
  {
   "cell_type": "markdown",
   "id": "261f0129",
   "metadata": {
    "papermill": {
     "duration": 0.008359,
     "end_time": "2023-02-12T18:05:22.706779",
     "exception": false,
     "start_time": "2023-02-12T18:05:22.698420",
     "status": "completed"
    },
    "tags": []
   },
   "source": [
    "## Step 2: Review the data\n",
    "\n",
    "Use a Python command to print the first five rows of the data."
   ]
  },
  {
   "cell_type": "code",
   "execution_count": 5,
   "id": "a0c96b53",
   "metadata": {
    "execution": {
     "iopub.execute_input": "2023-02-12T18:05:22.725934Z",
     "iopub.status.busy": "2023-02-12T18:05:22.725508Z",
     "iopub.status.idle": "2023-02-12T18:05:22.748610Z",
     "shell.execute_reply": "2023-02-12T18:05:22.747227Z"
    },
    "papermill": {
     "duration": 0.035508,
     "end_time": "2023-02-12T18:05:22.751040",
     "exception": false,
     "start_time": "2023-02-12T18:05:22.715532",
     "status": "completed"
    },
    "tags": []
   },
   "outputs": [
    {
     "data": {
      "text/html": [
       "<div>\n",
       "<style scoped>\n",
       "    .dataframe tbody tr th:only-of-type {\n",
       "        vertical-align: middle;\n",
       "    }\n",
       "\n",
       "    .dataframe tbody tr th {\n",
       "        vertical-align: top;\n",
       "    }\n",
       "\n",
       "    .dataframe thead th {\n",
       "        text-align: right;\n",
       "    }\n",
       "</style>\n",
       "<table border=\"1\" class=\"dataframe\">\n",
       "  <thead>\n",
       "    <tr style=\"text-align: right;\">\n",
       "      <th></th>\n",
       "      <th>competitorname</th>\n",
       "      <th>chocolate</th>\n",
       "      <th>fruity</th>\n",
       "      <th>caramel</th>\n",
       "      <th>peanutyalmondy</th>\n",
       "      <th>nougat</th>\n",
       "      <th>crispedricewafer</th>\n",
       "      <th>hard</th>\n",
       "      <th>bar</th>\n",
       "      <th>pluribus</th>\n",
       "      <th>sugarpercent</th>\n",
       "      <th>pricepercent</th>\n",
       "      <th>winpercent</th>\n",
       "    </tr>\n",
       "    <tr>\n",
       "      <th>id</th>\n",
       "      <th></th>\n",
       "      <th></th>\n",
       "      <th></th>\n",
       "      <th></th>\n",
       "      <th></th>\n",
       "      <th></th>\n",
       "      <th></th>\n",
       "      <th></th>\n",
       "      <th></th>\n",
       "      <th></th>\n",
       "      <th></th>\n",
       "      <th></th>\n",
       "      <th></th>\n",
       "    </tr>\n",
       "  </thead>\n",
       "  <tbody>\n",
       "    <tr>\n",
       "      <th>0</th>\n",
       "      <td>100 Grand</td>\n",
       "      <td>Yes</td>\n",
       "      <td>No</td>\n",
       "      <td>Yes</td>\n",
       "      <td>No</td>\n",
       "      <td>No</td>\n",
       "      <td>Yes</td>\n",
       "      <td>No</td>\n",
       "      <td>Yes</td>\n",
       "      <td>No</td>\n",
       "      <td>0.732</td>\n",
       "      <td>0.860</td>\n",
       "      <td>66.971725</td>\n",
       "    </tr>\n",
       "    <tr>\n",
       "      <th>1</th>\n",
       "      <td>3 Musketeers</td>\n",
       "      <td>Yes</td>\n",
       "      <td>No</td>\n",
       "      <td>No</td>\n",
       "      <td>No</td>\n",
       "      <td>Yes</td>\n",
       "      <td>No</td>\n",
       "      <td>No</td>\n",
       "      <td>Yes</td>\n",
       "      <td>No</td>\n",
       "      <td>0.604</td>\n",
       "      <td>0.511</td>\n",
       "      <td>67.602936</td>\n",
       "    </tr>\n",
       "    <tr>\n",
       "      <th>2</th>\n",
       "      <td>Air Heads</td>\n",
       "      <td>No</td>\n",
       "      <td>Yes</td>\n",
       "      <td>No</td>\n",
       "      <td>No</td>\n",
       "      <td>No</td>\n",
       "      <td>No</td>\n",
       "      <td>No</td>\n",
       "      <td>No</td>\n",
       "      <td>No</td>\n",
       "      <td>0.906</td>\n",
       "      <td>0.511</td>\n",
       "      <td>52.341465</td>\n",
       "    </tr>\n",
       "    <tr>\n",
       "      <th>3</th>\n",
       "      <td>Almond Joy</td>\n",
       "      <td>Yes</td>\n",
       "      <td>No</td>\n",
       "      <td>No</td>\n",
       "      <td>Yes</td>\n",
       "      <td>No</td>\n",
       "      <td>No</td>\n",
       "      <td>No</td>\n",
       "      <td>Yes</td>\n",
       "      <td>No</td>\n",
       "      <td>0.465</td>\n",
       "      <td>0.767</td>\n",
       "      <td>50.347546</td>\n",
       "    </tr>\n",
       "    <tr>\n",
       "      <th>4</th>\n",
       "      <td>Baby Ruth</td>\n",
       "      <td>Yes</td>\n",
       "      <td>No</td>\n",
       "      <td>Yes</td>\n",
       "      <td>Yes</td>\n",
       "      <td>Yes</td>\n",
       "      <td>No</td>\n",
       "      <td>No</td>\n",
       "      <td>Yes</td>\n",
       "      <td>No</td>\n",
       "      <td>0.604</td>\n",
       "      <td>0.767</td>\n",
       "      <td>56.914547</td>\n",
       "    </tr>\n",
       "  </tbody>\n",
       "</table>\n",
       "</div>"
      ],
      "text/plain": [
       "   competitorname chocolate fruity caramel peanutyalmondy nougat  \\\n",
       "id                                                                 \n",
       "0       100 Grand       Yes     No     Yes             No     No   \n",
       "1    3 Musketeers       Yes     No      No             No    Yes   \n",
       "2       Air Heads        No    Yes      No             No     No   \n",
       "3      Almond Joy       Yes     No      No            Yes     No   \n",
       "4       Baby Ruth       Yes     No     Yes            Yes    Yes   \n",
       "\n",
       "   crispedricewafer hard  bar pluribus  sugarpercent  pricepercent  winpercent  \n",
       "id                                                                              \n",
       "0               Yes   No  Yes       No         0.732         0.860   66.971725  \n",
       "1                No   No  Yes       No         0.604         0.511   67.602936  \n",
       "2                No   No   No       No         0.906         0.511   52.341465  \n",
       "3                No   No  Yes       No         0.465         0.767   50.347546  \n",
       "4                No   No  Yes       No         0.604         0.767   56.914547  "
      ]
     },
     "execution_count": 5,
     "metadata": {},
     "output_type": "execute_result"
    }
   ],
   "source": [
    "# Print the first five rows of the data\n",
    "candy_data.head()"
   ]
  },
  {
   "cell_type": "markdown",
   "id": "008557af",
   "metadata": {
    "papermill": {
     "duration": 0.008576,
     "end_time": "2023-02-12T18:05:22.768717",
     "exception": false,
     "start_time": "2023-02-12T18:05:22.760141",
     "status": "completed"
    },
    "tags": []
   },
   "source": [
    "The dataset contains 83 rows, where each corresponds to a different candy bar.  There are 13 columns:\n",
    "- `'competitorname'` contains the name of the candy bar. \n",
    "- the next **9** columns (from `'chocolate'` to `'pluribus'`) describe the candy.  For instance, rows with chocolate candies have `\"Yes\"` in the `'chocolate'` column (and candies without chocolate have `\"No\"` in the same column).\n",
    "- `'sugarpercent'` provides some indication of the amount of sugar, where higher values signify higher sugar content.\n",
    "- `'pricepercent'` shows the price per unit, relative to the other candies in the dataset.\n",
    "- `'winpercent'` is calculated from the survey results; higher values indicate that the candy was more popular with survey respondents.\n",
    "\n",
    "Use the first five rows of the data to answer the questions below."
   ]
  },
  {
   "cell_type": "code",
   "execution_count": 6,
   "id": "9503bece",
   "metadata": {
    "execution": {
     "iopub.execute_input": "2023-02-12T18:05:22.788619Z",
     "iopub.status.busy": "2023-02-12T18:05:22.788122Z",
     "iopub.status.idle": "2023-02-12T18:05:22.797552Z",
     "shell.execute_reply": "2023-02-12T18:05:22.796602Z"
    },
    "papermill": {
     "duration": 0.021913,
     "end_time": "2023-02-12T18:05:22.799589",
     "exception": false,
     "start_time": "2023-02-12T18:05:22.777676",
     "status": "completed"
    },
    "tags": []
   },
   "outputs": [
    {
     "data": {
      "application/javascript": [
       "parent.postMessage({\"jupyterEvent\": \"custom.exercise_interaction\", \"data\": {\"outcomeType\": 1, \"valueTowardsCompletion\": 0.3333333333333333, \"interactionType\": 1, \"questionType\": 1, \"questionId\": \"2_ReviewData\", \"learnToolsVersion\": \"0.3.4\", \"failureMessage\": \"\", \"exceptionClass\": \"\", \"trace\": \"\"}}, \"*\")"
      ],
      "text/plain": [
       "<IPython.core.display.Javascript object>"
      ]
     },
     "metadata": {},
     "output_type": "display_data"
    },
    {
     "data": {
      "text/markdown": [
       "<span style=\"color:#33cc33\">Correct</span>"
      ],
      "text/plain": [
       "Correct"
      ]
     },
     "metadata": {},
     "output_type": "display_data"
    }
   ],
   "source": [
    "# Fill in the line below: Which candy was more popular with survey respondents:\n",
    "# '3 Musketeers' or 'Almond Joy'?  (Please enclose your answer in single quotes.)\n",
    "more_popular = '3 Musketeers'\n",
    "\n",
    "# Fill in the line below: Which candy has higher sugar content: 'Air Heads'\n",
    "# or 'Baby Ruth'? (Please enclose your answer in single quotes.)\n",
    "more_sugar = 'Air Heads'\n",
    "\n",
    "# Check your answers\n",
    "step_2.check()"
   ]
  },
  {
   "cell_type": "code",
   "execution_count": 7,
   "id": "f9d809d5",
   "metadata": {
    "execution": {
     "iopub.execute_input": "2023-02-12T18:05:22.820596Z",
     "iopub.status.busy": "2023-02-12T18:05:22.819949Z",
     "iopub.status.idle": "2023-02-12T18:05:22.824876Z",
     "shell.execute_reply": "2023-02-12T18:05:22.823747Z"
    },
    "papermill": {
     "duration": 0.018138,
     "end_time": "2023-02-12T18:05:22.827192",
     "exception": false,
     "start_time": "2023-02-12T18:05:22.809054",
     "status": "completed"
    },
    "tags": []
   },
   "outputs": [],
   "source": [
    "# Lines below will give you a hint or solution code\n",
    "#step_2.hint()\n",
    "#step_2.solution()"
   ]
  },
  {
   "cell_type": "markdown",
   "id": "287bdf57",
   "metadata": {
    "papermill": {
     "duration": 0.009243,
     "end_time": "2023-02-12T18:05:22.845765",
     "exception": false,
     "start_time": "2023-02-12T18:05:22.836522",
     "status": "completed"
    },
    "tags": []
   },
   "source": [
    "## Step 3: The role of sugar\n",
    "\n",
    "Do people tend to prefer candies with higher sugar content?  \n",
    "\n",
    "#### Part A\n",
    "\n",
    "Create a scatter plot that shows the relationship between `'sugarpercent'` (on the horizontal x-axis) and `'winpercent'` (on the vertical y-axis).  _Don't add a regression line just yet -- you'll do that in the next step!_"
   ]
  },
  {
   "cell_type": "code",
   "execution_count": 8,
   "id": "bd42af55",
   "metadata": {
    "execution": {
     "iopub.execute_input": "2023-02-12T18:05:22.865906Z",
     "iopub.status.busy": "2023-02-12T18:05:22.865479Z",
     "iopub.status.idle": "2023-02-12T18:05:23.138087Z",
     "shell.execute_reply": "2023-02-12T18:05:23.136848Z"
    },
    "papermill": {
     "duration": 0.285544,
     "end_time": "2023-02-12T18:05:23.140619",
     "exception": false,
     "start_time": "2023-02-12T18:05:22.855075",
     "status": "completed"
    },
    "tags": []
   },
   "outputs": [
    {
     "data": {
      "application/javascript": [
       "parent.postMessage({\"jupyterEvent\": \"custom.exercise_interaction\", \"data\": {\"outcomeType\": 1, \"valueTowardsCompletion\": 0.3333333333333333, \"interactionType\": 1, \"questionType\": 2, \"questionId\": \"3.1_PlotBlueScatter\", \"learnToolsVersion\": \"0.3.4\", \"failureMessage\": \"\", \"exceptionClass\": \"\", \"trace\": \"\"}}, \"*\")"
      ],
      "text/plain": [
       "<IPython.core.display.Javascript object>"
      ]
     },
     "metadata": {},
     "output_type": "display_data"
    },
    {
     "data": {
      "text/markdown": [
       "<span style=\"color:#33cc33\">Correct</span>"
      ],
      "text/plain": [
       "Correct"
      ]
     },
     "metadata": {},
     "output_type": "display_data"
    },
    {
     "data": {
      "image/png": "[encoded data removed]",
      "text/plain": [
       "<Figure size 432x288 with 1 Axes>"
      ]
     },
     "metadata": {
      "needs_background": "light"
     },
     "output_type": "display_data"
    }
   ],
   "source": [
    "# Scatter plot showing the relationship between 'sugarpercent' and 'winpercent'\n",
    "sns.scatterplot(x = candy_data['sugarpercent'], y = candy_data['winpercent'])\n",
    "\n",
    "# Check your answer\n",
    "step_3.a.check()"
   ]
  },
  {
   "cell_type": "code",
   "execution_count": 9,
   "id": "b3cd8cbd",
   "metadata": {
    "execution": {
     "iopub.execute_input": "2023-02-12T18:05:23.162617Z",
     "iopub.status.busy": "2023-02-12T18:05:23.162103Z",
     "iopub.status.idle": "2023-02-12T18:05:23.166913Z",
     "shell.execute_reply": "2023-02-12T18:05:23.165736Z"
    },
    "papermill": {
     "duration": 0.018895,
     "end_time": "2023-02-12T18:05:23.169684",
     "exception": false,
     "start_time": "2023-02-12T18:05:23.150789",
     "status": "completed"
    },
    "tags": []
   },
   "outputs": [],
   "source": [
    "# Lines below will give you a hint or solution code\n",
    "#step_3.a.hint()\n",
    "#step_3.a.solution_plot()"
   ]
  },
  {
   "cell_type": "markdown",
   "id": "dc9adc85",
   "metadata": {
    "papermill": {
     "duration": 0.010029,
     "end_time": "2023-02-12T18:05:23.189604",
     "exception": false,
     "start_time": "2023-02-12T18:05:23.179575",
     "status": "completed"
    },
    "tags": []
   },
   "source": [
    "#### Part B\n",
    "\n",
    "Does the scatter plot show a **strong** correlation between the two variables?  If so, are candies with more sugar relatively more or less popular with the survey respondents?"
   ]
  },
  {
   "cell_type": "code",
   "execution_count": 10,
   "id": "93836569",
   "metadata": {
    "execution": {
     "iopub.execute_input": "2023-02-12T18:05:23.213425Z",
     "iopub.status.busy": "2023-02-12T18:05:23.212145Z",
     "iopub.status.idle": "2023-02-12T18:05:23.217920Z",
     "shell.execute_reply": "2023-02-12T18:05:23.217050Z"
    },
    "papermill": {
     "duration": 0.020112,
     "end_time": "2023-02-12T18:05:23.220248",
     "exception": false,
     "start_time": "2023-02-12T18:05:23.200136",
     "status": "completed"
    },
    "tags": []
   },
   "outputs": [],
   "source": [
    "#step_3.b.hint()"
   ]
  },
  {
   "cell_type": "code",
   "execution_count": 11,
   "id": "52e6eee0",
   "metadata": {
    "execution": {
     "iopub.execute_input": "2023-02-12T18:05:23.242674Z",
     "iopub.status.busy": "2023-02-12T18:05:23.241554Z",
     "iopub.status.idle": "2023-02-12T18:05:23.250056Z",
     "shell.execute_reply": "2023-02-12T18:05:23.249126Z"
    },
    "papermill": {
     "duration": 0.022154,
     "end_time": "2023-02-12T18:05:23.252261",
     "exception": false,
     "start_time": "2023-02-12T18:05:23.230107",
     "status": "completed"
    },
    "tags": []
   },
   "outputs": [
    {
     "data": {
      "application/javascript": [
       "parent.postMessage({\"jupyterEvent\": \"custom.exercise_interaction\", \"data\": {\"interactionType\": 3, \"questionType\": 4, \"questionId\": \"3.2_ThinkBlueScatter\", \"learnToolsVersion\": \"0.3.4\", \"valueTowardsCompletion\": 0.0, \"failureMessage\": \"\", \"exceptionClass\": \"\", \"trace\": \"\", \"outcomeType\": 4}}, \"*\")"
      ],
      "text/plain": [
       "<IPython.core.display.Javascript object>"
      ]
     },
     "metadata": {},
     "output_type": "display_data"
    },
    {
     "data": {
      "text/markdown": [
       "<span style=\"color:#33cc99\">Solution:</span> The scatter plot does not show a strong correlation between the two variables. Since there is no clear relationship between the two variables, this tells us that sugar content does not play a strong role in candy popularity."
      ],
      "text/plain": [
       "Solution: The scatter plot does not show a strong correlation between the two variables. Since there is no clear relationship between the two variables, this tells us that sugar content does not play a strong role in candy popularity."
      ]
     },
     "metadata": {},
     "output_type": "display_data"
    }
   ],
   "source": [
    "# Check your answer (Run this code cell to receive credit!)\n",
    "step_3.b.solution()"
   ]
  },
  {
   "cell_type": "markdown",
   "id": "5b92658f",
   "metadata": {
    "papermill": {
     "duration": 0.009792,
     "end_time": "2023-02-12T18:05:23.272558",
     "exception": false,
     "start_time": "2023-02-12T18:05:23.262766",
     "status": "completed"
    },
    "tags": []
   },
   "source": [
    "## Step 4: Take a closer look\n",
    "\n",
    "#### Part A\n",
    "\n",
    "Create the same scatter plot you created in **Step 3**, but now with a regression line!"
   ]
  },
  {
   "cell_type": "code",
   "execution_count": 12,
   "id": "075b8dd1",
   "metadata": {
    "execution": {
     "iopub.execute_input": "2023-02-12T18:05:23.295838Z",
     "iopub.status.busy": "2023-02-12T18:05:23.294932Z",
     "iopub.status.idle": "2023-02-12T18:05:23.641053Z",
     "shell.execute_reply": "2023-02-12T18:05:23.639879Z"
    },
    "papermill": {
     "duration": 0.361566,
     "end_time": "2023-02-12T18:05:23.644321",
     "exception": false,
     "start_time": "2023-02-12T18:05:23.282755",
     "status": "completed"
    },
    "tags": []
   },
   "outputs": [
    {
     "data": {
      "application/javascript": [
       "parent.postMessage({\"jupyterEvent\": \"custom.exercise_interaction\", \"data\": {\"outcomeType\": 1, \"valueTowardsCompletion\": 0.3333333333333333, \"interactionType\": 1, \"questionType\": 2, \"questionId\": \"4.1_PlotBlueReg\", \"learnToolsVersion\": \"0.3.4\", \"failureMessage\": \"\", \"exceptionClass\": \"\", \"trace\": \"\"}}, \"*\")"
      ],
      "text/plain": [
       "<IPython.core.display.Javascript object>"
      ]
     },
     "metadata": {},
     "output_type": "display_data"
    },
    {
     "data": {
      "text/markdown": [
       "<span style=\"color:#33cc33\">Correct</span>"
      ],
      "text/plain": [
       "Correct"
      ]
     },
     "metadata": {},
     "output_type": "display_data"
    },
    {
     "data": {
      "image/png": "[encoded data removed]",
      "text/plain": [
       "<Figure size 432x288 with 1 Axes>"
      ]
     },
     "metadata": {
      "needs_background": "light"
     },
     "output_type": "display_data"
    }
   ],
   "source": [
    "# Scatter plot w/ regression line showing the relationship between 'sugarpercent' and 'winpercent'\n",
    "sns.regplot(x = candy_data['sugarpercent'], y = candy_data['winpercent'])\n",
    "\n",
    "# Check your answer\n",
    "step_4.a.check()"
   ]
  },
  {
   "cell_type": "code",
   "execution_count": 13,
   "id": "e3d9f6a9",
   "metadata": {
    "execution": {
     "iopub.execute_input": "2023-02-12T18:05:23.667389Z",
     "iopub.status.busy": "2023-02-12T18:05:23.666904Z",
     "iopub.status.idle": "2023-02-12T18:05:23.672275Z",
     "shell.execute_reply": "2023-02-12T18:05:23.671390Z"
    },
    "papermill": {
     "duration": 0.019511,
     "end_time": "2023-02-12T18:05:23.674606",
     "exception": false,
     "start_time": "2023-02-12T18:05:23.655095",
     "status": "completed"
    },
    "tags": []
   },
   "outputs": [],
   "source": [
    "# Lines below will give you a hint or solution code\n",
    "#step_4.a.hint()\n",
    "#step_4.a.solution_plot()"
   ]
  },
  {
   "cell_type": "markdown",
   "id": "2a8a749c",
   "metadata": {
    "papermill": {
     "duration": 0.010293,
     "end_time": "2023-02-12T18:05:23.695839",
     "exception": false,
     "start_time": "2023-02-12T18:05:23.685546",
     "status": "completed"
    },
    "tags": []
   },
   "source": [
    "#### Part B\n",
    "\n",
    "According to the plot above, is there a **slight** correlation between `'winpercent'` and `'sugarpercent'`?  What does this tell you about the candy that people tend to prefer?"
   ]
  },
  {
   "cell_type": "code",
   "execution_count": 14,
   "id": "ee977322",
   "metadata": {
    "execution": {
     "iopub.execute_input": "2023-02-12T18:05:23.719152Z",
     "iopub.status.busy": "2023-02-12T18:05:23.718397Z",
     "iopub.status.idle": "2023-02-12T18:05:23.722348Z",
     "shell.execute_reply": "2023-02-12T18:05:23.721546Z"
    },
    "papermill": {
     "duration": 0.01802,
     "end_time": "2023-02-12T18:05:23.724433",
     "exception": false,
     "start_time": "2023-02-12T18:05:23.706413",
     "status": "completed"
    },
    "tags": []
   },
   "outputs": [],
   "source": [
    "#step_4.b.hint()"
   ]
  },
  {
   "cell_type": "code",
   "execution_count": 15,
   "id": "1debbb4d",
   "metadata": {
    "execution": {
     "iopub.execute_input": "2023-02-12T18:05:23.748202Z",
     "iopub.status.busy": "2023-02-12T18:05:23.747423Z",
     "iopub.status.idle": "2023-02-12T18:05:23.754903Z",
     "shell.execute_reply": "2023-02-12T18:05:23.754083Z"
    },
    "papermill": {
     "duration": 0.022129,
     "end_time": "2023-02-12T18:05:23.757378",
     "exception": false,
     "start_time": "2023-02-12T18:05:23.735249",
     "status": "completed"
    },
    "tags": []
   },
   "outputs": [
    {
     "data": {
      "application/javascript": [
       "parent.postMessage({\"jupyterEvent\": \"custom.exercise_interaction\", \"data\": {\"interactionType\": 3, \"questionType\": 4, \"questionId\": \"4.2_ThinkBlueReg\", \"learnToolsVersion\": \"0.3.4\", \"valueTowardsCompletion\": 0.0, \"failureMessage\": \"\", \"exceptionClass\": \"\", \"trace\": \"\", \"outcomeType\": 4}}, \"*\")"
      ],
      "text/plain": [
       "<IPython.core.display.Javascript object>"
      ]
     },
     "metadata": {},
     "output_type": "display_data"
    },
    {
     "data": {
      "text/markdown": [
       "<span style=\"color:#33cc99\">Solution:</span> Since the regression line has a slightly positive slope, this tells us that there is a slightly positive correlation between `'winpercent'` and `'sugarpercent'`. Thus, people have a slight preference for candies containing relatively more sugar."
      ],
      "text/plain": [
       "Solution: Since the regression line has a slightly positive slope, this tells us that there is a slightly positive correlation between `'winpercent'` and `'sugarpercent'`. Thus, people have a slight preference for candies containing relatively more sugar."
      ]
     },
     "metadata": {},
     "output_type": "display_data"
    }
   ],
   "source": [
    "# Check your answer (Run this code cell to receive credit!)\n",
    "step_4.b.solution()"
   ]
  },
  {
   "cell_type": "markdown",
   "id": "90d894a0",
   "metadata": {
    "papermill": {
     "duration": 0.010943,
     "end_time": "2023-02-12T18:05:23.779609",
     "exception": false,
     "start_time": "2023-02-12T18:05:23.768666",
     "status": "completed"
    },
    "tags": []
   },
   "source": [
    "## Step 5: Chocolate!\n",
    "\n",
    "In the code cell below, create a scatter plot to show the relationship between `'pricepercent'` (on the horizontal x-axis) and `'winpercent'` (on the vertical y-axis). Use the `'chocolate'` column to color-code the points.  _Don't add any regression lines just yet -- you'll do that in the next step!_"
   ]
  },
  {
   "cell_type": "code",
   "execution_count": 16,
   "id": "6c8f73d6",
   "metadata": {
    "execution": {
     "iopub.execute_input": "2023-02-12T18:05:23.803690Z",
     "iopub.status.busy": "2023-02-12T18:05:23.802934Z",
     "iopub.status.idle": "2023-02-12T18:05:24.071460Z",
     "shell.execute_reply": "2023-02-12T18:05:24.070252Z"
    },
    "papermill": {
     "duration": 0.283574,
     "end_time": "2023-02-12T18:05:24.074169",
     "exception": false,
     "start_time": "2023-02-12T18:05:23.790595",
     "status": "completed"
    },
    "tags": []
   },
   "outputs": [
    {
     "data": {
      "application/javascript": [
       "parent.postMessage({\"jupyterEvent\": \"custom.exercise_interaction\", \"data\": {\"outcomeType\": 1, \"valueTowardsCompletion\": 0.3333333333333333, \"interactionType\": 1, \"questionType\": 2, \"questionId\": \"5_ColorScatter\", \"learnToolsVersion\": \"0.3.4\", \"failureMessage\": \"\", \"exceptionClass\": \"\", \"trace\": \"\"}}, \"*\")"
      ],
      "text/plain": [
       "<IPython.core.display.Javascript object>"
      ]
     },
     "metadata": {},
     "output_type": "display_data"
    },
    {
     "data": {
      "text/markdown": [
       "<span style=\"color:#33cc33\">Correct</span>"
      ],
      "text/plain": [
       "Correct"
      ]
     },
     "metadata": {},
     "output_type": "display_data"
    },
    {
     "data": {
      "image/png": "[encoded data removed]",
      "text/plain": [
       "<Figure size 432x288 with 1 Axes>"
      ]
     },
     "metadata": {
      "needs_background": "light"
     },
     "output_type": "display_data"
    }
   ],
   "source": [
    "# Scatter plot showing the relationship between 'pricepercent', 'winpercent', and 'chocolate'\n",
    "sns.scatterplot(x = candy_data['pricepercent'], y = candy_data['winpercent'], hue = candy_data['chocolate'])\n",
    "\n",
    "# Check your answer\n",
    "step_5.check()"
   ]
  },
  {
   "cell_type": "code",
   "execution_count": 17,
   "id": "58650bbe",
   "metadata": {
    "execution": {
     "iopub.execute_input": "2023-02-12T18:05:24.099390Z",
     "iopub.status.busy": "2023-02-12T18:05:24.098919Z",
     "iopub.status.idle": "2023-02-12T18:05:24.103703Z",
     "shell.execute_reply": "2023-02-12T18:05:24.102561Z"
    },
    "papermill": {
     "duration": 0.019896,
     "end_time": "2023-02-12T18:05:24.105893",
     "exception": false,
     "start_time": "2023-02-12T18:05:24.085997",
     "status": "completed"
    },
    "tags": []
   },
   "outputs": [],
   "source": [
    "# Lines below will give you a hint or solution code\n",
    "#step_5.hint()\n",
    "#step_5.solution_plot()"
   ]
  },
  {
   "cell_type": "markdown",
   "id": "e928cf8b",
   "metadata": {
    "papermill": {
     "duration": 0.011263,
     "end_time": "2023-02-12T18:05:24.128943",
     "exception": false,
     "start_time": "2023-02-12T18:05:24.117680",
     "status": "completed"
    },
    "tags": []
   },
   "source": [
    "Can you see any interesting patterns in the scatter plot?  We'll investigate this plot further  by adding regression lines in the next step!\n",
    "\n",
    "## Step 6: Investigate chocolate\n",
    "\n",
    "#### Part A\n",
    "\n",
    "Create the same scatter plot you created in **Step 5**, but now with two regression lines, corresponding to (1) chocolate candies and (2) candies without chocolate."
   ]
  },
  {
   "cell_type": "code",
   "execution_count": 18,
   "id": "2f27bf68",
   "metadata": {
    "execution": {
     "iopub.execute_input": "2023-02-12T18:05:24.154263Z",
     "iopub.status.busy": "2023-02-12T18:05:24.153775Z",
     "iopub.status.idle": "2023-02-12T18:05:24.820096Z",
     "shell.execute_reply": "2023-02-12T18:05:24.818808Z"
    },
    "papermill": {
     "duration": 0.681914,
     "end_time": "2023-02-12T18:05:24.822542",
     "exception": false,
     "start_time": "2023-02-12T18:05:24.140628",
     "status": "completed"
    },
    "tags": []
   },
   "outputs": [
    {
     "data": {
      "application/javascript": [
       "parent.postMessage({\"jupyterEvent\": \"custom.exercise_interaction\", \"data\": {\"outcomeType\": 1, \"valueTowardsCompletion\": 0.3333333333333333, \"interactionType\": 1, \"questionType\": 2, \"questionId\": \"6.1_PlotColorReg\", \"learnToolsVersion\": \"0.3.4\", \"failureMessage\": \"\", \"exceptionClass\": \"\", \"trace\": \"\"}}, \"*\")"
      ],
      "text/plain": [
       "<IPython.core.display.Javascript object>"
      ]
     },
     "metadata": {},
     "output_type": "display_data"
    },
    {
     "data": {
      "text/markdown": [
       "<span style=\"color:#33cc33\">Correct</span>"
      ],
      "text/plain": [
       "Correct"
      ]
     },
     "metadata": {},
     "output_type": "display_data"
    },
    {
     "data": {
      "image/png": "[encoded data removed]",
      "text/plain": [
       "<Figure size 416.375x360 with 1 Axes>"
      ]
     },
     "metadata": {
      "needs_background": "light"
     },
     "output_type": "display_data"
    }
   ],
   "source": [
    "# Color-coded scatter plot w/ regression lines\n",
    "sns.lmplot(x = 'pricepercent', y ='winpercent', hue = 'chocolate', data = candy_data)\n",
    "\n",
    "# Check your answer\n",
    "step_6.a.check()"
   ]
  },
  {
   "cell_type": "code",
   "execution_count": 19,
   "id": "86686853",
   "metadata": {
    "execution": {
     "iopub.execute_input": "2023-02-12T18:05:24.849846Z",
     "iopub.status.busy": "2023-02-12T18:05:24.848906Z",
     "iopub.status.idle": "2023-02-12T18:05:24.853918Z",
     "shell.execute_reply": "2023-02-12T18:05:24.852784Z"
    },
    "papermill": {
     "duration": 0.021231,
     "end_time": "2023-02-12T18:05:24.856468",
     "exception": false,
     "start_time": "2023-02-12T18:05:24.835237",
     "status": "completed"
    },
    "tags": []
   },
   "outputs": [],
   "source": [
    "# Lines below will give you a hint or solution code\n",
    "#step_6.a.hint()\n",
    "#step_6.a.solution_plot()"
   ]
  },
  {
   "cell_type": "markdown",
   "id": "112aee46",
   "metadata": {
    "papermill": {
     "duration": 0.012816,
     "end_time": "2023-02-12T18:05:24.882118",
     "exception": false,
     "start_time": "2023-02-12T18:05:24.869302",
     "status": "completed"
    },
    "tags": []
   },
   "source": [
    "#### Part B\n",
    "\n",
    "Using the regression lines, what conclusions can you draw about the effects of chocolate and price on candy popularity?"
   ]
  },
  {
   "cell_type": "code",
   "execution_count": 20,
   "id": "6e9addb5",
   "metadata": {
    "execution": {
     "iopub.execute_input": "2023-02-12T18:05:24.909633Z",
     "iopub.status.busy": "2023-02-12T18:05:24.909225Z",
     "iopub.status.idle": "2023-02-12T18:05:24.913543Z",
     "shell.execute_reply": "2023-02-12T18:05:24.912374Z"
    },
    "papermill": {
     "duration": 0.020338,
     "end_time": "2023-02-12T18:05:24.915720",
     "exception": false,
     "start_time": "2023-02-12T18:05:24.895382",
     "status": "completed"
    },
    "tags": []
   },
   "outputs": [],
   "source": [
    "#step_6.b.hint()"
   ]
  },
  {
   "cell_type": "code",
   "execution_count": 21,
   "id": "12865a9c",
   "metadata": {
    "execution": {
     "iopub.execute_input": "2023-02-12T18:05:24.942602Z",
     "iopub.status.busy": "2023-02-12T18:05:24.942166Z",
     "iopub.status.idle": "2023-02-12T18:05:24.951455Z",
     "shell.execute_reply": "2023-02-12T18:05:24.950254Z"
    },
    "papermill": {
     "duration": 0.025498,
     "end_time": "2023-02-12T18:05:24.953680",
     "exception": false,
     "start_time": "2023-02-12T18:05:24.928182",
     "status": "completed"
    },
    "tags": []
   },
   "outputs": [
    {
     "data": {
      "application/javascript": [
       "parent.postMessage({\"jupyterEvent\": \"custom.exercise_interaction\", \"data\": {\"interactionType\": 3, \"questionType\": 4, \"questionId\": \"6.2_ThinkColorReg\", \"learnToolsVersion\": \"0.3.4\", \"valueTowardsCompletion\": 0.0, \"failureMessage\": \"\", \"exceptionClass\": \"\", \"trace\": \"\", \"outcomeType\": 4}}, \"*\")"
      ],
      "text/plain": [
       "<IPython.core.display.Javascript object>"
      ]
     },
     "metadata": {},
     "output_type": "display_data"
    },
    {
     "data": {
      "text/markdown": [
       "<span style=\"color:#33cc99\">Solution:</span> We'll begin with the regression line for chocolate candies. Since this line has a slightly positive slope, we can say that more expensive chocolate candies tend to be more popular (than relatively cheaper chocolate candies).  Likewise, since the regression line for candies without chocolate has a negative slope, we can say that if candies don't contain chocolate, they tend to be more popular when they are cheaper.  One important note, however, is that the dataset is quite small -- so we shouldn't invest too much trust in these patterns!  To inspire more confidence in the results, we should add more candies to the dataset."
      ],
      "text/plain": [
       "Solution: We'll begin with the regression line for chocolate candies. Since this line has a slightly positive slope, we can say that more expensive chocolate candies tend to be more popular (than relatively cheaper chocolate candies).  Likewise, since the regression line for candies without chocolate has a negative slope, we can say that if candies don't contain chocolate, they tend to be more popular when they are cheaper.  One important note, however, is that the dataset is quite small -- so we shouldn't invest too much trust in these patterns!  To inspire more confidence in the results, we should add more candies to the dataset."
      ]
     },
     "metadata": {},
     "output_type": "display_data"
    }
   ],
   "source": [
    "# Check your answer (Run this code cell to receive credit!)\n",
    "step_6.b.solution()"
   ]
  },
  {
   "cell_type": "markdown",
   "id": "54ed9777",
   "metadata": {
    "papermill": {
     "duration": 0.013386,
     "end_time": "2023-02-12T18:05:24.980494",
     "exception": false,
     "start_time": "2023-02-12T18:05:24.967108",
     "status": "completed"
    },
    "tags": []
   },
   "source": [
    "## Step 7: Everybody loves chocolate.\n",
    "\n",
    "#### Part A\n",
    "\n",
    "Create a categorical scatter plot to highlight the relationship between `'chocolate'` and `'winpercent'`.  Put `'chocolate'` on the (horizontal) x-axis, and `'winpercent'` on the (vertical) y-axis."
   ]
  },
  {
   "cell_type": "code",
   "execution_count": 22,
   "id": "424c349d",
   "metadata": {
    "execution": {
     "iopub.execute_input": "2023-02-12T18:05:25.008226Z",
     "iopub.status.busy": "2023-02-12T18:05:25.007811Z",
     "iopub.status.idle": "2023-02-12T18:05:25.220546Z",
     "shell.execute_reply": "2023-02-12T18:05:25.219274Z"
    },
    "papermill": {
     "duration": 0.229864,
     "end_time": "2023-02-12T18:05:25.223252",
     "exception": false,
     "start_time": "2023-02-12T18:05:24.993388",
     "status": "completed"
    },
    "tags": []
   },
   "outputs": [
    {
     "data": {
      "application/javascript": [
       "parent.postMessage({\"jupyterEvent\": \"custom.exercise_interaction\", \"data\": {\"outcomeType\": 1, \"valueTowardsCompletion\": 0.3333333333333333, \"interactionType\": 1, \"questionType\": 2, \"questionId\": \"7.1_PlotSwarm\", \"learnToolsVersion\": \"0.3.4\", \"failureMessage\": \"\", \"exceptionClass\": \"\", \"trace\": \"\"}}, \"*\")"
      ],
      "text/plain": [
       "<IPython.core.display.Javascript object>"
      ]
     },
     "metadata": {},
     "output_type": "display_data"
    },
    {
     "data": {
      "text/markdown": [
       "<span style=\"color:#33cc33\">Correct</span>"
      ],
      "text/plain": [
       "Correct"
      ]
     },
     "metadata": {},
     "output_type": "display_data"
    },
    {
     "data": {
      "image/png": "[encoded data removed]",
      "text/plain": [
       "<Figure size 432x288 with 1 Axes>"
      ]
     },
     "metadata": {
      "needs_background": "light"
     },
     "output_type": "display_data"
    }
   ],
   "source": [
    "# Scatter plot showing the relationship between 'chocolate' and 'winpercent'\n",
    "sns.swarmplot(x = candy_data['chocolate'], y = candy_data['winpercent'])\n",
    "\n",
    "# Check your answer\n",
    "step_7.a.check()"
   ]
  },
  {
   "cell_type": "code",
   "execution_count": 23,
   "id": "a59cae9d",
   "metadata": {
    "execution": {
     "iopub.execute_input": "2023-02-12T18:05:25.252897Z",
     "iopub.status.busy": "2023-02-12T18:05:25.251900Z",
     "iopub.status.idle": "2023-02-12T18:05:25.256999Z",
     "shell.execute_reply": "2023-02-12T18:05:25.255716Z"
    },
    "papermill": {
     "duration": 0.02218,
     "end_time": "2023-02-12T18:05:25.259295",
     "exception": false,
     "start_time": "2023-02-12T18:05:25.237115",
     "status": "completed"
    },
    "tags": []
   },
   "outputs": [],
   "source": [
    "# Lines below will give you a hint or solution code\n",
    "#step_7.a.hint()\n",
    "#step_7.a.solution_plot()"
   ]
  },
  {
   "cell_type": "markdown",
   "id": "522eb8d0",
   "metadata": {
    "papermill": {
     "duration": 0.01363,
     "end_time": "2023-02-12T18:05:25.286432",
     "exception": false,
     "start_time": "2023-02-12T18:05:25.272802",
     "status": "completed"
    },
    "tags": []
   },
   "source": [
    "#### Part B\n",
    "\n",
    "You decide to dedicate a section of your report to the fact that chocolate candies tend to be more popular than candies without chocolate.  Which plot is more appropriate to tell this story: the plot from **Step 6**, or the plot from **Step 7**?"
   ]
  },
  {
   "cell_type": "code",
   "execution_count": 24,
   "id": "37315f29",
   "metadata": {
    "execution": {
     "iopub.execute_input": "2023-02-12T18:05:25.315021Z",
     "iopub.status.busy": "2023-02-12T18:05:25.314588Z",
     "iopub.status.idle": "2023-02-12T18:05:25.320280Z",
     "shell.execute_reply": "2023-02-12T18:05:25.318770Z"
    },
    "papermill": {
     "duration": 0.022946,
     "end_time": "2023-02-12T18:05:25.322842",
     "exception": false,
     "start_time": "2023-02-12T18:05:25.299896",
     "status": "completed"
    },
    "tags": []
   },
   "outputs": [],
   "source": [
    "#step_7.b.hint()"
   ]
  },
  {
   "cell_type": "code",
   "execution_count": 25,
   "id": "d17ee820",
   "metadata": {
    "execution": {
     "iopub.execute_input": "2023-02-12T18:05:25.351953Z",
     "iopub.status.busy": "2023-02-12T18:05:25.351525Z",
     "iopub.status.idle": "2023-02-12T18:05:25.360310Z",
     "shell.execute_reply": "2023-02-12T18:05:25.359286Z"
    },
    "papermill": {
     "duration": 0.026373,
     "end_time": "2023-02-12T18:05:25.362777",
     "exception": false,
     "start_time": "2023-02-12T18:05:25.336404",
     "status": "completed"
    },
    "tags": []
   },
   "outputs": [
    {
     "data": {
      "application/javascript": [
       "parent.postMessage({\"jupyterEvent\": \"custom.exercise_interaction\", \"data\": {\"interactionType\": 3, \"questionType\": 4, \"questionId\": \"7.2_ThinkSwarm\", \"learnToolsVersion\": \"0.3.4\", \"valueTowardsCompletion\": 0.0, \"failureMessage\": \"\", \"exceptionClass\": \"\", \"trace\": \"\", \"outcomeType\": 4}}, \"*\")"
      ],
      "text/plain": [
       "<IPython.core.display.Javascript object>"
      ]
     },
     "metadata": {},
     "output_type": "display_data"
    },
    {
     "data": {
      "text/markdown": [
       "<span style=\"color:#33cc99\">Solution:</span> In this case, the categorical scatter plot from **Step 7** is the more appropriate plot. While both plots tell the desired story, the plot from **Step 6** conveys far more information that could distract from the main point."
      ],
      "text/plain": [
       "Solution: In this case, the categorical scatter plot from **Step 7** is the more appropriate plot. While both plots tell the desired story, the plot from **Step 6** conveys far more information that could distract from the main point."
      ]
     },
     "metadata": {},
     "output_type": "display_data"
    }
   ],
   "source": [
    "# Check your answer (Run this code cell to receive credit!)\n",
    "step_7.b.solution()"
   ]
  },
  {
   "cell_type": "markdown",
   "id": "3dd98ae1",
   "metadata": {
    "papermill": {
     "duration": 0.013198,
     "end_time": "2023-02-12T18:05:25.389700",
     "exception": false,
     "start_time": "2023-02-12T18:05:25.376502",
     "status": "completed"
    },
    "tags": []
   },
   "source": [
    "## Keep going\n",
    "\n",
    "Explore **[histograms and density plots](https://www.kaggle.com/alexisbcook/distributions)**."
   ]
  },
  {
   "cell_type": "markdown",
   "id": "5ec82f25",
   "metadata": {
    "papermill": {
     "duration": 0.013274,
     "end_time": "2023-02-12T18:05:25.416783",
     "exception": false,
     "start_time": "2023-02-12T18:05:25.403509",
     "status": "completed"
    },
    "tags": []
   },
   "source": [
    "---\n",
    "\n",
    "\n",
    "\n",
    "\n",
    "*Have questions or comments? Visit the [course discussion forum](https://www.kaggle.com/learn/data-visualization/discussion) to chat with other learners.*"
   ]
  }
 ],
 "metadata": {
  "kernelspec": {
   "display_name": "Python 3",
   "language": "python",
   "name": "python3"
  },
  "language_info": {
   "codemirror_mode": {
    "name": "ipython",
    "version": 3
   },
   "file_extension": ".py",
   "mimetype": "text/x-python",
   "name": "python",
   "nbconvert_exporter": "python",
   "pygments_lexer": "ipython3",
   "version": "3.7.12"
  },
  "papermill": {
   "default_parameters": {},
   "duration": 13.920819,
   "end_time": "2023-02-12T18:05:26.254545",
   "environment_variables": {},
   "exception": null,
   "input_path": "__notebook__.ipynb",
   "output_path": "__notebook__.ipynb",
   "parameters": {},
   "start_time": "2023-02-12T18:05:12.333726",
   "version": "2.3.4"
  }
 },
 "nbformat": 4,
 "nbformat_minor": 5
}
