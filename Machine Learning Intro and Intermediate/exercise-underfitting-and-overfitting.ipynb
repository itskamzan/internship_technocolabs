{
 "cells": [
  {
   "cell_type": "markdown",
   "id": "7a601687",
   "metadata": {
    "papermill": {
     "duration": 0.004699,
     "end_time": "2023-02-13T07:13:33.563862",
     "exception": false,
     "start_time": "2023-02-13T07:13:33.559163",
     "status": "completed"
    },
    "tags": []
   },
   "source": [
    "**This notebook is an exercise in the [Introduction to Machine Learning](https://www.kaggle.com/learn/intro-to-machine-learning) course.  You can reference the tutorial at [this link](https://www.kaggle.com/dansbecker/underfitting-and-overfitting).**\n",
    "\n",
    "---\n"
   ]
  },
  {
   "cell_type": "markdown",
   "id": "1e9c9420",
   "metadata": {
    "papermill": {
     "duration": 0.003145,
     "end_time": "2023-02-13T07:13:33.570664",
     "exception": false,
     "start_time": "2023-02-13T07:13:33.567519",
     "status": "completed"
    },
    "tags": []
   },
   "source": [
    "## Recap\n",
    "You've built your first model, and now it's time to optimize the size of the tree to make better predictions. Run this cell to set up your coding environment where the previous step left off."
   ]
  },
  {
   "cell_type": "code",
   "execution_count": 1,
   "id": "83d98411",
   "metadata": {
    "execution": {
     "iopub.execute_input": "2023-02-13T07:13:33.579447Z",
     "iopub.status.busy": "2023-02-13T07:13:33.579001Z",
     "iopub.status.idle": "2023-02-13T07:13:34.993586Z",
     "shell.execute_reply": "2023-02-13T07:13:34.992284Z"
    },
    "papermill": {
     "duration": 1.422382,
     "end_time": "2023-02-13T07:13:34.996339",
     "exception": false,
     "start_time": "2023-02-13T07:13:33.573957",
     "status": "completed"
    },
    "tags": []
   },
   "outputs": [
    {
     "name": "stdout",
     "output_type": "stream",
     "text": [
      "Validation MAE: 29,653\n",
      "\n",
      "Setup complete\n"
     ]
    }
   ],
   "source": [
    "# Code you have previously used to load data\n",
    "import pandas as pd\n",
    "from sklearn.metrics import mean_absolute_error\n",
    "from sklearn.model_selection import train_test_split\n",
    "from sklearn.tree import DecisionTreeRegressor\n",
    "\n",
    "\n",
    "# Path of the file to read\n",
    "iowa_file_path = '../input/home-data-for-ml-course/train.csv'\n",
    "\n",
    "home_data = pd.read_csv(iowa_file_path)\n",
    "# Create target object and call it y\n",
    "y = home_data.SalePrice\n",
    "# Create X\n",
    "features = ['LotArea', 'YearBuilt', '1stFlrSF', '2ndFlrSF', 'FullBath', 'BedroomAbvGr', 'TotRmsAbvGrd']\n",
    "X = home_data[features]\n",
    "\n",
    "# Split into validation and training data\n",
    "train_X, val_X, train_y, val_y = train_test_split(X, y, random_state=1)\n",
    "\n",
    "# Specify Model\n",
    "iowa_model = DecisionTreeRegressor(random_state=1)\n",
    "# Fit Model\n",
    "iowa_model.fit(train_X, train_y)\n",
    "\n",
    "# Make validation predictions and calculate mean absolute error\n",
    "val_predictions = iowa_model.predict(val_X)\n",
    "val_mae = mean_absolute_error(val_predictions, val_y)\n",
    "print(\"Validation MAE: {:,.0f}\".format(val_mae))\n",
    "\n",
    "# Set up code checking\n",
    "from learntools.core import binder\n",
    "binder.bind(globals())\n",
    "from learntools.machine_learning.ex5 import *\n",
    "print(\"\\nSetup complete\")"
   ]
  },
  {
   "cell_type": "markdown",
   "id": "8be43a2b",
   "metadata": {
    "papermill": {
     "duration": 0.003385,
     "end_time": "2023-02-13T07:13:35.003568",
     "exception": false,
     "start_time": "2023-02-13T07:13:35.000183",
     "status": "completed"
    },
    "tags": []
   },
   "source": [
    "# Exercises\n",
    "You could write the function `get_mae` yourself. For now, we'll supply it. This is the same function you read about in the previous lesson. Just run the cell below."
   ]
  },
  {
   "cell_type": "code",
   "execution_count": 2,
   "id": "73a8fef5",
   "metadata": {
    "execution": {
     "iopub.execute_input": "2023-02-13T07:13:35.013788Z",
     "iopub.status.busy": "2023-02-13T07:13:35.012669Z",
     "iopub.status.idle": "2023-02-13T07:13:35.019344Z",
     "shell.execute_reply": "2023-02-13T07:13:35.018153Z"
    },
    "papermill": {
     "duration": 0.014283,
     "end_time": "2023-02-13T07:13:35.021893",
     "exception": false,
     "start_time": "2023-02-13T07:13:35.007610",
     "status": "completed"
    },
    "tags": []
   },
   "outputs": [],
   "source": [
    "def get_mae(max_leaf_nodes, train_X, val_X, train_y, val_y):\n",
    "    model = DecisionTreeRegressor(max_leaf_nodes=max_leaf_nodes, random_state=0)\n",
    "    model.fit(train_X, train_y)\n",
    "    preds_val = model.predict(val_X)\n",
    "    mae = mean_absolute_error(val_y, preds_val)\n",
    "    return(mae)"
   ]
  },
  {
   "cell_type": "markdown",
   "id": "0b8498fd",
   "metadata": {
    "papermill": {
     "duration": 0.003242,
     "end_time": "2023-02-13T07:13:35.028747",
     "exception": false,
     "start_time": "2023-02-13T07:13:35.025505",
     "status": "completed"
    },
    "tags": []
   },
   "source": [
    "## Step 1: Compare Different Tree Sizes\n",
    "Write a loop that tries the following values for *max_leaf_nodes* from a set of possible values.\n",
    "\n",
    "Call the *get_mae* function on each value of max_leaf_nodes. Store the output in some way that allows you to select the value of `max_leaf_nodes` that gives the most accurate model on your data."
   ]
  },
  {
   "cell_type": "code",
   "execution_count": 3,
   "id": "ea7f89fb",
   "metadata": {
    "execution": {
     "iopub.execute_input": "2023-02-13T07:13:35.037338Z",
     "iopub.status.busy": "2023-02-13T07:13:35.036953Z",
     "iopub.status.idle": "2023-02-13T07:13:35.085692Z",
     "shell.execute_reply": "2023-02-13T07:13:35.084563Z"
    },
    "papermill": {
     "duration": 0.055916,
     "end_time": "2023-02-13T07:13:35.088143",
     "exception": false,
     "start_time": "2023-02-13T07:13:35.032227",
     "status": "completed"
    },
    "tags": []
   },
   "outputs": [
    {
     "data": {
      "application/javascript": [
       "parent.postMessage({\"jupyterEvent\": \"custom.exercise_interaction\", \"data\": {\"outcomeType\": 1, \"valueTowardsCompletion\": 0.5, \"interactionType\": 1, \"questionType\": 1, \"questionId\": \"1_BestTreeSize\", \"learnToolsVersion\": \"0.3.4\", \"failureMessage\": \"\", \"exceptionClass\": \"\", \"trace\": \"\"}}, \"*\")"
      ],
      "text/plain": [
       "<IPython.core.display.Javascript object>"
      ]
     },
     "metadata": {},
     "output_type": "display_data"
    },
    {
     "data": {
      "text/markdown": [
       "<span style=\"color:#33cc33\">Correct</span>"
      ],
      "text/plain": [
       "Correct"
      ]
     },
     "metadata": {},
     "output_type": "display_data"
    }
   ],
   "source": [
    "candidate_max_leaf_nodes = [5, 25, 50, 100, 250, 500]\n",
    "# Write loop to find the ideal tree size from candidate_max_leaf_nodes\n",
    "my_mae = {}\n",
    "for size in candidate_max_leaf_nodes :\n",
    "    my_mae[size] = get_mae(size, train_X, val_X, train_y, val_y)\n",
    "# Store the best value of max_leaf_nodes (it will be either 5, 25, 50, 100, 250 or 500)\n",
    "best_tree_size = min(my_mae, key = my_mae.get)\n",
    "\n",
    "# Check your answer\n",
    "step_1.check()"
   ]
  },
  {
   "cell_type": "code",
   "execution_count": 4,
   "id": "04c2b84f",
   "metadata": {
    "execution": {
     "iopub.execute_input": "2023-02-13T07:13:35.097436Z",
     "iopub.status.busy": "2023-02-13T07:13:35.097050Z",
     "iopub.status.idle": "2023-02-13T07:13:35.101766Z",
     "shell.execute_reply": "2023-02-13T07:13:35.100741Z"
    },
    "papermill": {
     "duration": 0.011893,
     "end_time": "2023-02-13T07:13:35.103978",
     "exception": false,
     "start_time": "2023-02-13T07:13:35.092085",
     "status": "completed"
    },
    "tags": []
   },
   "outputs": [],
   "source": [
    "# The lines below will show you a hint or the solution.\n",
    "# step_1.hint() \n",
    "#step_1.solution()"
   ]
  },
  {
   "cell_type": "markdown",
   "id": "c6bb6820",
   "metadata": {
    "papermill": {
     "duration": 0.003446,
     "end_time": "2023-02-13T07:13:35.111174",
     "exception": false,
     "start_time": "2023-02-13T07:13:35.107728",
     "status": "completed"
    },
    "tags": []
   },
   "source": [
    "## Step 2: Fit Model Using All Data\n",
    "You know the best tree size. If you were going to deploy this model in practice, you would make it even more accurate by using all of the data and keeping that tree size.  That is, you don't need to hold out the validation data now that you've made all your modeling decisions."
   ]
  },
  {
   "cell_type": "code",
   "execution_count": 5,
   "id": "7424a8d8",
   "metadata": {
    "execution": {
     "iopub.execute_input": "2023-02-13T07:13:35.120526Z",
     "iopub.status.busy": "2023-02-13T07:13:35.120140Z",
     "iopub.status.idle": "2023-02-13T07:13:35.137571Z",
     "shell.execute_reply": "2023-02-13T07:13:35.136346Z"
    },
    "papermill": {
     "duration": 0.02513,
     "end_time": "2023-02-13T07:13:35.139968",
     "exception": false,
     "start_time": "2023-02-13T07:13:35.114838",
     "status": "completed"
    },
    "tags": []
   },
   "outputs": [
    {
     "data": {
      "application/javascript": [
       "parent.postMessage({\"jupyterEvent\": \"custom.exercise_interaction\", \"data\": {\"outcomeType\": 1, \"valueTowardsCompletion\": 0.5, \"interactionType\": 1, \"questionType\": 2, \"questionId\": \"2_FitModelWithAllData\", \"learnToolsVersion\": \"0.3.4\", \"failureMessage\": \"\", \"exceptionClass\": \"\", \"trace\": \"\"}}, \"*\")"
      ],
      "text/plain": [
       "<IPython.core.display.Javascript object>"
      ]
     },
     "metadata": {},
     "output_type": "display_data"
    },
    {
     "data": {
      "text/markdown": [
       "<span style=\"color:#33cc33\">Correct</span>"
      ],
      "text/plain": [
       "Correct"
      ]
     },
     "metadata": {},
     "output_type": "display_data"
    }
   ],
   "source": [
    "# Fill in argument to make optimal size and uncomment\n",
    "final_model = DecisionTreeRegressor(max_leaf_nodes = best_tree_size, random_state = 1)\n",
    "\n",
    "# fit the final model and uncomment the next two lines\n",
    "final_model.fit(X, y)\n",
    "\n",
    "# Check your answer\n",
    "step_2.check()"
   ]
  },
  {
   "cell_type": "code",
   "execution_count": 6,
   "id": "6f258e07",
   "metadata": {
    "execution": {
     "iopub.execute_input": "2023-02-13T07:13:35.150033Z",
     "iopub.status.busy": "2023-02-13T07:13:35.149133Z",
     "iopub.status.idle": "2023-02-13T07:13:35.153828Z",
     "shell.execute_reply": "2023-02-13T07:13:35.152782Z"
    },
    "papermill": {
     "duration": 0.012125,
     "end_time": "2023-02-13T07:13:35.156131",
     "exception": false,
     "start_time": "2023-02-13T07:13:35.144006",
     "status": "completed"
    },
    "tags": []
   },
   "outputs": [],
   "source": [
    "# step_2.hint()\n",
    "#step_2.solution()"
   ]
  },
  {
   "cell_type": "markdown",
   "id": "917706e8",
   "metadata": {
    "papermill": {
     "duration": 0.003686,
     "end_time": "2023-02-13T07:13:35.163909",
     "exception": false,
     "start_time": "2023-02-13T07:13:35.160223",
     "status": "completed"
    },
    "tags": []
   },
   "source": [
    "You've tuned this model and improved your results. But we are still using Decision Tree models, which are not very sophisticated by modern machine learning standards. In the next step you will learn to use Random Forests to improve your models even more.\n",
    "\n",
    "# Keep Going\n",
    "\n",
    "You are ready for **[Random Forests](https://www.kaggle.com/dansbecker/random-forests).**\n"
   ]
  },
  {
   "cell_type": "markdown",
   "id": "7d5a877a",
   "metadata": {
    "papermill": {
     "duration": 0.003697,
     "end_time": "2023-02-13T07:13:35.171532",
     "exception": false,
     "start_time": "2023-02-13T07:13:35.167835",
     "status": "completed"
    },
    "tags": []
   },
   "source": [
    "---\n",
    "\n",
    "\n",
    "\n",
    "\n",
    "*Have questions or comments? Visit the [course discussion forum](https://www.kaggle.com/learn/intro-to-machine-learning/discussion) to chat with other learners.*"
   ]
  }
 ],
 "metadata": {
  "kernelspec": {
   "display_name": "Python 3",
   "language": "python",
   "name": "python3"
  },
  "language_info": {
   "codemirror_mode": {
    "name": "ipython",
    "version": 3
   },
   "file_extension": ".py",
   "mimetype": "text/x-python",
   "name": "python",
   "nbconvert_exporter": "python",
   "pygments_lexer": "ipython3",
   "version": "3.7.12"
  },
  "papermill": {
   "default_parameters": {},
   "duration": 12.694433,
   "end_time": "2023-02-13T07:13:35.903935",
   "environment_variables": {},
   "exception": null,
   "input_path": "__notebook__.ipynb",
   "output_path": "__notebook__.ipynb",
   "parameters": {},
   "start_time": "2023-02-13T07:13:23.209502",
   "version": "2.3.4"
  }
 },
 "nbformat": 4,
 "nbformat_minor": 5
}
