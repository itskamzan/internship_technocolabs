{
 "cells": [
  {
   "cell_type": "markdown",
   "id": "5ebe64fa",
   "metadata": {
    "papermill": {
     "duration": 0.006182,
     "end_time": "2023-02-13T00:37:26.241962",
     "exception": false,
     "start_time": "2023-02-13T00:37:26.235780",
     "status": "completed"
    },
    "tags": []
   },
   "source": [
    "**This notebook is an exercise in the [Introduction to Machine Learning](https://www.kaggle.com/learn/intro-to-machine-learning) course.  You can reference the tutorial at [this link](https://www.kaggle.com/dansbecker/your-first-machine-learning-model).**\n",
    "\n",
    "---\n"
   ]
  },
  {
   "cell_type": "markdown",
   "id": "8adfdf50",
   "metadata": {
    "papermill": {
     "duration": 0.004761,
     "end_time": "2023-02-13T00:37:26.251869",
     "exception": false,
     "start_time": "2023-02-13T00:37:26.247108",
     "status": "completed"
    },
    "tags": []
   },
   "source": [
    "## Recap\n",
    "So far, you have loaded your data and reviewed it with the following code. Run this cell to set up your coding environment where the previous step left off."
   ]
  },
  {
   "cell_type": "code",
   "execution_count": 1,
   "id": "78b03227",
   "metadata": {
    "execution": {
     "iopub.execute_input": "2023-02-13T00:37:26.264359Z",
     "iopub.status.busy": "2023-02-13T00:37:26.263644Z",
     "iopub.status.idle": "2023-02-13T00:37:27.436910Z",
     "shell.execute_reply": "2023-02-13T00:37:27.433807Z"
    },
    "papermill": {
     "duration": 1.183838,
     "end_time": "2023-02-13T00:37:27.440840",
     "exception": false,
     "start_time": "2023-02-13T00:37:26.257002",
     "status": "completed"
    },
    "tags": []
   },
   "outputs": [
    {
     "name": "stdout",
     "output_type": "stream",
     "text": [
      "Setup Complete\n"
     ]
    }
   ],
   "source": [
    "# Code you have previously used to load data\n",
    "import pandas as pd\n",
    "\n",
    "# Path of the file to read\n",
    "iowa_file_path = '../input/home-data-for-ml-course/train.csv'\n",
    "\n",
    "home_data = pd.read_csv(iowa_file_path)\n",
    "\n",
    "# Set up code checking\n",
    "from learntools.core import binder\n",
    "binder.bind(globals())\n",
    "from learntools.machine_learning.ex3 import *\n",
    "\n",
    "print(\"Setup Complete\")"
   ]
  },
  {
   "cell_type": "markdown",
   "id": "211eec9f",
   "metadata": {
    "papermill": {
     "duration": 0.004866,
     "end_time": "2023-02-13T00:37:27.451081",
     "exception": false,
     "start_time": "2023-02-13T00:37:27.446215",
     "status": "completed"
    },
    "tags": []
   },
   "source": [
    "# Exercises\n",
    "\n",
    "## Step 1: Specify Prediction Target\n",
    "Select the target variable, which corresponds to the sales price. Save this to a new variable called `y`. You'll need to print a list of the columns to find the name of the column you need.\n"
   ]
  },
  {
   "cell_type": "code",
   "execution_count": 2,
   "id": "6ca6d891",
   "metadata": {
    "execution": {
     "iopub.execute_input": "2023-02-13T00:37:27.462815Z",
     "iopub.status.busy": "2023-02-13T00:37:27.462422Z",
     "iopub.status.idle": "2023-02-13T00:37:27.467205Z",
     "shell.execute_reply": "2023-02-13T00:37:27.466189Z"
    },
    "papermill": {
     "duration": 0.013151,
     "end_time": "2023-02-13T00:37:27.469193",
     "exception": false,
     "start_time": "2023-02-13T00:37:27.456042",
     "status": "completed"
    },
    "tags": []
   },
   "outputs": [],
   "source": [
    "# print the list of columns in the dataset to find the name of the prediction target"
   ]
  },
  {
   "cell_type": "code",
   "execution_count": 3,
   "id": "d2470548",
   "metadata": {
    "execution": {
     "iopub.execute_input": "2023-02-13T00:37:27.481756Z",
     "iopub.status.busy": "2023-02-13T00:37:27.480734Z",
     "iopub.status.idle": "2023-02-13T00:37:27.496805Z",
     "shell.execute_reply": "2023-02-13T00:37:27.495943Z"
    },
    "papermill": {
     "duration": 0.024401,
     "end_time": "2023-02-13T00:37:27.498746",
     "exception": false,
     "start_time": "2023-02-13T00:37:27.474345",
     "status": "completed"
    },
    "tags": []
   },
   "outputs": [
    {
     "data": {
      "application/javascript": [
       "parent.postMessage({\"jupyterEvent\": \"custom.exercise_interaction\", \"data\": {\"outcomeType\": 1, \"valueTowardsCompletion\": 0.25, \"interactionType\": 1, \"questionType\": 2, \"questionId\": \"1_SetTarget\", \"learnToolsVersion\": \"0.3.4\", \"failureMessage\": \"\", \"exceptionClass\": \"\", \"trace\": \"\"}}, \"*\")"
      ],
      "text/plain": [
       "<IPython.core.display.Javascript object>"
      ]
     },
     "metadata": {},
     "output_type": "display_data"
    },
    {
     "data": {
      "text/markdown": [
       "<span style=\"color:#33cc33\">Correct</span>"
      ],
      "text/plain": [
       "Correct"
      ]
     },
     "metadata": {},
     "output_type": "display_data"
    }
   ],
   "source": [
    "y = home_data.SalePrice\n",
    "\n",
    "# Check your answer\n",
    "step_1.check()"
   ]
  },
  {
   "cell_type": "code",
   "execution_count": 4,
   "id": "7cac0b59",
   "metadata": {
    "execution": {
     "iopub.execute_input": "2023-02-13T00:37:27.511393Z",
     "iopub.status.busy": "2023-02-13T00:37:27.510707Z",
     "iopub.status.idle": "2023-02-13T00:37:27.515003Z",
     "shell.execute_reply": "2023-02-13T00:37:27.513925Z"
    },
    "papermill": {
     "duration": 0.013322,
     "end_time": "2023-02-13T00:37:27.517423",
     "exception": false,
     "start_time": "2023-02-13T00:37:27.504101",
     "status": "completed"
    },
    "tags": []
   },
   "outputs": [],
   "source": [
    "# The lines below will show you a hint or the solution.\n",
    "#step_1.hint() \n",
    "#step_1.solution()"
   ]
  },
  {
   "cell_type": "markdown",
   "id": "088641b3",
   "metadata": {
    "papermill": {
     "duration": 0.005047,
     "end_time": "2023-02-13T00:37:27.527950",
     "exception": false,
     "start_time": "2023-02-13T00:37:27.522903",
     "status": "completed"
    },
    "tags": []
   },
   "source": [
    "## Step 2: Create X\n",
    "Now you will create a DataFrame called `X` holding the predictive features.\n",
    "\n",
    "Since you want only some columns from the original data, you'll first create a list with the names of the columns you want in `X`.\n",
    "\n",
    "You'll use just the following columns in the list (you can copy and paste the whole list to save some typing, though you'll still need to add quotes):\n",
    "  * LotArea\n",
    "  * YearBuilt\n",
    "  * 1stFlrSF\n",
    "  * 2ndFlrSF\n",
    "  * FullBath\n",
    "  * BedroomAbvGr\n",
    "  * TotRmsAbvGrd\n",
    "\n",
    "After you've created that list of features, use it to create the DataFrame that you'll use to fit the model."
   ]
  },
  {
   "cell_type": "code",
   "execution_count": 5,
   "id": "902ab7c7",
   "metadata": {
    "execution": {
     "iopub.execute_input": "2023-02-13T00:37:27.540309Z",
     "iopub.status.busy": "2023-02-13T00:37:27.539836Z",
     "iopub.status.idle": "2023-02-13T00:37:27.554898Z",
     "shell.execute_reply": "2023-02-13T00:37:27.553984Z"
    },
    "papermill": {
     "duration": 0.023859,
     "end_time": "2023-02-13T00:37:27.557095",
     "exception": false,
     "start_time": "2023-02-13T00:37:27.533236",
     "status": "completed"
    },
    "tags": []
   },
   "outputs": [
    {
     "data": {
      "application/javascript": [
       "parent.postMessage({\"jupyterEvent\": \"custom.exercise_interaction\", \"data\": {\"outcomeType\": 1, \"valueTowardsCompletion\": 0.25, \"interactionType\": 1, \"questionType\": 2, \"questionId\": \"2_SelectPredictionData\", \"learnToolsVersion\": \"0.3.4\", \"failureMessage\": \"\", \"exceptionClass\": \"\", \"trace\": \"\"}}, \"*\")"
      ],
      "text/plain": [
       "<IPython.core.display.Javascript object>"
      ]
     },
     "metadata": {},
     "output_type": "display_data"
    },
    {
     "data": {
      "text/markdown": [
       "<span style=\"color:#33cc33\">Correct</span>"
      ],
      "text/plain": [
       "Correct"
      ]
     },
     "metadata": {},
     "output_type": "display_data"
    }
   ],
   "source": [
    "# Create the list of features below\n",
    "feature_names = ['LotArea', 'YearBuilt', '1stFlrSF', '2ndFlrSF', 'FullBath', 'BedroomAbvGr', 'TotRmsAbvGrd']\n",
    "\n",
    "# Select data corresponding to features in feature_names\n",
    "X = home_data[feature_names]\n",
    "\n",
    "# Check your answer\n",
    "step_2.check()"
   ]
  },
  {
   "cell_type": "code",
   "execution_count": 6,
   "id": "a28419fd",
   "metadata": {
    "collapsed": true,
    "execution": {
     "iopub.execute_input": "2023-02-13T00:37:27.571008Z",
     "iopub.status.busy": "2023-02-13T00:37:27.570167Z",
     "iopub.status.idle": "2023-02-13T00:37:27.574937Z",
     "shell.execute_reply": "2023-02-13T00:37:27.574173Z"
    },
    "jupyter": {
     "outputs_hidden": true
    },
    "papermill": {
     "duration": 0.01443,
     "end_time": "2023-02-13T00:37:27.577201",
     "exception": false,
     "start_time": "2023-02-13T00:37:27.562771",
     "status": "completed"
    },
    "tags": []
   },
   "outputs": [],
   "source": [
    "# step_2.hint()\n",
    "# step_2.solution()"
   ]
  },
  {
   "cell_type": "markdown",
   "id": "37d324db",
   "metadata": {
    "papermill": {
     "duration": 0.005301,
     "end_time": "2023-02-13T00:37:27.588159",
     "exception": false,
     "start_time": "2023-02-13T00:37:27.582858",
     "status": "completed"
    },
    "tags": []
   },
   "source": [
    "## Review Data\n",
    "Before building a model, take a quick look at **X** to verify it looks sensible"
   ]
  },
  {
   "cell_type": "code",
   "execution_count": 7,
   "id": "1424a864",
   "metadata": {
    "execution": {
     "iopub.execute_input": "2023-02-13T00:37:27.601291Z",
     "iopub.status.busy": "2023-02-13T00:37:27.600869Z",
     "iopub.status.idle": "2023-02-13T00:37:27.636898Z",
     "shell.execute_reply": "2023-02-13T00:37:27.635671Z"
    },
    "papermill": {
     "duration": 0.045587,
     "end_time": "2023-02-13T00:37:27.639343",
     "exception": false,
     "start_time": "2023-02-13T00:37:27.593756",
     "status": "completed"
    },
    "tags": []
   },
   "outputs": [
    {
     "data": {
      "text/html": [
       "<div>\n",
       "<style scoped>\n",
       "    .dataframe tbody tr th:only-of-type {\n",
       "        vertical-align: middle;\n",
       "    }\n",
       "\n",
       "    .dataframe tbody tr th {\n",
       "        vertical-align: top;\n",
       "    }\n",
       "\n",
       "    .dataframe thead th {\n",
       "        text-align: right;\n",
       "    }\n",
       "</style>\n",
       "<table border=\"1\" class=\"dataframe\">\n",
       "  <thead>\n",
       "    <tr style=\"text-align: right;\">\n",
       "      <th></th>\n",
       "      <th>LotArea</th>\n",
       "      <th>YearBuilt</th>\n",
       "      <th>1stFlrSF</th>\n",
       "      <th>2ndFlrSF</th>\n",
       "      <th>FullBath</th>\n",
       "      <th>BedroomAbvGr</th>\n",
       "      <th>TotRmsAbvGrd</th>\n",
       "    </tr>\n",
       "  </thead>\n",
       "  <tbody>\n",
       "    <tr>\n",
       "      <th>0</th>\n",
       "      <td>8450</td>\n",
       "      <td>2003</td>\n",
       "      <td>856</td>\n",
       "      <td>854</td>\n",
       "      <td>2</td>\n",
       "      <td>3</td>\n",
       "      <td>8</td>\n",
       "    </tr>\n",
       "    <tr>\n",
       "      <th>1</th>\n",
       "      <td>9600</td>\n",
       "      <td>1976</td>\n",
       "      <td>1262</td>\n",
       "      <td>0</td>\n",
       "      <td>2</td>\n",
       "      <td>3</td>\n",
       "      <td>6</td>\n",
       "    </tr>\n",
       "    <tr>\n",
       "      <th>2</th>\n",
       "      <td>11250</td>\n",
       "      <td>2001</td>\n",
       "      <td>920</td>\n",
       "      <td>866</td>\n",
       "      <td>2</td>\n",
       "      <td>3</td>\n",
       "      <td>6</td>\n",
       "    </tr>\n",
       "    <tr>\n",
       "      <th>3</th>\n",
       "      <td>9550</td>\n",
       "      <td>1915</td>\n",
       "      <td>961</td>\n",
       "      <td>756</td>\n",
       "      <td>1</td>\n",
       "      <td>3</td>\n",
       "      <td>7</td>\n",
       "    </tr>\n",
       "    <tr>\n",
       "      <th>4</th>\n",
       "      <td>14260</td>\n",
       "      <td>2000</td>\n",
       "      <td>1145</td>\n",
       "      <td>1053</td>\n",
       "      <td>2</td>\n",
       "      <td>4</td>\n",
       "      <td>9</td>\n",
       "    </tr>\n",
       "  </tbody>\n",
       "</table>\n",
       "</div>"
      ],
      "text/plain": [
       "   LotArea  YearBuilt  1stFlrSF  2ndFlrSF  FullBath  BedroomAbvGr  \\\n",
       "0     8450       2003       856       854         2             3   \n",
       "1     9600       1976      1262         0         2             3   \n",
       "2    11250       2001       920       866         2             3   \n",
       "3     9550       1915       961       756         1             3   \n",
       "4    14260       2000      1145      1053         2             4   \n",
       "\n",
       "   TotRmsAbvGrd  \n",
       "0             8  \n",
       "1             6  \n",
       "2             6  \n",
       "3             7  \n",
       "4             9  "
      ]
     },
     "execution_count": 7,
     "metadata": {},
     "output_type": "execute_result"
    }
   ],
   "source": [
    "# Review data\n",
    "# print description or statistics from X\n",
    "X.describe()\n",
    "\n",
    "# print the top few lines\n",
    "X.head()"
   ]
  },
  {
   "cell_type": "markdown",
   "id": "59558ab1",
   "metadata": {
    "papermill": {
     "duration": 0.005539,
     "end_time": "2023-02-13T00:37:27.650868",
     "exception": false,
     "start_time": "2023-02-13T00:37:27.645329",
     "status": "completed"
    },
    "tags": []
   },
   "source": [
    "## Step 3: Specify and Fit Model\n",
    "Create a `DecisionTreeRegressor` and save it iowa_model. Ensure you've done the relevant import from sklearn to run this command.\n",
    "\n",
    "Then fit the model you just created using the data in `X` and `y` that you saved above."
   ]
  },
  {
   "cell_type": "code",
   "execution_count": 8,
   "id": "8af06a20",
   "metadata": {
    "execution": {
     "iopub.execute_input": "2023-02-13T00:37:27.664683Z",
     "iopub.status.busy": "2023-02-13T00:37:27.664010Z",
     "iopub.status.idle": "2023-02-13T00:37:27.682193Z",
     "shell.execute_reply": "2023-02-13T00:37:27.681157Z"
    },
    "papermill": {
     "duration": 0.027611,
     "end_time": "2023-02-13T00:37:27.684350",
     "exception": false,
     "start_time": "2023-02-13T00:37:27.656739",
     "status": "completed"
    },
    "tags": []
   },
   "outputs": [
    {
     "data": {
      "application/javascript": [
       "parent.postMessage({\"jupyterEvent\": \"custom.exercise_interaction\", \"data\": {\"outcomeType\": 1, \"valueTowardsCompletion\": 0.25, \"interactionType\": 1, \"questionType\": 2, \"questionId\": \"3_CreateModel\", \"learnToolsVersion\": \"0.3.4\", \"failureMessage\": \"\", \"exceptionClass\": \"\", \"trace\": \"\"}}, \"*\")"
      ],
      "text/plain": [
       "<IPython.core.display.Javascript object>"
      ]
     },
     "metadata": {},
     "output_type": "display_data"
    },
    {
     "data": {
      "text/markdown": [
       "<span style=\"color:#33cc33\">Correct</span>"
      ],
      "text/plain": [
       "Correct"
      ]
     },
     "metadata": {},
     "output_type": "display_data"
    }
   ],
   "source": [
    "# from _ import _\n",
    "#specify the model. \n",
    "#For model reproducibility, set a numeric value for random_state when specifying the model\n",
    "from sklearn.tree import DecisionTreeRegressor\n",
    "iowa_model = DecisionTreeRegressor(random_state = 1)\n",
    "\n",
    "# Fit the model\n",
    "iowa_model.fit(X, y)\n",
    "\n",
    "# Check your answer\n",
    "step_3.check()"
   ]
  },
  {
   "cell_type": "code",
   "execution_count": 9,
   "id": "5022104e",
   "metadata": {
    "execution": {
     "iopub.execute_input": "2023-02-13T00:37:27.699098Z",
     "iopub.status.busy": "2023-02-13T00:37:27.698532Z",
     "iopub.status.idle": "2023-02-13T00:37:27.702437Z",
     "shell.execute_reply": "2023-02-13T00:37:27.701451Z"
    },
    "papermill": {
     "duration": 0.01407,
     "end_time": "2023-02-13T00:37:27.704385",
     "exception": false,
     "start_time": "2023-02-13T00:37:27.690315",
     "status": "completed"
    },
    "tags": []
   },
   "outputs": [],
   "source": [
    "# step_3.hint()\n",
    "# step_3.solution()"
   ]
  },
  {
   "cell_type": "markdown",
   "id": "cbdbbb1f",
   "metadata": {
    "papermill": {
     "duration": 0.005662,
     "end_time": "2023-02-13T00:37:27.715857",
     "exception": false,
     "start_time": "2023-02-13T00:37:27.710195",
     "status": "completed"
    },
    "tags": []
   },
   "source": [
    "## Step 4: Make Predictions\n",
    "Make predictions with the model's `predict` command using `X` as the data. Save the results to a variable called `predictions`."
   ]
  },
  {
   "cell_type": "code",
   "execution_count": 10,
   "id": "66d744ee",
   "metadata": {
    "execution": {
     "iopub.execute_input": "2023-02-13T00:37:27.729529Z",
     "iopub.status.busy": "2023-02-13T00:37:27.728689Z",
     "iopub.status.idle": "2023-02-13T00:37:27.742791Z",
     "shell.execute_reply": "2023-02-13T00:37:27.741693Z"
    },
    "papermill": {
     "duration": 0.0233,
     "end_time": "2023-02-13T00:37:27.744925",
     "exception": false,
     "start_time": "2023-02-13T00:37:27.721625",
     "status": "completed"
    },
    "tags": []
   },
   "outputs": [
    {
     "name": "stdout",
     "output_type": "stream",
     "text": [
      "[208500. 181500. 223500. ... 266500. 142125. 147500.]\n"
     ]
    },
    {
     "data": {
      "application/javascript": [
       "parent.postMessage({\"jupyterEvent\": \"custom.exercise_interaction\", \"data\": {\"outcomeType\": 1, \"valueTowardsCompletion\": 0.25, \"interactionType\": 1, \"questionType\": 2, \"questionId\": \"4_MakePredictions\", \"learnToolsVersion\": \"0.3.4\", \"failureMessage\": \"\", \"exceptionClass\": \"\", \"trace\": \"\"}}, \"*\")"
      ],
      "text/plain": [
       "<IPython.core.display.Javascript object>"
      ]
     },
     "metadata": {},
     "output_type": "display_data"
    },
    {
     "data": {
      "text/markdown": [
       "<span style=\"color:#33cc33\">Correct</span>"
      ],
      "text/plain": [
       "Correct"
      ]
     },
     "metadata": {},
     "output_type": "display_data"
    }
   ],
   "source": [
    "predictions = iowa_model.predict(X)\n",
    "print(predictions)\n",
    "\n",
    "# Check your answer\n",
    "step_4.check()"
   ]
  },
  {
   "cell_type": "code",
   "execution_count": 11,
   "id": "8eaeffd3",
   "metadata": {
    "execution": {
     "iopub.execute_input": "2023-02-13T00:37:27.759905Z",
     "iopub.status.busy": "2023-02-13T00:37:27.759044Z",
     "iopub.status.idle": "2023-02-13T00:37:27.763643Z",
     "shell.execute_reply": "2023-02-13T00:37:27.762556Z"
    },
    "papermill": {
     "duration": 0.014401,
     "end_time": "2023-02-13T00:37:27.765815",
     "exception": false,
     "start_time": "2023-02-13T00:37:27.751414",
     "status": "completed"
    },
    "tags": []
   },
   "outputs": [],
   "source": [
    "# step_4.hint()\n",
    "# step_4.solution()"
   ]
  },
  {
   "cell_type": "markdown",
   "id": "143f656c",
   "metadata": {
    "papermill": {
     "duration": 0.006038,
     "end_time": "2023-02-13T00:37:27.778228",
     "exception": false,
     "start_time": "2023-02-13T00:37:27.772190",
     "status": "completed"
    },
    "tags": []
   },
   "source": [
    "## Think About Your Results\n",
    "\n",
    "Use the `head` method to compare the top few predictions to the actual home values (in `y`) for those same homes. Anything surprising?\n"
   ]
  },
  {
   "cell_type": "code",
   "execution_count": 12,
   "id": "846de4fa",
   "metadata": {
    "execution": {
     "iopub.execute_input": "2023-02-13T00:37:27.792871Z",
     "iopub.status.busy": "2023-02-13T00:37:27.792184Z",
     "iopub.status.idle": "2023-02-13T00:37:27.799277Z",
     "shell.execute_reply": "2023-02-13T00:37:27.797805Z"
    },
    "papermill": {
     "duration": 0.01693,
     "end_time": "2023-02-13T00:37:27.801396",
     "exception": false,
     "start_time": "2023-02-13T00:37:27.784466",
     "status": "completed"
    },
    "tags": []
   },
   "outputs": [
    {
     "name": "stdout",
     "output_type": "stream",
     "text": [
      "0    208500\n",
      "1    181500\n",
      "2    223500\n",
      "3    140000\n",
      "4    250000\n",
      "Name: SalePrice, dtype: int64\n",
      "[208500. 181500. 223500. 140000. 250000.]\n"
     ]
    }
   ],
   "source": [
    "# You can write code in this cell\n",
    "print(y.head())\n",
    "print(predictions[:5])"
   ]
  },
  {
   "cell_type": "markdown",
   "id": "498c7ca2",
   "metadata": {
    "papermill": {
     "duration": 0.005936,
     "end_time": "2023-02-13T00:37:27.813691",
     "exception": false,
     "start_time": "2023-02-13T00:37:27.807755",
     "status": "completed"
    },
    "tags": []
   },
   "source": [
    "It's natural to ask how accurate the model's predictions will be and how you can improve that. That will be you're next step.\n",
    "\n",
    "# Keep Going\n",
    "\n",
    "You are ready for **[Model Validation](https://www.kaggle.com/dansbecker/model-validation).**\n"
   ]
  },
  {
   "cell_type": "markdown",
   "id": "1d5fe7e1",
   "metadata": {
    "papermill": {
     "duration": 0.005984,
     "end_time": "2023-02-13T00:37:27.825769",
     "exception": false,
     "start_time": "2023-02-13T00:37:27.819785",
     "status": "completed"
    },
    "tags": []
   },
   "source": [
    "---\n",
    "\n",
    "\n",
    "\n",
    "\n",
    "*Have questions or comments? Visit the [course discussion forum](https://www.kaggle.com/learn/intro-to-machine-learning/discussion) to chat with other learners.*"
   ]
  }
 ],
 "metadata": {
  "kernelspec": {
   "display_name": "Python 3",
   "language": "python",
   "name": "python3"
  },
  "language_info": {
   "codemirror_mode": {
    "name": "ipython",
    "version": 3
   },
   "file_extension": ".py",
   "mimetype": "text/x-python",
   "name": "python",
   "nbconvert_exporter": "python",
   "pygments_lexer": "ipython3",
   "version": "3.7.12"
  },
  "papermill": {
   "default_parameters": {},
   "duration": 10.733756,
   "end_time": "2023-02-13T00:37:28.653718",
   "environment_variables": {},
   "exception": null,
   "input_path": "__notebook__.ipynb",
   "output_path": "__notebook__.ipynb",
   "parameters": {},
   "start_time": "2023-02-13T00:37:17.919962",
   "version": "2.3.4"
  }
 },
 "nbformat": 4,
 "nbformat_minor": 5
}
