{
 "cells": [
  {
   "cell_type": "markdown",
   "id": "cf02fd16",
   "metadata": {
    "papermill": {
     "duration": 0.005958,
     "end_time": "2023-02-13T06:39:36.917289",
     "exception": false,
     "start_time": "2023-02-13T06:39:36.911331",
     "status": "completed"
    },
    "tags": []
   },
   "source": [
    "**This notebook is an exercise in the [Introduction to Machine Learning](https://www.kaggle.com/learn/intro-to-machine-learning) course.  You can reference the tutorial at [this link](https://www.kaggle.com/dansbecker/model-validation).**\n",
    "\n",
    "---\n"
   ]
  },
  {
   "cell_type": "markdown",
   "id": "1edcdfad",
   "metadata": {
    "papermill": {
     "duration": 0.004352,
     "end_time": "2023-02-13T06:39:36.926475",
     "exception": false,
     "start_time": "2023-02-13T06:39:36.922123",
     "status": "completed"
    },
    "tags": []
   },
   "source": [
    "## Recap\n",
    "You've built a model. In this exercise you will test how good your model is.\n",
    "\n",
    "Run the cell below to set up your coding environment where the previous exercise left off."
   ]
  },
  {
   "cell_type": "code",
   "execution_count": 1,
   "id": "c4cedc6c",
   "metadata": {
    "execution": {
     "iopub.execute_input": "2023-02-13T06:39:36.938171Z",
     "iopub.status.busy": "2023-02-13T06:39:36.937617Z",
     "iopub.status.idle": "2023-02-13T06:39:38.619612Z",
     "shell.execute_reply": "2023-02-13T06:39:38.616966Z"
    },
    "papermill": {
     "duration": 1.691478,
     "end_time": "2023-02-13T06:39:38.622503",
     "exception": false,
     "start_time": "2023-02-13T06:39:36.931025",
     "status": "completed"
    },
    "tags": []
   },
   "outputs": [
    {
     "name": "stdout",
     "output_type": "stream",
     "text": [
      "First in-sample predictions: [208500. 181500. 223500. 140000. 250000.]\n",
      "Actual target values for those homes: [208500, 181500, 223500, 140000, 250000]\n",
      "Setup Complete\n"
     ]
    }
   ],
   "source": [
    "# Code you have previously used to load data\n",
    "import pandas as pd\n",
    "from sklearn.tree import DecisionTreeRegressor\n",
    "\n",
    "# Path of the file to read\n",
    "iowa_file_path = '../input/home-data-for-ml-course/train.csv'\n",
    "\n",
    "home_data = pd.read_csv(iowa_file_path)\n",
    "y = home_data.SalePrice\n",
    "feature_columns = ['LotArea', 'YearBuilt', '1stFlrSF', '2ndFlrSF', 'FullBath', 'BedroomAbvGr', 'TotRmsAbvGrd']\n",
    "X = home_data[feature_columns]\n",
    "\n",
    "# Specify Model\n",
    "iowa_model = DecisionTreeRegressor()\n",
    "# Fit Model\n",
    "iowa_model.fit(X, y)\n",
    "\n",
    "print(\"First in-sample predictions:\", iowa_model.predict(X.head()))\n",
    "print(\"Actual target values for those homes:\", y.head().tolist())\n",
    "\n",
    "# Set up code checking\n",
    "from learntools.core import binder\n",
    "binder.bind(globals())\n",
    "from learntools.machine_learning.ex4 import *\n",
    "print(\"Setup Complete\")"
   ]
  },
  {
   "cell_type": "markdown",
   "id": "1d2c4097",
   "metadata": {
    "papermill": {
     "duration": 0.004466,
     "end_time": "2023-02-13T06:39:38.632202",
     "exception": false,
     "start_time": "2023-02-13T06:39:38.627736",
     "status": "completed"
    },
    "tags": []
   },
   "source": [
    "# Exercises\n",
    "\n",
    "## Step 1: Split Your Data\n",
    "Use the `train_test_split` function to split up your data.\n",
    "\n",
    "Give it the argument `random_state=1` so the `check` functions know what to expect when verifying your code.\n",
    "\n",
    "Recall, your features are loaded in the DataFrame **X** and your target is loaded in **y**.\n"
   ]
  },
  {
   "cell_type": "code",
   "execution_count": 2,
   "id": "7be90cf0",
   "metadata": {
    "execution": {
     "iopub.execute_input": "2023-02-13T06:39:38.643929Z",
     "iopub.status.busy": "2023-02-13T06:39:38.643367Z",
     "iopub.status.idle": "2023-02-13T06:39:38.662650Z",
     "shell.execute_reply": "2023-02-13T06:39:38.661144Z"
    },
    "papermill": {
     "duration": 0.028414,
     "end_time": "2023-02-13T06:39:38.665251",
     "exception": false,
     "start_time": "2023-02-13T06:39:38.636837",
     "status": "completed"
    },
    "tags": []
   },
   "outputs": [
    {
     "data": {
      "application/javascript": [
       "parent.postMessage({\"jupyterEvent\": \"custom.exercise_interaction\", \"data\": {\"outcomeType\": 1, \"valueTowardsCompletion\": 0.25, \"interactionType\": 1, \"questionType\": 2, \"questionId\": \"1_SplitData\", \"learnToolsVersion\": \"0.3.4\", \"failureMessage\": \"\", \"exceptionClass\": \"\", \"trace\": \"\"}}, \"*\")"
      ],
      "text/plain": [
       "<IPython.core.display.Javascript object>"
      ]
     },
     "metadata": {},
     "output_type": "display_data"
    },
    {
     "data": {
      "text/markdown": [
       "<span style=\"color:#33cc33\">Correct</span>"
      ],
      "text/plain": [
       "Correct"
      ]
     },
     "metadata": {},
     "output_type": "display_data"
    }
   ],
   "source": [
    "# Import the train_test_split function and uncomment\n",
    "from sklearn.model_selection import train_test_split\n",
    "\n",
    "# fill in and uncomment\n",
    "train_X, val_X, train_y, val_y = train_test_split(X, y, random_state = 1)\n",
    "\n",
    "# Check your answer\n",
    "step_1.check()"
   ]
  },
  {
   "cell_type": "code",
   "execution_count": 3,
   "id": "44fcd9f1",
   "metadata": {
    "execution": {
     "iopub.execute_input": "2023-02-13T06:39:38.679354Z",
     "iopub.status.busy": "2023-02-13T06:39:38.677657Z",
     "iopub.status.idle": "2023-02-13T06:39:38.683340Z",
     "shell.execute_reply": "2023-02-13T06:39:38.682269Z"
    },
    "papermill": {
     "duration": 0.015196,
     "end_time": "2023-02-13T06:39:38.685648",
     "exception": false,
     "start_time": "2023-02-13T06:39:38.670452",
     "status": "completed"
    },
    "tags": []
   },
   "outputs": [],
   "source": [
    "# The lines below will show you a hint or the solution.\n",
    "#step_1.hint() \n",
    "#step_1.solution()\n"
   ]
  },
  {
   "cell_type": "markdown",
   "id": "84fe8861",
   "metadata": {
    "papermill": {
     "duration": 0.004693,
     "end_time": "2023-02-13T06:39:38.695356",
     "exception": false,
     "start_time": "2023-02-13T06:39:38.690663",
     "status": "completed"
    },
    "tags": []
   },
   "source": [
    "## Step 2: Specify and Fit the Model\n",
    "\n",
    "Create a `DecisionTreeRegressor` model and fit it to the relevant data.\n",
    "Set `random_state` to 1 again when creating the model."
   ]
  },
  {
   "cell_type": "code",
   "execution_count": 4,
   "id": "44ba76cf",
   "metadata": {
    "execution": {
     "iopub.execute_input": "2023-02-13T06:39:38.708417Z",
     "iopub.status.busy": "2023-02-13T06:39:38.707135Z",
     "iopub.status.idle": "2023-02-13T06:39:38.739904Z",
     "shell.execute_reply": "2023-02-13T06:39:38.738289Z"
    },
    "papermill": {
     "duration": 0.042183,
     "end_time": "2023-02-13T06:39:38.742654",
     "exception": false,
     "start_time": "2023-02-13T06:39:38.700471",
     "status": "completed"
    },
    "tags": []
   },
   "outputs": [
    {
     "name": "stdout",
     "output_type": "stream",
     "text": [
      "[186500. 184000. 130000.  92000. 164500. 220000. 335000. 144152. 215000.\n",
      " 262000.]\n",
      "[186500. 184000. 130000.  92000. 164500. 220000. 335000. 144152. 215000.\n",
      " 262000.]\n"
     ]
    },
    {
     "data": {
      "application/javascript": [
       "parent.postMessage({\"jupyterEvent\": \"custom.exercise_interaction\", \"data\": {\"outcomeType\": 1, \"valueTowardsCompletion\": 0.25, \"interactionType\": 1, \"questionType\": 2, \"questionId\": \"2_FitModelWithTrain\", \"learnToolsVersion\": \"0.3.4\", \"failureMessage\": \"\", \"exceptionClass\": \"\", \"trace\": \"\"}}, \"*\")"
      ],
      "text/plain": [
       "<IPython.core.display.Javascript object>"
      ]
     },
     "metadata": {},
     "output_type": "display_data"
    },
    {
     "data": {
      "text/markdown": [
       "<span style=\"color:#33cc33\">Correct</span>"
      ],
      "text/plain": [
       "Correct"
      ]
     },
     "metadata": {},
     "output_type": "display_data"
    }
   ],
   "source": [
    "# You imported DecisionTreeRegressor in your last exercise\n",
    "# and that code has been copied to the setup code above. So, no need to\n",
    "# import it again\n",
    "\n",
    "# Specify the model\n",
    "iowa_model = DecisionTreeRegressor(random_state = 1)\n",
    "\n",
    "# Fit iowa_model with the training data.\n",
    "iowa_model.fit(train_X, train_y)\n",
    "\n",
    "# Check your answer\n",
    "step_2.check()"
   ]
  },
  {
   "cell_type": "code",
   "execution_count": 5,
   "id": "f5917dc3",
   "metadata": {
    "execution": {
     "iopub.execute_input": "2023-02-13T06:39:38.756339Z",
     "iopub.status.busy": "2023-02-13T06:39:38.755655Z",
     "iopub.status.idle": "2023-02-13T06:39:38.760459Z",
     "shell.execute_reply": "2023-02-13T06:39:38.759019Z"
    },
    "papermill": {
     "duration": 0.015324,
     "end_time": "2023-02-13T06:39:38.763756",
     "exception": false,
     "start_time": "2023-02-13T06:39:38.748432",
     "status": "completed"
    },
    "tags": []
   },
   "outputs": [],
   "source": [
    "#step_2.hint()\n",
    "# step_2.solution()"
   ]
  },
  {
   "cell_type": "markdown",
   "id": "30128172",
   "metadata": {
    "papermill": {
     "duration": 0.005412,
     "end_time": "2023-02-13T06:39:38.775853",
     "exception": false,
     "start_time": "2023-02-13T06:39:38.770441",
     "status": "completed"
    },
    "tags": []
   },
   "source": [
    "## Step 3: Make Predictions with Validation data\n"
   ]
  },
  {
   "cell_type": "code",
   "execution_count": 6,
   "id": "2be764c3",
   "metadata": {
    "execution": {
     "iopub.execute_input": "2023-02-13T06:39:38.789478Z",
     "iopub.status.busy": "2023-02-13T06:39:38.789021Z",
     "iopub.status.idle": "2023-02-13T06:39:38.803999Z",
     "shell.execute_reply": "2023-02-13T06:39:38.802503Z"
    },
    "papermill": {
     "duration": 0.025519,
     "end_time": "2023-02-13T06:39:38.807133",
     "exception": false,
     "start_time": "2023-02-13T06:39:38.781614",
     "status": "completed"
    },
    "tags": []
   },
   "outputs": [
    {
     "data": {
      "application/javascript": [
       "parent.postMessage({\"jupyterEvent\": \"custom.exercise_interaction\", \"data\": {\"outcomeType\": 1, \"valueTowardsCompletion\": 0.25, \"interactionType\": 1, \"questionType\": 2, \"questionId\": \"3_ValPreds\", \"learnToolsVersion\": \"0.3.4\", \"failureMessage\": \"\", \"exceptionClass\": \"\", \"trace\": \"\"}}, \"*\")"
      ],
      "text/plain": [
       "<IPython.core.display.Javascript object>"
      ]
     },
     "metadata": {},
     "output_type": "display_data"
    },
    {
     "data": {
      "text/markdown": [
       "<span style=\"color:#33cc33\">Correct</span>"
      ],
      "text/plain": [
       "Correct"
      ]
     },
     "metadata": {},
     "output_type": "display_data"
    }
   ],
   "source": [
    "# Predict with all validation observations\n",
    "val_predictions = iowa_model.predict(val_X)\n",
    "\n",
    "# Check your answer\n",
    "step_3.check()"
   ]
  },
  {
   "cell_type": "code",
   "execution_count": 7,
   "id": "0a779052",
   "metadata": {
    "execution": {
     "iopub.execute_input": "2023-02-13T06:39:38.821001Z",
     "iopub.status.busy": "2023-02-13T06:39:38.820197Z",
     "iopub.status.idle": "2023-02-13T06:39:38.825941Z",
     "shell.execute_reply": "2023-02-13T06:39:38.824450Z"
    },
    "papermill": {
     "duration": 0.015745,
     "end_time": "2023-02-13T06:39:38.828722",
     "exception": false,
     "start_time": "2023-02-13T06:39:38.812977",
     "status": "completed"
    },
    "tags": []
   },
   "outputs": [],
   "source": [
    "# step_3.hint()\n",
    "# step_3.solution()"
   ]
  },
  {
   "cell_type": "markdown",
   "id": "54ffc9e9",
   "metadata": {
    "papermill": {
     "duration": 0.005368,
     "end_time": "2023-02-13T06:39:38.839922",
     "exception": false,
     "start_time": "2023-02-13T06:39:38.834554",
     "status": "completed"
    },
    "tags": []
   },
   "source": [
    "Inspect your predictions and actual values from validation data."
   ]
  },
  {
   "cell_type": "code",
   "execution_count": 8,
   "id": "d92f2e6a",
   "metadata": {
    "execution": {
     "iopub.execute_input": "2023-02-13T06:39:38.853189Z",
     "iopub.status.busy": "2023-02-13T06:39:38.852789Z",
     "iopub.status.idle": "2023-02-13T06:39:38.862266Z",
     "shell.execute_reply": "2023-02-13T06:39:38.861038Z"
    },
    "papermill": {
     "duration": 0.018964,
     "end_time": "2023-02-13T06:39:38.864552",
     "exception": false,
     "start_time": "2023-02-13T06:39:38.845588",
     "status": "completed"
    },
    "tags": []
   },
   "outputs": [
    {
     "name": "stdout",
     "output_type": "stream",
     "text": [
      "Validation Prediction: [186500. 184000. 130000.  92000. 164500.]\n",
      "Actual Prices: [231500, 179500, 122000, 84500, 142000]\n"
     ]
    }
   ],
   "source": [
    "# print the top few validation predictions\n",
    "print(\"Validation Prediction:\", iowa_model.predict(val_X.head()))\n",
    "# print the top few actual prices from validation data\n",
    "print(\"Actual Prices:\", val_y.head().tolist())"
   ]
  },
  {
   "cell_type": "markdown",
   "id": "2ea6fd09",
   "metadata": {
    "papermill": {
     "duration": 0.00528,
     "end_time": "2023-02-13T06:39:38.875488",
     "exception": false,
     "start_time": "2023-02-13T06:39:38.870208",
     "status": "completed"
    },
    "tags": []
   },
   "source": [
    "What do you notice that is different from what you saw with in-sample predictions (which are printed after the top code cell in this page).\n",
    "\n",
    "Do you remember why validation predictions differ from in-sample (or training) predictions? This is an important idea from the last lesson.\n",
    "\n",
    "## Step 4: Calculate the Mean Absolute Error in Validation Data\n"
   ]
  },
  {
   "cell_type": "code",
   "execution_count": 9,
   "id": "948da7b6",
   "metadata": {
    "execution": {
     "iopub.execute_input": "2023-02-13T06:39:38.890813Z",
     "iopub.status.busy": "2023-02-13T06:39:38.889117Z",
     "iopub.status.idle": "2023-02-13T06:39:38.902413Z",
     "shell.execute_reply": "2023-02-13T06:39:38.901143Z"
    },
    "papermill": {
     "duration": 0.023427,
     "end_time": "2023-02-13T06:39:38.905153",
     "exception": false,
     "start_time": "2023-02-13T06:39:38.881726",
     "status": "completed"
    },
    "tags": []
   },
   "outputs": [
    {
     "name": "stdout",
     "output_type": "stream",
     "text": [
      "29652.931506849316\n"
     ]
    },
    {
     "data": {
      "application/javascript": [
       "parent.postMessage({\"jupyterEvent\": \"custom.exercise_interaction\", \"data\": {\"outcomeType\": 1, \"valueTowardsCompletion\": 0.25, \"interactionType\": 1, \"questionType\": 1, \"questionId\": \"4_MAE\", \"learnToolsVersion\": \"0.3.4\", \"failureMessage\": \"\", \"exceptionClass\": \"\", \"trace\": \"\"}}, \"*\")"
      ],
      "text/plain": [
       "<IPython.core.display.Javascript object>"
      ]
     },
     "metadata": {},
     "output_type": "display_data"
    },
    {
     "data": {
      "text/markdown": [
       "<span style=\"color:#33cc33\">Correct</span>"
      ],
      "text/plain": [
       "Correct"
      ]
     },
     "metadata": {},
     "output_type": "display_data"
    }
   ],
   "source": [
    "from sklearn.metrics import mean_absolute_error\n",
    "val_mae = mean_absolute_error(val_predictions, val_y)\n",
    "\n",
    "# uncomment following line to see the validation_mae\n",
    "print(val_mae)\n",
    "\n",
    "# Check your answer\n",
    "step_4.check()"
   ]
  },
  {
   "cell_type": "code",
   "execution_count": 10,
   "id": "61092e19",
   "metadata": {
    "execution": {
     "iopub.execute_input": "2023-02-13T06:39:38.921450Z",
     "iopub.status.busy": "2023-02-13T06:39:38.920022Z",
     "iopub.status.idle": "2023-02-13T06:39:38.926597Z",
     "shell.execute_reply": "2023-02-13T06:39:38.925136Z"
    },
    "papermill": {
     "duration": 0.017658,
     "end_time": "2023-02-13T06:39:38.929329",
     "exception": false,
     "start_time": "2023-02-13T06:39:38.911671",
     "status": "completed"
    },
    "tags": []
   },
   "outputs": [],
   "source": [
    "# step_4.hint()\n",
    "#step_4.solution()"
   ]
  },
  {
   "cell_type": "markdown",
   "id": "a500dae8",
   "metadata": {
    "papermill": {
     "duration": 0.005517,
     "end_time": "2023-02-13T06:39:38.940995",
     "exception": false,
     "start_time": "2023-02-13T06:39:38.935478",
     "status": "completed"
    },
    "tags": []
   },
   "source": [
    "Is that MAE good?  There isn't a general rule for what values are good that applies across applications. But you'll see how to use (and improve) this number in the next step.\n",
    "\n",
    "# Keep Going\n",
    "\n",
    "You are ready for **[Underfitting and Overfitting](https://www.kaggle.com/dansbecker/underfitting-and-overfitting).**\n"
   ]
  },
  {
   "cell_type": "markdown",
   "id": "88fef090",
   "metadata": {
    "papermill": {
     "duration": 0.005468,
     "end_time": "2023-02-13T06:39:38.953321",
     "exception": false,
     "start_time": "2023-02-13T06:39:38.947853",
     "status": "completed"
    },
    "tags": []
   },
   "source": [
    "---\n",
    "\n",
    "\n",
    "\n",
    "\n",
    "*Have questions or comments? Visit the [course discussion forum](https://www.kaggle.com/learn/intro-to-machine-learning/discussion) to chat with other learners.*"
   ]
  }
 ],
 "metadata": {
  "kernelspec": {
   "display_name": "Python 3",
   "language": "python",
   "name": "python3"
  },
  "language_info": {
   "codemirror_mode": {
    "name": "ipython",
    "version": 3
   },
   "file_extension": ".py",
   "mimetype": "text/x-python",
   "name": "python",
   "nbconvert_exporter": "python",
   "pygments_lexer": "ipython3",
   "version": "3.7.12"
  },
  "papermill": {
   "default_parameters": {},
   "duration": 13.246706,
   "end_time": "2023-02-13T06:39:40.085019",
   "environment_variables": {},
   "exception": null,
   "input_path": "__notebook__.ipynb",
   "output_path": "__notebook__.ipynb",
   "parameters": {},
   "start_time": "2023-02-13T06:39:26.838313",
   "version": "2.3.4"
  }
 },
 "nbformat": 4,
 "nbformat_minor": 5
}
